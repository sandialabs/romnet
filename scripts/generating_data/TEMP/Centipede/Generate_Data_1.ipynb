{
 "cells": [
  {
   "cell_type": "markdown",
   "metadata": {},
   "source": [
    "# Mass-Spring-Damper System: Generating Training and Test Data"
   ]
  },
  {
   "cell_type": "code",
   "execution_count": 1,
   "metadata": {},
   "outputs": [
    {
     "name": "stdout",
     "output_type": "stream",
     "text": [
      "3.9.12 (main, Mar 26 2022, 15:51:13) \n",
      "[Clang 12.0.0 (clang-1200.0.32.29)]\n"
     ]
    },
    {
     "name": "stderr",
     "output_type": "stream",
     "text": [
      "Missing colon in file PosixPath('/Users/sventur/.matplotlib/stylelib/paper_2columns.mplstyle'), line 1 ('f#### MATPLOTLIBRC FORMAT')\n"
     ]
    }
   ],
   "source": [
    "### Importing Libraries\n",
    "\n",
    "import sys\n",
    "print(sys.version)\n",
    "import os\n",
    "import time\n",
    "\n",
    "\n",
    "### Defining WORKSPACE_PATH\n",
    "\n",
    "# WORKSPACE_PATH = os.environ['WORKSPACE_PATH']\n",
    "WORKSPACE_PATH = os.path.join(os.getcwd(), '../../../../../')\n",
    "ROMNet_fld     = os.path.join(WORKSPACE_PATH, 'ROMNet/romnet/')\n",
    "\n",
    "\n",
    "\n",
    "### Importing External Libraries\n",
    "\n",
    "import numpy                             as np\n",
    "import pandas                            as pd\n",
    "\n",
    "\n",
    "### Importing Matplotlib and Its Style\n",
    "\n",
    "import matplotlib.pyplot                 as plt\n",
    "\n",
    "#plt.style.use(os.path.join(WORKSPACE_PATH, 'ROMNet/romnet/extra/postprocessing/presentation.mplstyle'))\n",
    "#plt.style.use(os.path.join(WORKSPACE_PATH, 'ROMNet/romnet/extra/postprocessing/zoomed.mplstyle'))\n",
    "plt.style.use(os.path.join(WORKSPACE_PATH, 'ROMNet/romnet/extra/postprocessing/paper_1column.mplstyle'))\n",
    "#plt.style.use(os.path.join(WORKSPACE_PATH, 'ROMNet/romnet/extra/postprocessing/paper_2columns.mplstyle'))\n",
    "\n",
    "\n",
    "from scipy.integrate import solve_ivp\n",
    "import pyDOE\n",
    "# from PCAfold         import PCA          as PCAA"
   ]
  },
  {
   "cell_type": "markdown",
   "metadata": {},
   "source": [
    "## Defining Input Variables"
   ]
  },
  {
   "cell_type": "code",
   "execution_count": 2,
   "metadata": {},
   "outputs": [],
   "source": [
    "OutputDir   = os.path.join(WORKSPACE_PATH, 'ROMNet/Data/Centipede_24Vars_T/')\n",
    "FigDir      = os.path.join(WORKSPACE_PATH, '../Desktop/Paper_Figures_DeepONet_TEMP/')\n",
    "\n",
    "n_input     = 24\n",
    "n_output    = 26\n",
    "\n",
    "test_perc     = 0.05\n",
    "valid_perc    = 0.25\n",
    "\n",
    "ColorVec    = ['#190707', '#dd3232', '#0065a9', '#348a00','#985396','#f68b69']\n",
    "\n",
    "try:\n",
    "    os.makedirs(OutputDir)\n",
    "except OSError as e:\n",
    "    pass"
   ]
  },
  {
   "cell_type": "code",
   "execution_count": null,
   "metadata": {},
   "outputs": [],
   "source": []
  },
  {
   "cell_type": "code",
   "execution_count": null,
   "metadata": {},
   "outputs": [],
   "source": []
  },
  {
   "cell_type": "code",
   "execution_count": null,
   "metadata": {},
   "outputs": [],
   "source": []
  },
  {
   "cell_type": "code",
   "execution_count": null,
   "metadata": {},
   "outputs": [],
   "source": []
  },
  {
   "cell_type": "code",
   "execution_count": null,
   "metadata": {},
   "outputs": [],
   "source": []
  },
  {
   "cell_type": "code",
   "execution_count": 4,
   "metadata": {},
   "outputs": [],
   "source": [
    "TempData           = pd.read_csv(OutputDir+'/DATA/temperatures.dat', delim_whitespace=True, header=None)\n",
    "\n",
    "InputData          = pd.read_csv(OutputDir+'/DATA/input24.dat', delim_whitespace=True, header=None)\n",
    "NData              = len(InputData)\n",
    "InputData          = np.repeat(InputData.to_numpy(), 26, axis=0)\n",
    "InputData          = pd.DataFrame(InputData)\n",
    "InputData.columns  = input_names\n",
    "InputData['T']     = np.reshape(np.repeat(TempData.to_numpy().T, NData, axis=0).T, -1)\n",
    "\n",
    "OutputData         = pd.read_csv(OutputDir+'/DATA/output24.dat', delim_whitespace=True, header=None)\n",
    "OutputData         = OutputData.to_numpy().T.reshape(-1)[...,np.newaxis]\n",
    "OutputData         = pd.DataFrame(OutputData)\n",
    "OutputData.columns = output_names"
   ]
  },
  {
   "cell_type": "code",
   "execution_count": null,
   "metadata": {},
   "outputs": [],
   "source": []
  },
  {
   "cell_type": "code",
   "execution_count": null,
   "metadata": {},
   "outputs": [],
   "source": []
  },
  {
   "cell_type": "code",
   "execution_count": null,
   "metadata": {},
   "outputs": [],
   "source": []
  },
  {
   "cell_type": "code",
   "execution_count": 8,
   "metadata": {},
   "outputs": [],
   "source": [
    "#hist = InputData.hist(bins=50)\n",
    "\n",
    "from sklearn import preprocessing\n",
    "\n",
    "scaler     = preprocessing.StandardScaler().fit(InputData)\n",
    "input_mean = scaler.mean_\n",
    "input_std  = scaler.scale_\n",
    "input_moments = pd.DataFrame(np.concatenate([input_mean[np.newaxis,...], input_std[np.newaxis,...]], axis=0), columns=input_names+['T'])\n",
    "input_moments.to_csv(OutputDir+'/DATA/Input_Moments.csv', index=False)\n",
    "\n",
    "InputData_scaled = pd.DataFrame(scaler.transform(InputData), columns = input_names+['T'])\n",
    "\n",
    "\n",
    "\n",
    "scaler      = preprocessing.StandardScaler().fit(OutputData)\n",
    "output_mean = scaler.mean_\n",
    "output_std  = scaler.scale_\n",
    "output_moments = pd.DataFrame(np.concatenate([output_mean[np.newaxis,...], output_std[np.newaxis,...]], axis=0), columns=output_names)\n",
    "output_moments.to_csv(OutputDir+'/DATA/Output_Moments.csv', index=False)\n",
    "\n",
    "\n",
    "OutputData_scaled = pd.DataFrame(scaler.transform(OutputData), columns = output_names)"
   ]
  },
  {
   "cell_type": "code",
   "execution_count": null,
   "metadata": {},
   "outputs": [],
   "source": []
  },
  {
   "cell_type": "code",
   "execution_count": null,
   "metadata": {},
   "outputs": [],
   "source": []
  },
  {
   "cell_type": "code",
   "execution_count": null,
   "metadata": {},
   "outputs": [],
   "source": []
  },
  {
   "cell_type": "code",
   "execution_count": 9,
   "metadata": {},
   "outputs": [],
   "source": [
    "from sklearn.model_selection import train_test_split\n",
    "\n",
    "try:\n",
    "    os.makedirs(OutputDir+'/train/')\n",
    "except:\n",
    "    pass\n",
    "try:\n",
    "    os.makedirs(OutputDir+'/valid/')\n",
    "except:\n",
    "    pass\n",
    "try:\n",
    "    os.makedirs(OutputDir+'/test/')\n",
    "except:\n",
    "    pass"
   ]
  },
  {
   "cell_type": "code",
   "execution_count": 11,
   "metadata": {},
   "outputs": [],
   "source": [
    "data_id = 'pts'\n",
    "\n",
    "Data_ics                     = InputData\n",
    "n_points_ics                 = len(Data_ics)\n",
    "\n",
    "idx_ics                      = np.arange(n_points_ics)\n",
    "other_idx, test_idx          = train_test_split(idx_ics,   test_size=test_perc, random_state=17)\n",
    "train_idx, valid_idx         = train_test_split(other_idx, test_size=valid_perc, random_state=41)\n",
    "\n",
    "n_valid                      = len(valid_idx)\n",
    "n_train                      = len(train_idx)\n",
    "\n",
    "try:\n",
    "    os.makedirs(OutputDir+'/train/'+data_id+'/')\n",
    "except:\n",
    "    pass\n",
    "try:\n",
    "    os.makedirs(OutputDir+'/valid/'+data_id+'/')\n",
    "except:\n",
    "    pass\n",
    "try:\n",
    "    os.makedirs(OutputDir+'/test/'+data_id+'/')\n",
    "except:\n",
    "    pass\n",
    "\n",
    "DataInput  = InputData_scaled[input_names+['T']]\n",
    "DataInput.iloc[train_idx].to_csv(OutputDir+'/train/'+data_id+'/Input.csv', index=False)\n",
    "DataInput.iloc[valid_idx].to_csv(OutputDir+'/valid/'+data_id+'/Input.csv', index=False)\n",
    "DataInput.iloc[test_idx].to_csv(OutputDir+'/test/'+data_id+'/Input.csv', index=False)\n",
    "\n",
    "DataOutput = OutputData_scaled[output_names]\n",
    "DataOutput.iloc[train_idx].to_csv(OutputDir+'/train/'+data_id+'/Output.csv', index=False)\n",
    "DataOutput.iloc[valid_idx].to_csv(OutputDir+'/valid/'+data_id+'/Output.csv', index=False)\n",
    "DataOutput.iloc[test_idx].to_csv(OutputDir+'/test/'+data_id+'/Output.csv', index=False)"
   ]
  },
  {
   "cell_type": "code",
   "execution_count": null,
   "metadata": {},
   "outputs": [],
   "source": []
  },
  {
   "cell_type": "code",
   "execution_count": null,
   "metadata": {},
   "outputs": [],
   "source": []
  },
  {
   "cell_type": "code",
   "execution_count": null,
   "metadata": {},
   "outputs": [],
   "source": []
  }
 ],
 "metadata": {
  "kernelspec": {
   "display_name": "Python 3 (ipykernel)",
   "language": "python",
   "name": "python3"
  },
  "language_info": {
   "codemirror_mode": {
    "name": "ipython",
    "version": 3
   },
   "file_extension": ".py",
   "mimetype": "text/x-python",
   "name": "python",
   "nbconvert_exporter": "python",
   "pygments_lexer": "ipython3",
   "version": "3.9.12"
  }
 },
 "nbformat": 4,
 "nbformat_minor": 4
}
