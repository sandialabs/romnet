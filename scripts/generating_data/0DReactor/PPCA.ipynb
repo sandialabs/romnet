{
 "cells": [
  {
   "cell_type": "code",
   "execution_count": 1,
   "id": "f5b9279c-65a1-4cec-80f4-48c3be1982e6",
   "metadata": {},
   "outputs": [
    {
     "name": "stderr",
     "output_type": "stream",
     "text": [
      "Missing colon in file PosixPath('/Users/sventur/.matplotlib/stylelib/paper_2columns.mplstyle'), line 1 ('f#### MATPLOTLIBRC FORMAT')\n"
     ]
    }
   ],
   "source": [
    "import functools\n",
    "import warnings\n",
    "\n",
    "import matplotlib.pyplot as plt\n",
    "import numpy as np\n",
    "import seaborn as sns\n",
    "\n",
    "import tensorflow.compat.v2 as tf\n",
    "import tensorflow_probability as tfp\n",
    "\n",
    "from tensorflow_probability import bijectors as tfb\n",
    "from tensorflow_probability import distributions as tfd\n",
    "\n",
    "import pandas as pd\n",
    "\n",
    "tf.enable_v2_behavior()\n",
    "\n",
    "plt.style.use(\"ggplot\")\n",
    "warnings.filterwarnings('ignore')"
   ]
  },
  {
   "cell_type": "code",
   "execution_count": 2,
   "id": "ca61e12e-969a-48fd-93ce-3bc404979267",
   "metadata": {},
   "outputs": [],
   "source": [
    "q = 10"
   ]
  },
  {
   "cell_type": "code",
   "execution_count": null,
   "id": "54eea5a9-add3-44b2-a573-2fc77e323738",
   "metadata": {},
   "outputs": [],
   "source": []
  },
  {
   "cell_type": "code",
   "execution_count": null,
   "id": "2b266ecf-be9d-4599-be16-545962f2d9a2",
   "metadata": {},
   "outputs": [],
   "source": []
  },
  {
   "cell_type": "code",
   "execution_count": 3,
   "id": "9ab65402-79a7-4510-a38e-fe3916c3d623",
   "metadata": {},
   "outputs": [],
   "source": [
    "FileName = '/Users/sventur/WORKSPACE/ROMNet/Data/0DReact_Isobaric_500Cases_H2/Orig/train/ext/y.csv.1'\n",
    "Data     = pd.read_csv(FileName)\n",
    "Vars     = ['T','H2','H','O','O2','OH','H2O','HO2','H2O2','N','NH','NH2','NH3','NNH','NO','NO2','N2O','HNO','N2']# list(Data.columns)[1::]\n",
    "X        = Data[Vars].to_numpy()\n",
    "d        = X.shape[1]"
   ]
  },
  {
   "cell_type": "code",
   "execution_count": null,
   "id": "a86159d3-512a-4ffc-94b9-9e484c456ccc",
   "metadata": {},
   "outputs": [],
   "source": []
  },
  {
   "cell_type": "code",
   "execution_count": null,
   "id": "56249875-7858-4e83-875a-ccc134b459bc",
   "metadata": {},
   "outputs": [],
   "source": []
  },
  {
   "cell_type": "code",
   "execution_count": 4,
   "id": "6ec690b2-7eb9-47ee-b551-fb464d7d92c8",
   "metadata": {},
   "outputs": [],
   "source": [
    "def standardize_data(arr):\n",
    "         \n",
    "    '''\n",
    "    This function standardize an array, its substracts mean value, \n",
    "    and then divide the standard deviation.\n",
    "    \n",
    "    param 1: array \n",
    "    return: standardized array\n",
    "    '''    \n",
    "    rows, columns     = arr.shape\n",
    "    \n",
    "    standardizedArray = np.zeros(shape=(rows, columns))\n",
    "    tempArray         = np.zeros(rows)\n",
    "    C                 = np.zeros(columns)\n",
    "    D                 = np.zeros(columns)\n",
    "    \n",
    "    for column in range(columns):\n",
    "        \n",
    "        C[column] = np.mean(X[:,column])\n",
    "        D[column] = np.std(X[:,column])\n",
    "        tempArray = np.empty(0)\n",
    "        \n",
    "        for element in X[:,column]:\n",
    "            \n",
    "            tempArray = np.append(tempArray, ((element - C[column]) / D[column]))\n",
    " \n",
    "        standardizedArray[:,column] = tempArray\n",
    "    \n",
    "    return standardizedArray, C, D"
   ]
  },
  {
   "cell_type": "code",
   "execution_count": null,
   "id": "3763a5fa-99a5-4d16-8269-60ddbcb477c8",
   "metadata": {},
   "outputs": [],
   "source": []
  },
  {
   "cell_type": "code",
   "execution_count": null,
   "id": "6ba6a9bb-0d23-4d2e-b9bb-214e998d485b",
   "metadata": {},
   "outputs": [],
   "source": []
  },
  {
   "cell_type": "code",
   "execution_count": null,
   "id": "7c03b31e-2e2e-46ee-919f-26f12f411250",
   "metadata": {},
   "outputs": [],
   "source": []
  },
  {
   "cell_type": "code",
   "execution_count": 5,
   "id": "0ce5d17f-5053-4dcf-9a69-aeb49042b92c",
   "metadata": {},
   "outputs": [],
   "source": [
    "X_mean = np.mean(X,axis=0)\n",
    "X_std  = np.std(X,axis=0)\n",
    "XX     = (X-X_mean)#/X_std\n",
    "#print(\"Data mean:\")\n",
    "#print(X_mean)\n",
    "\n",
    "#X_cov = XX.T @ XX\n",
    "#X_cov = X.T @ X\n",
    "#print(\"Data cov:\")\n",
    "#print(X_cov)\n",
    "\n",
    "XOrig   = X.copy()"
   ]
  },
  {
   "cell_type": "code",
   "execution_count": null,
   "id": "009d5834-b8ff-481b-847a-0932657de39e",
   "metadata": {},
   "outputs": [],
   "source": []
  },
  {
   "cell_type": "code",
   "execution_count": null,
   "id": "3c4f62fd-2c3c-4115-9cee-042ee2a3a53b",
   "metadata": {},
   "outputs": [],
   "source": []
  },
  {
   "cell_type": "code",
   "execution_count": null,
   "id": "6c8e85b8-8adb-4e2e-92f5-b77d858c43ee",
   "metadata": {},
   "outputs": [],
   "source": []
  },
  {
   "cell_type": "code",
   "execution_count": 6,
   "id": "cf8c8c8d-6571-4a73-b19c-ade413acc55f",
   "metadata": {},
   "outputs": [
    {
     "name": "stdout",
     "output_type": "stream",
     "text": [
      "[61.36586487247073, 22.129226498460138, 10.379205105995869, 4.5531025491925226, 1.1598666937546283, 0.2860129528401222, 0.10477808578205357, 0.015195491996399826, 0.0050670211500018734, 0.001503697003526205, 0.00015196209874555696, 2.377640723269891e-05, 1.238351806071362e-06, 4.480778768235705e-08, 7.986099088049477e-09, 1.7023482982759117e-09, -2.060043224490868e-15, 4.675176771487385e-15, 6.000617232498629e-16]\n",
      "[ 61.36586487  83.49509137  93.87429648  98.42739903  99.58726572\n",
      "  99.87327867  99.97805676  99.99325225  99.99831927  99.99982297\n",
      "  99.99997493  99.99999871  99.99999995  99.99999999 100.\n",
      " 100.         100.         100.         100.        ]\n"
     ]
    },
    {
     "data": {
      "text/plain": [
       "Text(0.5, 1.0, 'Explained variance vs Number of components')"
      ]
     },
     "execution_count": 6,
     "metadata": {},
     "output_type": "execute_result"
    },
    {
     "data": {
      "image/png": "[encoded data removed]",
      "text/plain": [
       "<Figure size 432x288 with 1 Axes>"
      ]
     },
     "metadata": {},
     "output_type": "display_data"
    }
   ],
   "source": [
    "X, C, D = standardize_data(X)\n",
    "X_cov   = np.cov(X.T)\n",
    "\n",
    "eigen_values, eigen_vectors = np.linalg.eig(X_cov)\n",
    "#print(\"Eigenvector: \\n\",eigen_vectors,\"\\n\")\n",
    "#print(\"Eigenvalues: \\n\", eigen_values, \"\\n\")\n",
    "\n",
    "variance_explained = []\n",
    "for i in eigen_values:\n",
    "     variance_explained.append((i/sum(eigen_values))*100)\n",
    "        \n",
    "print(variance_explained)\n",
    "\n",
    "cumulative_variance_explained = np.cumsum(variance_explained)\n",
    "print(cumulative_variance_explained)\n",
    "\n",
    "sns.lineplot(x = np.arange(19)+1, y=cumulative_variance_explained)\n",
    "plt.xlabel(\"Number of components\")\n",
    "plt.ylabel(\"Cumulative explained variance\")\n",
    "plt.title(\"Explained variance vs Number of components\")"
   ]
  },
  {
   "cell_type": "code",
   "execution_count": 7,
   "id": "a64141f4-bca4-4ff7-bce7-fc6d15542be2",
   "metadata": {},
   "outputs": [
    {
     "data": {
      "text/plain": [
       "<matplotlib.collections.PathCollection at 0x167fe8850>"
      ]
     },
     "execution_count": 7,
     "metadata": {},
     "output_type": "execute_result"
    },
    {
     "data": {
      "image/png": "[encoded data removed]",
      "text/plain": [
       "<Figure size 432x288 with 1 Axes>"
      ]
     },
     "metadata": {},
     "output_type": "display_data"
    }
   ],
   "source": [
    "projection_matrix = (eigen_vectors.T[:q]).T\n",
    "\n",
    "X_pca = X.dot(projection_matrix)\n",
    "\n",
    "X_    = X_pca.dot(projection_matrix.T)\n",
    "\n",
    "plt.scatter(X[:,1], X[:,2])\n",
    "plt.scatter(X_[:,1], X_[:,2])"
   ]
  },
  {
   "cell_type": "code",
   "execution_count": null,
   "id": "74c050be-250f-4bb3-8f88-4710d7bca718",
   "metadata": {},
   "outputs": [],
   "source": []
  },
  {
   "cell_type": "code",
   "execution_count": null,
   "id": "f4797dc7-1212-4755-8222-74fdd7ca78ef",
   "metadata": {},
   "outputs": [],
   "source": []
  },
  {
   "cell_type": "code",
   "execution_count": 95,
   "id": "3737b6dc-8df3-454c-aeb2-c0ab6395c184",
   "metadata": {},
   "outputs": [
    {
     "ename": "SyntaxError",
     "evalue": "invalid syntax (3837896329.py, line 1)",
     "output_type": "error",
     "traceback": [
      "\u001b[0;36m  File \u001b[0;32m\"/var/folders/09/5pnsdvfx78nbjmwff3_24d540000gp/T/ipykernel_61381/3837896329.py\"\u001b[0;36m, line \u001b[0;32m1\u001b[0m\n\u001b[0;31m    https://medium.com/practical-coding/the-simplest-generative-model-you-probably-missed-c840d68b704\u001b[0m\n\u001b[0m          ^\u001b[0m\n\u001b[0;31mSyntaxError\u001b[0m\u001b[0;31m:\u001b[0m invalid syntax\n"
     ]
    }
   ],
   "source": [
    "https://medium.com/practical-coding/the-simplest-generative-model-you-probably-missed-c840d68b704"
   ]
  },
  {
   "cell_type": "code",
   "execution_count": 73,
   "id": "b2ecac31-ede7-4ec4-8359-bdb5a5f48215",
   "metadata": {},
   "outputs": [],
   "source": [
    "X_cov              = np.cov(XOrig,rowvar=False)\n",
    "\n",
    "\n",
    "# Variance\n",
    "lambdas, eigenvecs = np.linalg.eig(X_cov)\n",
    "idx                = lambdas.argsort()[::-1]   \n",
    "lambdas            = lambdas[idx]\n",
    "eigenvecs          = eigenvecs[:,idx]\n",
    "#print(eigenvecs)\n",
    "# print(eigenvecs @ np.diag(lambdas) @ np.transpose(eigenvecs))\n",
    "\n",
    "var_ml = (1.0 / (d-q)) * sum([lambdas[j] for j in range(q,d)])\n",
    "#print(\"Var ML:\")\n",
    "#print(var_ml)\n",
    "\n",
    "# Weight matrix\n",
    "uq = (eigen_vectors.T[:q]).T\n",
    "#print(\"uq:\")\n",
    "#print(uq)\n",
    "\n",
    "lambdaq = np.diag(lambdas[:q])\n",
    "#print(\"lambdaq\")\n",
    "#print(lambdaq)\n",
    "\n",
    "weight_ml = uq @ np.sqrt(lambdaq - var_ml * np.eye(q))\n",
    "#print(\"Weight matrix ML:\")\n",
    "#print(weight_ml)"
   ]
  },
  {
   "cell_type": "code",
   "execution_count": null,
   "id": "10e811c2-3cd1-4919-b0ac-10acda9ae6bc",
   "metadata": {},
   "outputs": [],
   "source": []
  },
  {
   "cell_type": "code",
   "execution_count": null,
   "id": "1d7149c4-608b-4c13-83a9-aeb8ca2ddbcd",
   "metadata": {},
   "outputs": [],
   "source": []
  },
  {
   "cell_type": "code",
   "execution_count": 80,
   "id": "8b2778b8-9d6e-4e6e-8b0b-fb1bc50ba4c5",
   "metadata": {},
   "outputs": [
    {
     "data": {
      "text/plain": [
       "array([[1.12700000e+03, 7.09750455e-02, 0.00000000e+00, ...,\n",
       "        0.00000000e+00, 0.00000000e+00, 7.22665253e-01],\n",
       "       [1.12700000e+03, 7.09750455e-02, 5.55859629e-12, ...,\n",
       "        1.71104673e-19, 3.85912922e-31, 7.22665253e-01],\n",
       "       [1.12700000e+03, 7.09750455e-02, 5.73980717e-12, ...,\n",
       "        1.77821238e-19, 4.53905036e-31, 7.22665253e-01],\n",
       "       ...,\n",
       "       [2.44158146e+03, 4.43513904e-02, 7.16717085e-04, ...,\n",
       "        9.45215899e-09, 3.14544997e-08, 7.22589740e-01],\n",
       "       [2.44158146e+03, 4.43513904e-02, 7.16717085e-04, ...,\n",
       "        9.45215899e-09, 3.14544997e-08, 7.22589740e-01],\n",
       "       [2.44158146e+03, 4.43513904e-02, 7.16717085e-04, ...,\n",
       "        9.45215899e-09, 3.14544997e-08, 7.22589740e-01]])"
      ]
     },
     "execution_count": 80,
     "metadata": {},
     "output_type": "execute_result"
    }
   ],
   "source": [
    "XOrig"
   ]
  },
  {
   "cell_type": "code",
   "execution_count": 94,
   "id": "eb9242ec-cf32-40c4-8d87-55453c1290b2",
   "metadata": {},
   "outputs": [
    {
     "data": {
      "text/plain": [
       "<matplotlib.collections.PathCollection at 0x16920cbb0>"
      ]
     },
     "execution_count": 94,
     "metadata": {},
     "output_type": "execute_result"
    },
    {
     "data": {
      "image/png": "[encoded data removed]",
      "text/plain": [
       "<Figure size 432x288 with 1 Axes>"
      ]
     },
     "metadata": {},
     "output_type": "display_data"
    }
   ],
   "source": [
    "X_pca = X @ weight_ml\n",
    "X_    = X_pca @ weight_ml.T# * D + C\n",
    "\n",
    "plt.scatter(X[:,0], X[:,1])\n",
    "#plt.scatter(X_[:,0], X_[:,1])"
   ]
  },
  {
   "cell_type": "code",
   "execution_count": 91,
   "id": "73af6291-e0f3-47bc-9251-b2a98504d188",
   "metadata": {},
   "outputs": [
    {
     "data": {
      "text/plain": [
       "array([[ 371694.96889456, -360306.97783473,  128984.28381605, ...,\n",
       "         394093.84472389,  380517.95413123, -383261.41985984],\n",
       "       [ 371695.03183329, -360307.03884516,  128984.30565687, ...,\n",
       "         394093.91145539,  380518.01856388, -383261.48475705],\n",
       "       [ 371695.03390748, -360307.04085581,  128984.30637665, ...,\n",
       "         394093.91365457,  380518.02068731, -383261.48689578],\n",
       "       ...,\n",
       "       [-529808.57409577,  513576.45825915, -183852.9552191 , ...,\n",
       "        -561735.28064866, -542383.39765392,  546293.90910825],\n",
       "       [-529808.57409578,  513576.45825916, -183852.9552191 , ...,\n",
       "        -561735.28064867, -542383.39765393,  546293.90910826],\n",
       "       [-529808.57409579,  513576.45825917, -183852.95521911, ...,\n",
       "        -561735.28064869, -542383.39765394,  546293.90910827]])"
      ]
     },
     "execution_count": 91,
     "metadata": {},
     "output_type": "execute_result"
    }
   ],
   "source": [
    "X - X_"
   ]
  },
  {
   "cell_type": "code",
   "execution_count": null,
   "id": "9ffe98ed-ca02-4932-a3d1-573b57883a4d",
   "metadata": {},
   "outputs": [],
   "source": []
  },
  {
   "cell_type": "code",
   "execution_count": null,
   "id": "dce49b96-ab0b-41fd-a029-0e2e83f661b6",
   "metadata": {},
   "outputs": [],
   "source": []
  },
  {
   "cell_type": "code",
   "execution_count": 58,
   "id": "1486f4c1-0e0e-414f-8e42-db8de9549f31",
   "metadata": {},
   "outputs": [],
   "source": [
    "def sample_hidden_given_visible(\n",
    "    weight_ml       : np.array, \n",
    "    mu_ml           : np.array,\n",
    "    var_ml          : float,\n",
    "    visible_samples : np.array\n",
    "    ) -> np.array:\n",
    "\n",
    "    q = weight_ml.shape[1]\n",
    "    m = np.transpose(weight_ml) @ weight_ml + var_ml * np.eye(q)\n",
    "\n",
    "    cov = var_ml * np.linalg.inv(m)\n",
    "    act_hidden = []\n",
    "    for data_visible in visible_samples:\n",
    "        mean = np.linalg.inv(m) @ np.transpose(weight_ml) @ (data_visible - mu_ml)\n",
    "        sample = np.random.multivariate_normal(mean,cov,size=1)\n",
    "        act_hidden.append(sample[0])\n",
    "    \n",
    "    return np.array(act_hidden)"
   ]
  },
  {
   "cell_type": "code",
   "execution_count": 59,
   "id": "8e630648-59ca-4094-8320-18131c6d2a2f",
   "metadata": {},
   "outputs": [],
   "source": [
    "act_hidden = sample_hidden_given_visible(\n",
    "    weight_ml       = weight_ml,\n",
    "    mu_ml           = X_mean,\n",
    "    var_ml          = var_ml,\n",
    "    visible_samples = X\n",
    "    )"
   ]
  },
  {
   "cell_type": "code",
   "execution_count": 60,
   "id": "6ca775d9-f7ce-4ebf-a43a-b2168cea69f8",
   "metadata": {},
   "outputs": [],
   "source": [
    "mean_hidden    = np.full(q,0)\n",
    "cov_hidden     = np.eye(q)\n",
    "\n",
    "no_samples     = len(X)\n",
    "samples_hidden = np.random.multivariate_normal(mean_hidden,cov_hidden,size=no_samples)"
   ]
  },
  {
   "cell_type": "code",
   "execution_count": null,
   "id": "56e75ed4-b257-4671-a329-ebb803a5adc2",
   "metadata": {},
   "outputs": [],
   "source": []
  },
  {
   "cell_type": "code",
   "execution_count": null,
   "id": "e5cf464c-a25b-4d09-a214-0387b45244c4",
   "metadata": {},
   "outputs": [],
   "source": []
  },
  {
   "cell_type": "code",
   "execution_count": 61,
   "id": "c9656964-c567-4435-a190-f4e17bf1a8a2",
   "metadata": {},
   "outputs": [],
   "source": [
    "def sample_visible_given_hidden(\n",
    "    weight_ml : np.array, \n",
    "    mu_ml : np.array,\n",
    "    var_ml : float,\n",
    "    hidden_samples : np.array\n",
    "    ) -> np.array:\n",
    "\n",
    "    d = weight_ml.shape[0]\n",
    "\n",
    "    act_visible = []\n",
    "    for data_hidden in hidden_samples:\n",
    "        mean = weight_ml @ data_hidden + mu_ml\n",
    "        cov = var_ml * np.eye(d)\n",
    "        sample = np.random.multivariate_normal(mean,cov,size=1)\n",
    "        act_visible.append(sample[0])\n",
    "    \n",
    "    return np.array(act_visible)"
   ]
  },
  {
   "cell_type": "code",
   "execution_count": 62,
   "id": "11123e30-1fc1-46ea-b3ff-b468ea96d207",
   "metadata": {},
   "outputs": [
    {
     "name": "stdout",
     "output_type": "stream",
     "text": [
      "Mean visibles (data):\n",
      "[ 2.12718732e-16 -4.71622741e-16 -2.73045475e-17  1.07691633e-17\n",
      "  4.00568467e-16 -7.26085858e-17  8.05133737e-16  6.35047570e-17\n",
      " -3.33066907e-17 -1.24344979e-16 -8.65973959e-17 -9.76108083e-16\n",
      "  2.32258657e-16 -7.19146964e-17  1.66533454e-16  1.43884904e-16\n",
      " -3.37507799e-16 -7.36743999e-16 -6.01764860e-13]\n",
      "Mean visibles (sampled):\n",
      "[ 2.86628517e-05 -1.26088966e+00  2.96155906e+00  1.12473898e+01\n",
      " -1.67001528e-01 -2.76421038e+01  1.56434790e-01 -2.38008159e+03\n",
      " -6.90122436e+04  2.10266684e+06 -1.76327385e+05 -6.14381407e+03\n",
      "  1.54773414e+04 -1.98694738e+06  5.08733964e+01 -5.86923174e+06\n",
      "  4.53281671e+06 -5.41491633e+05 -1.12865512e+02]\n"
     ]
    }
   ],
   "source": [
    "act_visible = sample_visible_given_hidden(\n",
    "    weight_ml      = weight_ml,\n",
    "    mu_ml          = X_mean,\n",
    "    var_ml         = var_ml,\n",
    "    hidden_samples = samples_hidden\n",
    "    )\n",
    "\n",
    "act_visible = (act_visible - C) / D\n",
    "\n",
    "# print(\"Covariance visibles (data):\")\n",
    "# print(X_cov)\n",
    "# print(\"Covariance visibles (sampled):\")\n",
    "# print(np.cov(act_visible,rowvar=False))\n",
    "\n",
    "print(\"Mean visibles (data):\")\n",
    "print(np.mean(X,axis=0))\n",
    "print(\"Mean visibles (sampled):\")\n",
    "print(np.mean(act_visible,axis=0))"
   ]
  },
  {
   "cell_type": "code",
   "execution_count": 63,
   "id": "4c6c2f12-ed91-48c5-964f-e039695d09a9",
   "metadata": {},
   "outputs": [
    {
     "data": {
      "text/plain": [
       "<matplotlib.collections.PathCollection at 0x16891a7f0>"
      ]
     },
     "execution_count": 63,
     "metadata": {},
     "output_type": "execute_result"
    },
    {
     "data": {
      "image/png": "[encoded data removed]",
      "text/plain": [
       "<Figure size 432x288 with 1 Axes>"
      ]
     },
     "metadata": {},
     "output_type": "display_data"
    }
   ],
   "source": [
    "#plt.scatter(XOrig[:,0], XOrig[:,1])\n",
    "plt.scatter(act_visible[:,0], act_visible[:,1])"
   ]
  },
  {
   "cell_type": "code",
   "execution_count": 64,
   "id": "c092ab8c-d9da-437b-a086-77c5dd8e52e8",
   "metadata": {},
   "outputs": [
    {
     "data": {
      "text/plain": [
       "array([[1.12700000e+03, 7.09750455e-02, 0.00000000e+00, ...,\n",
       "        0.00000000e+00, 0.00000000e+00, 7.22665253e-01],\n",
       "       [1.12700000e+03, 7.09750455e-02, 5.55859629e-12, ...,\n",
       "        1.71104673e-19, 3.85912922e-31, 7.22665253e-01],\n",
       "       [1.12700000e+03, 7.09750455e-02, 5.73980717e-12, ...,\n",
       "        1.77821238e-19, 4.53905036e-31, 7.22665253e-01],\n",
       "       ...,\n",
       "       [2.44158146e+03, 4.43513904e-02, 7.16717085e-04, ...,\n",
       "        9.45215899e-09, 3.14544997e-08, 7.22589740e-01],\n",
       "       [2.44158146e+03, 4.43513904e-02, 7.16717085e-04, ...,\n",
       "        9.45215899e-09, 3.14544997e-08, 7.22589740e-01],\n",
       "       [2.44158146e+03, 4.43513904e-02, 7.16717085e-04, ...,\n",
       "        9.45215899e-09, 3.14544997e-08, 7.22589740e-01]])"
      ]
     },
     "execution_count": 64,
     "metadata": {},
     "output_type": "execute_result"
    }
   ],
   "source": [
    "XOrig"
   ]
  },
  {
   "cell_type": "code",
   "execution_count": null,
   "id": "54beca87-5c3d-433f-a477-b89c78ed9de4",
   "metadata": {},
   "outputs": [],
   "source": []
  },
  {
   "cell_type": "code",
   "execution_count": null,
   "id": "60b9e77b-0efa-46b6-b52b-d1d5368c446e",
   "metadata": {},
   "outputs": [],
   "source": []
  }
 ],
 "metadata": {
  "kernelspec": {
   "display_name": "Python 3 (ipykernel)",
   "language": "python",
   "name": "python3"
  },
  "language_info": {
   "codemirror_mode": {
    "name": "ipython",
    "version": 3
   },
   "file_extension": ".py",
   "mimetype": "text/x-python",
   "name": "python",
   "nbconvert_exporter": "python",
   "pygments_lexer": "ipython3",
   "version": "3.9.12"
  }
 },
 "nbformat": 4,
 "nbformat_minor": 5
}
