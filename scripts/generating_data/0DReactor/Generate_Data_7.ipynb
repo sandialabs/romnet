{
 "cells": [
  {
   "cell_type": "markdown",
   "metadata": {},
   "source": [
    "# 0D Reactor: Postprocessing the FNN for the Decoder"
   ]
  },
  {
   "cell_type": "code",
   "execution_count": 1,
   "metadata": {},
   "outputs": [
    {
     "name": "stdout",
     "output_type": "stream",
     "text": [
      "3.9.12 (main, Mar 26 2022, 15:51:13) \n",
      "[Clang 12.0.0 (clang-1200.0.32.29)]\n"
     ]
    },
    {
     "name": "stderr",
     "output_type": "stream",
     "text": [
      "Missing colon in file PosixPath('/Users/sventur/.matplotlib/stylelib/paper_2columns.mplstyle'), line 1 ('f#### MATPLOTLIBRC FORMAT')\n"
     ]
    }
   ],
   "source": [
    "### Importing Libraries\n",
    "\n",
    "import sys\n",
    "print(sys.version)\n",
    "import os\n",
    "import time\n",
    "import shutil\n",
    "\n",
    "\n",
    "### Defining WORKSPACE_PATH\n",
    "\n",
    "# WORKSPACE_PATH = os.environ['WORKSPACE_PATH']\n",
    "WORKSPACE_PATH = os.path.join(os.getcwd(), '../../../../../')\n",
    "ROMNet_fld     = os.path.join(WORKSPACE_PATH, 'ROMNet/romnet/')\n",
    "\n",
    "### Importing External Libraries\n",
    "\n",
    "import numpy                             as np\n",
    "import pandas                            as pd\n",
    "\n",
    "\n",
    "### Importing Matplotlib and Its Style\n",
    "\n",
    "import matplotlib.pyplot                 as plt\n",
    "\n",
    "#plt.style.use(os.path.join(WORKSPACE_PATH, 'ROMNet/romnet/extra/postprocessing/presentation.mplstyle'))\n",
    "#plt.style.use(os.path.join(WORKSPACE_PATH, 'ROMNet/romnet/extra/postprocessing/zoomed.mplstyle'))\n",
    "#plt.style.use(os.path.join(WORKSPACE_PATH, 'ROMNet/romnet/extra/postprocessing/paper_1column.mplstyle'))\n",
    "#plt.style.use(os.path.join(WORKSPACE_PATH, 'ROMNet/romnet/extra/postprocessing/paper_2columns.mplstyle'))\n",
    "\n",
    "\n",
    "# from scipy.integrate import solve_ivp\n",
    "# import pyDOE\n",
    "# from PCAfold         import PCA          as PCAA\n",
    "\n",
    "\n",
    "import romnet                            as rmnt"
   ]
  },
  {
   "cell_type": "markdown",
   "metadata": {},
   "source": [
    "## Defining Input Data"
   ]
  },
  {
   "cell_type": "code",
   "execution_count": 2,
   "metadata": {},
   "outputs": [],
   "source": [
    "OutputDir    = os.path.join(WORKSPACE_PATH, 'ROMNet/Data/0DReact_Isobaric_1000Cases_CH4/')\n",
    "\n",
    "\n",
    "NVarsRed     = 10\n",
    "\n",
    "valid_perc   = 20.\n",
    "\n",
    "FixedMinVal  = 1.e-14\n",
    "\n",
    "n_ics        = 1000\n",
    "\n",
    "\n",
    "ColorVec     = ['#190707', '#dd3232', '#0065a9', '#348a00','#985396','#f68b69']\n",
    "\n",
    "try:\n",
    "    os.makedirs(OutputDir)\n",
    "except OSError as e:\n",
    "    pass\n",
    "# try:\n",
    "#     os.makedirs(TestDir)\n",
    "# except OSError as e:\n",
    "#     pass\n",
    "\n",
    "\n",
    "\n",
    "path_to_run_fld = os.path.join(WORKSPACE_PATH, 'ROMNet/0DReact_Isobaric_500Cases_CH4_Autoencoder_/Autoencoder/Run_1/')\n",
    "FigDir          = None #os.path.join(WORKSPACE_PATH, '../Desktop/Paper_Figures_DeepONet_TEMP/')\n",
    "\n",
    "LineVec         = ['-',':','--','.-']*10\n",
    "ColorVec        = ['#190707', '#dd3232', '#0065a9', '#348a00','#985396','#f68b69']"
   ]
  },
  {
   "cell_type": "code",
   "execution_count": 3,
   "metadata": {},
   "outputs": [
    {
     "data": {
      "text/plain": [
       "'/Users/sventur/WORKSPACE/ROMNet/romnet/scripts/generating_data/0DReactor/../../../../../ROMNet/Data/0DReact_Isobaric_500Cases_CH4_//10Autoencoded/CleanVars_NotToRed.csv'"
      ]
     },
     "execution_count": 3,
     "metadata": {},
     "output_type": "execute_result"
    }
   ],
   "source": [
    "try:\n",
    "    os.makedirs(OutputDir+'/'+str(NVarsRed)+'Autoencoded/')\n",
    "except:\n",
    "    pass\n",
    "shutil.copyfile(OutputDir+'/Orig/CleanVars_ToRed.csv',    OutputDir+'/' + str(NVarsRed) + 'Autoencoded/CleanVars_ToRed.csv')\n",
    "shutil.copyfile(OutputDir+'/Orig/CleanVars_NotToRed.csv', OutputDir+'/' + str(NVarsRed) + 'Autoencoded/CleanVars_NotToRed.csv')"
   ]
  },
  {
   "cell_type": "code",
   "execution_count": null,
   "metadata": {},
   "outputs": [],
   "source": []
  },
  {
   "cell_type": "code",
   "execution_count": null,
   "metadata": {},
   "outputs": [],
   "source": []
  },
  {
   "cell_type": "markdown",
   "metadata": {},
   "source": [
    "## Loading ROMNet's Input Data File"
   ]
  },
  {
   "cell_type": "code",
   "execution_count": 4,
   "metadata": {},
   "outputs": [
    {
     "name": "stdout",
     "output_type": "stream",
     "text": [
      "\n",
      "[ROMNet]: Reading Input File from:  /Users/sventur/WORKSPACE/ROMNet/romnet/scripts/generating_data/0DReactor/../../../../../ROMNet/0DReact_Isobaric_500Cases_CH4_Autoencoder_/Autoencoder/Run_1/\n",
      "\n",
      "[ROMNet]: Keep Loading Modules and Functions...\n",
      "\n",
      "[ROMNet]: Initializing Input ...\n"
     ]
    }
   ],
   "source": [
    "print(\"\\n[ROMNet]: Reading Input File from: \", path_to_run_fld)\n",
    "sys.path.insert(0, path_to_run_fld)\n",
    "\n",
    "print(\"\\n[ROMNet]: Keep Loading Modules and Functions...\")\n",
    "from ROMNet_Input import inputdata\n",
    "\n",
    "print(\"\\n[ROMNet]: Initializing Input ...\")\n",
    "InputData               = inputdata(WORKSPACE_PATH)\n",
    "\n",
    "\n",
    "InputData.InputFilePath = path_to_run_fld+'/ROMNet_Input.py'\n",
    "InputData.train_int_flg = 0\n",
    "InputData.path_to_run_fld  = path_to_run_fld"
   ]
  },
  {
   "cell_type": "markdown",
   "metadata": {},
   "source": [
    "## Loading Tensorflow's Model for the Network "
   ]
  },
  {
   "cell_type": "code",
   "execution_count": 5,
   "metadata": {},
   "outputs": [
    {
     "name": "stdout",
     "output_type": "stream",
     "text": [
      "\n",
      "[ROMNet - model_tf.py    ]:   Initializing the ML Model\n",
      "\n",
      "[ROMNet - model_tf.py    ]:   Building the ML Model\n",
      "\n",
      "[ROMNet - autoencoder.py            ]:   Constructing Autoencoder: \n",
      "[ROMNet - system_of_components.py   ]:     Constructing System of Components: Encoder\n",
      "[ROMNet - component.py              ]:       Constructing Component: FNN\n",
      "[ROMNet - sub_component.py          ]:         Constructed Sub-Component: Main with Layers:       ListWrapper([<romnet.nn.building_blocks.normalization.CustomNormalization object at 0x167cdf670>, <keras.layers.core.dense.Dense object at 0x1680ad2e0>])\n",
      "[ROMNet - system_of_components.py   ]:     Constructing System of Components: Decoder\n",
      "[ROMNet - component.py              ]:       Constructing Component: FNN\n",
      "[ROMNet - sub_component.py          ]:         Constructed Sub-Component: Main with Layers:       ListWrapper([<keras.layers.core.dense.Dense object at 0x1680d5f70>, <keras.layers.core.dropout.Dropout object at 0x1680ad4c0>, <keras.layers.core.dense.Dense object at 0x1680ffd90>, <keras.layers.core.dropout.Dropout object at 0x1680d57f0>, <keras.layers.core.dense.Dense object at 0x1680f6910>, <keras.layers.core.dropout.Dropout object at 0x167c430d0>, <keras.layers.core.dense.Dense object at 0x1680f6610>, <keras.layers.core.dropout.Dropout object at 0x1680f6e80>, <keras.layers.core.dense.Dense object at 0x1680f6fa0>])\n",
      "\n",
      "[ROMNet - model_tf.py    ]:   Loading ML Model Parameters from File:  /Users/sventur/WORKSPACE/ROMNet/romnet/scripts/generating_data/0DReactor/../../../../../ROMNet/0DReact_Isobaric_500Cases_CH4_Autoencoder_/Autoencoder/Run_1//Training/Params//001496.h5\n",
      "[ROMNet - hdf5_format.py            ]:     Loaded Weights for Layer  Decoder-FNN-Main-HL_1\n",
      "[ROMNet - hdf5_format.py            ]:     Loaded Weights for Layer  Decoder-FNN-Main-HL_1\n",
      "[ROMNet - hdf5_format.py            ]:     Loaded Weights for Layer  Decoder-FNN-Main-HL_2\n",
      "[ROMNet - hdf5_format.py            ]:     Loaded Weights for Layer  Decoder-FNN-Main-HL_2\n",
      "[ROMNet - hdf5_format.py            ]:     Loaded Weights for Layer  Decoder-FNN-Main-HL_3\n",
      "[ROMNet - hdf5_format.py            ]:     Loaded Weights for Layer  Decoder-FNN-Main-HL_3\n",
      "[ROMNet - hdf5_format.py            ]:     Loaded Weights for Layer  Decoder-FNN-Main-HL_4\n",
      "[ROMNet - hdf5_format.py            ]:     Loaded Weights for Layer  Decoder-FNN-Main-HL_4\n",
      "[ROMNet - hdf5_format.py            ]:     Loaded Weights for Layer  Decoder-FNN-Main-HL_5\n",
      "[ROMNet - hdf5_format.py            ]:     Loaded Weights for Layer  Decoder-FNN-Main-HL_5\n",
      "[ROMNet - hdf5_format.py            ]:     Loaded Weights for Layer  Encoder-FNN_Normalization\n",
      "[ROMNet - hdf5_format.py            ]:     Loaded Weights for Layer  Encoder-FNN_Normalization\n",
      "[ROMNet - hdf5_format.py            ]:     Loaded Weights for Layer  Encoder-FNN_Normalization\n",
      "[ROMNet - hdf5_format.py            ]:     Loaded Weights for Layer  Encoder-FNN_Normalization\n",
      "[ROMNet - hdf5_format.py            ]:     Loaded Weights for Layer  Encoder-FNN_Normalization\n",
      "[ROMNet - hdf5_format.py            ]:     Loaded Weights for Layer  Encoder-FNN-Main-HL_1\n",
      "[ROMNet - hdf5_format.py            ]:     Loaded Weights for Layer  Encoder-FNN-Main-HL_1\n",
      "'load_params' took 0.014513 s\n",
      "\n",
      "\n",
      "[ROMNet - model_tf.py    ]:   Saving ML Model Parameters to File:  /Users/sventur/WORKSPACE/ROMNet/romnet/scripts/generating_data/0DReactor/../../../../../ROMNet/0DReact_Isobaric_500Cases_CH4_Autoencoder_/Autoencoder/Run_1//Model/Params/Initial.h5\n",
      "'save_params' took 0.013932 s\n",
      "\n",
      "'build' took 1.060556 s\n",
      "\n"
     ]
    }
   ],
   "source": [
    "surrogate_type = InputData.surrogate_type\n",
    "if (surrogate_type == 'FNN-SourceTerms'):\n",
    "    surrogate_type = 'FNN'\n",
    "\n",
    "Net   = getattr(rmnt.nn, surrogate_type)\n",
    "\n",
    "model = rmnt.model.Model_TF(InputData)\n",
    "\n",
    "if (InputData.phys_system is not None):\n",
    "    System = getattr(rmnt.pinn.system, InputData.phys_system)\n",
    "    system = System(InputData)\n",
    "    \n",
    "model.build(InputData, None, Net, system)#, loadfile_no='000027')\n",
    "\n",
    "NN    = model.net"
   ]
  },
  {
   "cell_type": "code",
   "execution_count": 6,
   "metadata": {},
   "outputs": [
    {
     "data": {
      "text/plain": [
       "[<matplotlib.lines.Line2D at 0x168461a60>]"
      ]
     },
     "execution_count": 6,
     "metadata": {},
     "output_type": "execute_result"
    },
    {
     "data": {
      "image/png": "[encoded data removed]",
      "text/plain": [
       "<Figure size 720x720 with 1 Axes>"
      ]
     },
     "metadata": {
      "needs_background": "light"
     },
     "output_type": "display_data"
    }
   ],
   "source": [
    "input_vars   = InputData.input_vars_all\n",
    "output_vars  = InputData.output_vars\n",
    "\n",
    "FileName     = InputData.path_to_data_fld+'/valid/pts/Input.csv'\n",
    "input_data   = pd.read_csv(FileName)[input_vars]\n",
    "\n",
    "FileName     = InputData.path_to_data_fld+'/valid/pts/Output.csv'\n",
    "output_data  = pd.read_csv(FileName)[output_vars]\n",
    "\n",
    "yMat         = model.predict(input_data)  \n",
    "\n",
    "SoI          = 'H'\n",
    "iS           = list(output_vars).index(SoI)\n",
    "\n",
    "plt.figure(figsize=(10,10))\n",
    "plt.plot(output_data[SoI], yMat[:,iS], 'ko')\n",
    "plt.plot([0, output_data[SoI].max()*1.5],[0, output_data[SoI].max()*1.5], 'k-')"
   ]
  },
  {
   "cell_type": "code",
   "execution_count": null,
   "metadata": {},
   "outputs": [],
   "source": []
  },
  {
   "cell_type": "code",
   "execution_count": null,
   "metadata": {},
   "outputs": [],
   "source": []
  },
  {
   "cell_type": "code",
   "execution_count": null,
   "metadata": {},
   "outputs": [],
   "source": []
  },
  {
   "cell_type": "markdown",
   "metadata": {},
   "source": [
    "## Evaluating Branch on Test Data"
   ]
  },
  {
   "cell_type": "code",
   "execution_count": 7,
   "metadata": {},
   "outputs": [],
   "source": [
    "input_vars      = pd.read_csv(InputData.path_to_data_fld+'/../Orig/CleanVars_ToRed.csv', header=None).to_numpy()[0,:]\n",
    "input_vars_not  = pd.read_csv(InputData.path_to_data_fld+'/../Orig/CleanVars_NotToRed.csv', header=None).to_numpy()[0,:]\n",
    "\n",
    "input_vars0     = []\n",
    "for var in input_vars:\n",
    "    input_vars0.append(var+'0')\n",
    "input_vars_not0 = []\n",
    "for var in input_vars_not:\n",
    "    input_vars_not0.append(var+'0')\n",
    "\n",
    "\n",
    "output_vars_not0= input_vars_not0\n",
    "output_vars     = ['x_'+str(ix+1) for ix in range(InputData.NRODs)]\n",
    "output_vars0    = ['x0_'+str(ix+1) for ix in range(InputData.NRODs)]"
   ]
  },
  {
   "cell_type": "code",
   "execution_count": 24,
   "metadata": {},
   "outputs": [],
   "source": [
    "output_vars_tot0 = np.append(input_vars_not0, output_vars0)\n",
    "Header           = output_vars_tot0[0]\n",
    "for var in output_vars_tot0[1:]:\n",
    "    Header      += ','+var\n",
    "FileName = OutputDir+'/'+str(InputData.NRODs)+'Autoencoded/Vars0.csv'\n",
    "with open(FileName, 'w') as the_file:\n",
    "    the_file.write(Header+'\\n')\n",
    "\n",
    "output_vars_tot  = np.append(input_vars_not,  output_vars)\n",
    "Header           = output_vars_tot[0]\n",
    "for var in output_vars_tot[1:]:\n",
    "    Header      += ','+var\n",
    "FileName = OutputDir+'/'+str(InputData.NRODs)+'Autoencoded/Vars.csv'\n",
    "with open(FileName, 'w') as the_file:\n",
    "    the_file.write(Header+'\\n')"
   ]
  },
  {
   "cell_type": "code",
   "execution_count": 8,
   "metadata": {},
   "outputs": [],
   "source": [
    "FileName = os.path.join(OutputDir, 'Orig/train/ext/CleanVars.csv')\n",
    "Vars     = pd.read_csv(FileName, header=None)\n",
    "Vars     = list(Vars.to_numpy()[0,:])\n",
    "Vars0    = [Vars[i]+'0' for i in range(len(Vars))]\n",
    "for iC in range(n_ics):\n",
    "    FileName         = OutputDir+'/Orig/train/ext/y.csv.'+str(iC+1)\n",
    "    DataNew          = pd.read_csv(FileName, header=0)\n",
    "    Nts              = len(DataNew)\n",
    "    DataTemp         = DataNew.iloc[[0]][Vars] #DataTemp.iloc[1][Vars]\n",
    "    DataTemp         = DataTemp.loc[DataTemp.index.repeat(Nts)]\n",
    "    DataTemp.reset_index(drop=True, inplace=True)\n",
    "    DataNew[Vars0]   = DataTemp\n",
    "    DataTemp['t']    = DataNew['t']\n",
    "    DataNew['t']     = np.maximum(DataNew['t'].to_numpy() - DataTemp['t'].iloc[[0]].to_numpy(), FixedMinVal)\n",
    "    if (iC==0):\n",
    "        Data         = DataNew\n",
    "    else:\n",
    "        Data         = pd.concat([Data, DataNew], axis=0)\n",
    "Data.reset_index(drop=True, inplace=True)"
   ]
  },
  {
   "cell_type": "code",
   "execution_count": 9,
   "metadata": {},
   "outputs": [],
   "source": [
    "input_data_Not       = Data[np.append(['t'],input_vars_not0)]\n",
    "input_data           = pd.DataFrame(model.net.system_of_components['Encoder'].components['FNN'].call(Data[input_vars0], model.net.layers_dict, None, training=False), columns=output_vars0)\n",
    "input_data           = pd.concat([input_data_Not,input_data], axis=1)\n",
    "\n",
    "output_data_Not      = Data[np.append(['t'],input_vars_not)]\n",
    "output_data          = pd.DataFrame(model.net.system_of_components['Encoder'].components['FNN'].call(Data[input_vars], model.net.layers_dict, None, training=False), columns=output_vars)\n",
    "output_data          = pd.concat([output_data_Not,output_data], axis=1)"
   ]
  },
  {
   "cell_type": "code",
   "execution_count": null,
   "metadata": {},
   "outputs": [],
   "source": []
  },
  {
   "cell_type": "code",
   "execution_count": null,
   "metadata": {},
   "outputs": [],
   "source": []
  },
  {
   "cell_type": "code",
   "execution_count": 21,
   "metadata": {},
   "outputs": [
    {
     "data": {
      "text/plain": [
       "{'pts': 0}"
      ]
     },
     "execution_count": 21,
     "metadata": {},
     "output_type": "execute_result"
    }
   ],
   "source": []
  },
  {
   "cell_type": "markdown",
   "metadata": {},
   "source": [
    "## Splitting Data and Writing Database "
   ]
  },
  {
   "cell_type": "code",
   "execution_count": 11,
   "metadata": {},
   "outputs": [],
   "source": [
    "from sklearn.model_selection import train_test_split\n",
    "\n",
    "try:\n",
    "    os.makedirs(OutputDir+'/'+str(InputData.NRODs)+'Autoencoded/train/')\n",
    "except:\n",
    "    pass\n",
    "try:\n",
    "    os.makedirs(OutputDir+'/'+str(InputData.NRODs)+'Autoencoded/valid/')\n",
    "except:\n",
    "    pass"
   ]
  },
  {
   "cell_type": "code",
   "execution_count": 13,
   "metadata": {},
   "outputs": [],
   "source": [
    "data_id    = 'pts'\n",
    "\n",
    "DataNoZero           = Data[Data['t'] >= FixedMinVal]\n",
    "n_points             = len(DataNoZero)\n",
    "\n",
    "idx                  = np.arange(n_points)\n",
    "train_idx, valid_idx = train_test_split(idx, test_size=valid_perc/100, random_state=42)\n",
    "\n",
    "n_valid              = len(valid_idx)\n",
    "n_train              = len(train_idx)\n",
    "\n",
    "try:\n",
    "    os.makedirs(OutputDir+'/'+str(InputData.NRODs)+'Autoencoded/train/'+data_id+'/')\n",
    "except:\n",
    "    pass\n",
    "try:\n",
    "    os.makedirs(OutputDir+'/'+str(InputData.NRODs)+'Autoencoded/valid/'+data_id+'/')\n",
    "except:\n",
    "    pass\n",
    "\n",
    "DataInput  = input_data\n",
    "DataInput.iloc[train_idx].to_csv(OutputDir+'/'+str(InputData.NRODs)+'Autoencoded/train/'+data_id+'/Input.csv', index=False)\n",
    "DataInput.iloc[valid_idx].to_csv(OutputDir+'/'+str(InputData.NRODs)+'Autoencoded/valid/'+data_id+'/Input.csv', index=False)\n",
    "\n",
    "DataOutput = output_data\n",
    "DataOutput.iloc[train_idx].to_csv(OutputDir+'/'+str(InputData.NRODs)+'Autoencoded/train/'+data_id+'/Output.csv', index=False)\n",
    "DataOutput.iloc[valid_idx].to_csv(OutputDir+'/'+str(InputData.NRODs)+'Autoencoded/valid/'+data_id+'/Output.csv', index=False)"
   ]
  },
  {
   "cell_type": "code",
   "execution_count": null,
   "metadata": {},
   "outputs": [],
   "source": []
  }
 ],
 "metadata": {
  "kernelspec": {
   "display_name": "Python 3 (ipykernel)",
   "language": "python",
   "name": "python3"
  },
  "language_info": {
   "codemirror_mode": {
    "name": "ipython",
    "version": 3
   },
   "file_extension": ".py",
   "mimetype": "text/x-python",
   "name": "python",
   "nbconvert_exporter": "python",
   "pygments_lexer": "ipython3",
   "version": "3.9.12"
  }
 },
 "nbformat": 4,
 "nbformat_minor": 4
}
