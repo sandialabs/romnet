{
 "cells": [
  {
   "cell_type": "markdown",
   "metadata": {},
   "source": [
    "# Mass-Spring-Damper System: Analyzing the Principal Components of the $R_X$ and $R_V$ Data Matrixes"
   ]
  },
  {
   "cell_type": "code",
   "execution_count": 1,
   "metadata": {},
   "outputs": [
    {
     "name": "stdout",
     "output_type": "stream",
     "text": [
      "3.8.11 (default, Jun 29 2021, 03:17:05) \n",
      "[Clang 12.0.0 (clang-1200.0.32.29)]\n"
     ]
    },
    {
     "name": "stderr",
     "output_type": "stream",
     "text": [
      "Missing colon in file PosixPath('/Users/sventur/.matplotlib/stylelib/paper_2columns.mplstyle'), line 1 ('f#### MATPLOTLIBRC FORMAT')\n"
     ]
    }
   ],
   "source": [
    "### Importing Libraries\n",
    "\n",
    "import sys\n",
    "print(sys.version)\n",
    "import os\n",
    "import time\n",
    "\n",
    "\n",
    "### Defining WORKSPACE_PATH\n",
    "\n",
    "# WORKSPACE_PATH = os.environ['WORKSPACE_PATH']\n",
    "WORKSPACE_PATH = os.getcwd()+'/../../../../../'\n",
    "ROMNet_fld     = WORKSPACE_PATH + '/ROMNet/romnet/'\n",
    "\n",
    "\n",
    "### Importing External Libraries\n",
    "\n",
    "import numpy                             as np\n",
    "import pandas                            as pd\n",
    "\n",
    "\n",
    "### Importing Matplotlib and Its Style\n",
    "\n",
    "import matplotlib.pyplot                 as plt\n",
    "\n",
    "# plt.style.use(WORKSPACE_PATH+'/ROMNet/romnet/extra/postprocessing/presentation.mplstyle')\n",
    "# plt.style.use(WORKSPACE_PATH+'/ROMNet/romnet/extra/postprocessing/zoomed.mplstyle')\n",
    "plt.style.use(WORKSPACE_PATH+'/ROMNet/romnet/extra/postprocessing/paper_1column.mplstyle')\n",
    "# plt.style.use(WORKSPACE_PATH+'/ROMNet/romnet/extra/postprocessing/paper_2columns.mplstyle')\n",
    "\n",
    "\n",
    "from PCAfold         import PCA          as PCAA\n",
    "\n",
    "from scipy.integrate import solve_ivp\n",
    "import pyDOE"
   ]
  },
  {
   "cell_type": "markdown",
   "metadata": {},
   "source": [
    "## Defining Input Variables"
   ]
  },
  {
   "cell_type": "markdown",
   "metadata": {},
   "source": [
    "### Note: The script must be execute twice:\n",
    "- Once for $x$: mode_name='1'; iVar=0\n",
    "- Once for $v$: mode_name='2'; iVar=1"
   ]
  },
  {
   "cell_type": "code",
   "execution_count": 2,
   "metadata": {},
   "outputs": [],
   "source": [
    "OutputDir       = WORKSPACE_PATH+'/ROMNet/Data/MSD_100Cases/Orig'\n",
    "FigDir          = None #WORKSPACE_PATH+'/../Desktop/Paper_Figures_DeepONet/'\n",
    "\n",
    "Vars            = ['x', 'v']\n",
    "NVars           = len(Vars)\n",
    "\n",
    "n_ics           = 100\n",
    "valid_perc      = 20\n",
    "\n",
    "PCAType         = 'OneByOne'\n",
    "\n",
    "### FIRST RUN\n",
    "mode_name       = '1'\n",
    "iVar            = 0\n",
    "\n",
    "# ### SECOND RUN\n",
    "# mode_name       = '2'\n",
    "# iVar            = 1\n",
    "\n",
    "n_modesFinal    = 2\n",
    "\n",
    "\n",
    "ColorVec        = ['#190707', '#dd3232', '#0065a9', '#348a00','#985396','#f68b69']\n",
    "\n",
    "try:\n",
    "    os.makedirs(OutputDir+'/'+str(PCAType))\n",
    "except:\n",
    "    pass"
   ]
  },
  {
   "cell_type": "code",
   "execution_count": null,
   "metadata": {},
   "outputs": [],
   "source": []
  },
  {
   "cell_type": "code",
   "execution_count": null,
   "metadata": {},
   "outputs": [],
   "source": []
  },
  {
   "cell_type": "code",
   "execution_count": null,
   "metadata": {},
   "outputs": [],
   "source": []
  },
  {
   "cell_type": "markdown",
   "metadata": {},
   "source": [
    "## Loading Training Data"
   ]
  },
  {
   "cell_type": "code",
   "execution_count": 3,
   "metadata": {},
   "outputs": [],
   "source": [
    "Cols   = []\n",
    "NewFlg = True\n",
    "for iC in range(n_ics):\n",
    "\n",
    "    FileName             = OutputDir+'/train/ext/y.csv.'+str(iC+1)\n",
    "    Data                 = pd.read_csv(FileName, header=0)\n",
    "    DataTemp             = Data[Vars[iVar]]\n",
    "\n",
    "    if (np.abs( (DataTemp[0] - DataTemp[len(Data)-1])/DataTemp[0] ) > 1.e-3):\n",
    "        DataICTemp  = Data[Vars].iloc[0]\n",
    "\n",
    "        if (NewFlg):\n",
    "            DataInput        = DataTemp\n",
    "            DataIC           = DataICTemp\n",
    "            NewFlg           = False\n",
    "        else:\n",
    "            DataInput        = pd.concat([DataInput, DataTemp], axis=1)\n",
    "            DataIC           = pd.concat([DataIC, DataICTemp], axis=1)\n",
    "        Cols.append(str(iC+1))\n",
    "\n",
    "tVec              = Data['t']\n",
    "DataInput.columns = Cols\n",
    "\n",
    "yMat              = DataInput.to_numpy()\n",
    "\n",
    "DataIC            = DataIC.T.reset_index(drop=True, inplace=False)"
   ]
  },
  {
   "cell_type": "code",
   "execution_count": 4,
   "metadata": {},
   "outputs": [],
   "source": [
    "ICs = DataIC.to_numpy()"
   ]
  },
  {
   "cell_type": "code",
   "execution_count": null,
   "metadata": {},
   "outputs": [],
   "source": []
  },
  {
   "cell_type": "code",
   "execution_count": null,
   "metadata": {},
   "outputs": [],
   "source": []
  },
  {
   "cell_type": "code",
   "execution_count": null,
   "metadata": {},
   "outputs": [],
   "source": []
  },
  {
   "cell_type": "markdown",
   "metadata": {},
   "source": [
    "## Estimating the Required Number of Singular Values"
   ]
  },
  {
   "cell_type": "code",
   "execution_count": null,
   "metadata": {},
   "outputs": [],
   "source": [
    "n_modes    = 6\n",
    "ScalingVec = ['none', 'auto', 'std', 'pareto', 'vast', 'range', '0to1']\n",
    "             # options: 'none', '', 'auto', 'std', 'pareto', 'vast', 'range', '0to1', '-1to1', 'level', 'max', 'poisson', 'vast_2', 'vast_3', 'vast_4'\n",
    "\n",
    "fig, ax1 = plt.subplots()\n",
    "#fig, ax2 = plt.subplots()\n",
    "for j, Scaling in enumerate(ScalingVec):\n",
    "\n",
    "    pca        = PCAA(yMat, scaling=Scaling, n_components=int(n_modes))\n",
    "    C          = pca.X_center\n",
    "    D          = pca.X_scale\n",
    "    A          = pca.A[:,0:n_modes].T\n",
    "    L          = pca.L\n",
    "    AT         = A.T\n",
    "\n",
    "    ax1.plot(L, label=Scaling)\n",
    "    #ax2.plot(np.cumsum(L**2)/np.cumsum(L**2)[-1])\n",
    "    \n",
    "ax1.set_ylim([1.e-14, 1.e0])\n",
    "ax1.set_xlabel('Component Index')\n",
    "ax1.set_ylabel('Eigenvalue')\n",
    "ax1.set_yscale('log')\n",
    "ax1.legend(title='Scaling')\n",
    "ax1.set_xlim([0,6])\n",
    "\n",
    "# ax2.set_ylim([0.0, 1.e0])\n",
    "# ax2.set_xlabel('Component Index')\n",
    "# ax2.set_ylabel('Eigenvalue')\n",
    "# ax2.legend()\n",
    "# ax2.set_xlim([0,10])\n",
    "\n",
    "if (FigDir):\n",
    "    plt.savefig(FigDir+'/MSD_Eigenvalues_OneByOne_'+Vars[iVar]+'.eps', format='eps', bbox_inches='tight')"
   ]
  },
  {
   "cell_type": "code",
   "execution_count": null,
   "metadata": {},
   "outputs": [],
   "source": [
    "n_modesVec   = np.arange(1,11,1)\n",
    "ScalingVec = ['none', 'auto', 'std', 'pareto', 'vast', 'range', '0to1']\n",
    "#'none', '', 'auto', 'std', 'pareto', 'vast', 'range', '0to1', '-1to1', 'level', 'max', 'poisson', 'vast_2', 'vast_3', 'vast_4'\n",
    "\n",
    "MaxPerc    = np.zeros((len(n_modesVec), len(ScalingVec)))\n",
    "MaxSE      = np.zeros((len(n_modesVec), len(ScalingVec)))\n",
    "MeanPerc   = np.zeros((len(n_modesVec), len(ScalingVec)))\n",
    "MSE        = np.zeros((len(n_modesVec), len(ScalingVec)))\n",
    "for i, n_modes in enumerate(n_modesVec):\n",
    "    #print('n_modes = ', n_modes)\n",
    "    \n",
    "    for j, Scaling in enumerate(ScalingVec):\n",
    "\n",
    "        pca        = PCAA(yMat, scaling=Scaling, n_components=int(n_modes))\n",
    "        C          = pca.X_center\n",
    "        D          = pca.X_scale\n",
    "        A          = pca.A[:,0:n_modes].T\n",
    "        L          = pca.L\n",
    "        AT         = A.T\n",
    "\n",
    "        yMat_pca   = ((yMat - C)/D).dot(AT)\n",
    "        yMat_      = (yMat_pca.dot(A))*D + C\n",
    "        \n",
    "        MaxPerc[i,j]    = np.max(abs((yMat - yMat_)/yMat)*100)\n",
    "        MaxSE[i,j]      = np.max((yMat - yMat_)**2)\n",
    "        MeanPerc[i,j]   = np.mean(abs((yMat - yMat_)/yMat)*100)\n",
    "        MSE[i,j]        = np.mean((yMat - yMat_)**2)\n",
    "\n",
    "plt.figure()\n",
    "plt.plot(n_modesVec, MaxPerc, label=ScalingVec)\n",
    "plt.xlabel('No of Preserved Components')\n",
    "plt.ylabel('Max % Error')\n",
    "plt.legend(title='Scaling')\n",
    "plt.yscale('log')\n",
    "\n",
    "plt.figure()\n",
    "plt.plot(n_modesVec, MaxSE, label=ScalingVec)\n",
    "plt.xlabel('No of Preserved Components')\n",
    "plt.ylabel('Max Squared Error')\n",
    "plt.legend(title='Scaling')\n",
    "plt.yscale('log')\n",
    "\n",
    "plt.figure()\n",
    "plt.plot(n_modesVec, MeanPerc, label=ScalingVec)\n",
    "plt.xlabel('No of Preserved Components')\n",
    "plt.ylabel('Mean % Error')\n",
    "plt.legend(title='Scaling')\n",
    "plt.yscale('log')\n",
    "\n",
    "plt.figure()\n",
    "plt.plot(n_modesVec, MSE, label=ScalingVec)\n",
    "plt.xlabel('No of Preserved Components')\n",
    "plt.ylabel('Mean Squared Error')\n",
    "plt.legend(title='Scaling')\n",
    "plt.yscale('log')"
   ]
  },
  {
   "cell_type": "code",
   "execution_count": null,
   "metadata": {},
   "outputs": [],
   "source": []
  },
  {
   "cell_type": "code",
   "execution_count": null,
   "metadata": {},
   "outputs": [],
   "source": []
  },
  {
   "cell_type": "code",
   "execution_count": null,
   "metadata": {},
   "outputs": [],
   "source": []
  },
  {
   "cell_type": "markdown",
   "metadata": {},
   "source": [
    "## Preserving the first $n_{modesFinal}$ Singular Values and Saving the Related Matrixes/Vectors"
   ]
  },
  {
   "cell_type": "code",
   "execution_count": null,
   "metadata": {},
   "outputs": [],
   "source": [
    "#n_modesFinal = 2\n",
    "\n",
    "pca        = PCAA(yMat, scaling='none', n_components=n_modesFinal, nocenter=True)\n",
    "C          = pca.X_center\n",
    "D          = pca.X_scale\n",
    "A          = pca.A[:,0:n_modesFinal].T\n",
    "L          = pca.L\n",
    "AT         = A.T\n",
    "yMat_Scaled= ((yMat - C)/D)\n",
    "print('[PCA] Shape of A        = ', A.shape)\n",
    "print('[PCA] ')"
   ]
  },
  {
   "cell_type": "code",
   "execution_count": null,
   "metadata": {},
   "outputs": [],
   "source": [
    "try:\n",
    "    os.makedirs(OutputDir+'/'+str(PCAType)+'/PCA_'+mode_name+'/ROM/')\n",
    "except:\n",
    "    pass\n",
    "\n",
    "FileName    = OutputDir+'/'+str(PCAType)+'/PCA_'+mode_name+'/ROM/A.csv'\n",
    "np.savetxt(FileName, A, delimiter=',')\n",
    "\n",
    "FileName    = OutputDir+'/'+str(PCAType)+'/PCA_'+mode_name+'/ROM/C.csv'\n",
    "np.savetxt(FileName, C, delimiter=',')\n",
    "\n",
    "FileName    = OutputDir+'/'+str(PCAType)+'/PCA_'+mode_name+'/ROM/D.csv'\n",
    "np.savetxt(FileName, D, delimiter=',')\n",
    "\n",
    "FileName    = OutputDir+'/'+str(PCAType)+'/PCA_'+mode_name+'/ROM/yMat_Scaled.csv'\n",
    "np.savetxt(FileName, yMat_Scaled, delimiter=',')"
   ]
  },
  {
   "cell_type": "markdown",
   "metadata": {},
   "source": [
    "### Reduction Error Estimate"
   ]
  },
  {
   "cell_type": "code",
   "execution_count": null,
   "metadata": {},
   "outputs": [],
   "source": [
    "#yMat_pca    = pca.transform(yMat, nocenter=False)\n",
    "yMat_pca   = ((yMat - C)/D).dot(AT)\n",
    "\n",
    "yMat_      = (yMat_pca.dot(A))*D + C\n",
    "print('[PCA] Shape of yMat_pca = ', yMat_pca.shape)\n",
    "print('[PCA]  Max % Error = ', np.max(abs((yMat - yMat_)/yMat)*100))\n",
    "print('[PCA]  Max      SE = ', np.max((yMat - yMat_)**2))\n",
    "print('[PCA] Mean % Error = ', np.mean(abs((yMat - yMat_)/yMat)*100))\n",
    "print('[PCA]          MSE = ', np.mean((yMat - yMat_)**2))"
   ]
  },
  {
   "cell_type": "markdown",
   "metadata": {},
   "source": [
    "### Plotting the Components of the Projection Matrix"
   ]
  },
  {
   "cell_type": "code",
   "execution_count": null,
   "metadata": {},
   "outputs": [],
   "source": [
    "# %matplotlib qt\n",
    "\n",
    "\n",
    "fig = plt.figure()\n",
    "ax  = fig.add_subplot(projection='3d')\n",
    "ax.scatter(ICs[:,0], ICs[:,1], A[0,:])\n",
    "ax.set_xlabel('\\n\\n'+r'$x_{0} [m]$', rotation = 0)\n",
    "ax.set_ylabel(r'                $v_{0} [m/s]$', rotation = 0)\n",
    "ax.set_zlabel(r'        $\\alpha_{'+Vars[iVar]+'_'+str(1)+'}$', rotation = 0)\n",
    "ax.xaxis.set_rotate_label(False)\n",
    "ax.yaxis.set_rotate_label(False)\n",
    "ax.zaxis.set_rotate_label(False)\n",
    "\n",
    "if (FigDir):\n",
    "    plt.savefig(FigDir+'/MSD_Alpha1_'+mode_name+'.eps', format='eps', bbox_inches='tight')\n",
    "\n",
    "\n",
    "fig = plt.figure()\n",
    "ax  = fig.add_subplot(projection='3d')\n",
    "ax.scatter(ICs[:,0], ICs[:,1], A[1,:])\n",
    "ax.set_xlabel('\\n\\n'+r'$x_{0} [m]$', rotation = 0)\n",
    "ax.set_ylabel(r'                $v_{0} [m/s]$', rotation = 0)\n",
    "ax.set_zlabel(r'        $\\alpha_{'+Vars[iVar]+'_'+str(2)+'}$', rotation = 0)\n",
    "ax.xaxis.set_rotate_label(False)\n",
    "ax.yaxis.set_rotate_label(False)\n",
    "ax.zaxis.set_rotate_label(False)\n",
    "\n",
    "if (FigDir):\n",
    "    plt.savefig(FigDir+'/MSD_Alpha2_'+mode_name+'.eps', format='eps', bbox_inches='tight')"
   ]
  },
  {
   "cell_type": "markdown",
   "metadata": {},
   "source": [
    "### Plotting Eigenmodes"
   ]
  },
  {
   "cell_type": "code",
   "execution_count": null,
   "metadata": {},
   "outputs": [],
   "source": [
    "plt.figure()\n",
    "plt.plot(tVec, yMat_pca[:,0], '-k')\n",
    "plt.xlabel('Time [s]')\n",
    "plt.ylabel(r'$\\phi_{'+Vars[iVar]+'_'+str(1)+'}$')\n",
    "\n",
    "if (FigDir):\n",
    "    plt.savefig(FigDir+'/MSD_OneByOne_'+str(Vars[iVar])+'_phi1.eps', format='eps', bbox_inches='tight')\n",
    "\n",
    "\n",
    "\n",
    "plt.figure()\n",
    "plt.plot(tVec, yMat_pca[:,1], '-k')\n",
    "plt.xlabel('Time [s]')\n",
    "plt.ylabel(r'$\\phi_{'+Vars[iVar]+'_'+str(2)+'}$')\n",
    "\n",
    "if (FigDir):\n",
    "    plt.savefig(FigDir+'/MSD_OneByOne_'+str(Vars[iVar])+'_phi2.eps', format='eps', bbox_inches='tight')"
   ]
  },
  {
   "cell_type": "markdown",
   "metadata": {},
   "source": [
    "### Comparing Original Data vs Encoded-Decoded Data"
   ]
  },
  {
   "cell_type": "code",
   "execution_count": null,
   "metadata": {},
   "outputs": [],
   "source": [
    "iScenario = 1\n",
    "\n",
    "plt.figure()\n",
    "plt.plot(tVec, yMat[:,iScenario],  '-', label='ODE')\n",
    "plt.plot(tVec, yMat_[:,iScenario], ':', label='PCA, $N_{\\phi}$='+str(n_modesFinal))\n",
    "plt.xlabel('Time [s]')\n",
    "plt.ylabel(r''+Vars[iVar])\n",
    "plt.legend()"
   ]
  },
  {
   "cell_type": "code",
   "execution_count": null,
   "metadata": {},
   "outputs": [],
   "source": []
  },
  {
   "cell_type": "code",
   "execution_count": null,
   "metadata": {},
   "outputs": [],
   "source": []
  },
  {
   "cell_type": "code",
   "execution_count": null,
   "metadata": {},
   "outputs": [],
   "source": []
  },
  {
   "cell_type": "markdown",
   "metadata": {},
   "source": [
    "## Writing Training and Test Data for the Trunks' and Brunches' FNNs"
   ]
  },
  {
   "cell_type": "code",
   "execution_count": null,
   "metadata": {},
   "outputs": [],
   "source": [
    "VarsPCA          = ['PCA_'+str(i_mode+1) for i_mode in range(n_modesFinal)]\n",
    "Data             = pd.DataFrame(yMat_pca, columns=VarsPCA)\n",
    "#tVec[tVec == 0.] = FixedMinVal\n",
    "Data['t']        = tVec\n",
    "Data['log(t)']   = np.log(tVec)\n",
    "Data['log10(t)'] = np.log10(tVec)\n",
    "\n",
    "\n",
    "Data"
   ]
  },
  {
   "cell_type": "markdown",
   "metadata": {},
   "source": [
    "### Trunks"
   ]
  },
  {
   "cell_type": "code",
   "execution_count": null,
   "metadata": {},
   "outputs": [],
   "source": [
    "from sklearn.model_selection import train_test_split\n",
    "\n",
    "try:\n",
    "    os.makedirs(OutputDir+'/'+str(PCAType)+'/PCA_'+mode_name)\n",
    "except:\n",
    "    pass\n",
    "try:\n",
    "    os.makedirs(OutputDir+'/'+str(PCAType)+'/PCA_'+mode_name+'/Trunk/')\n",
    "except:\n",
    "    pass\n",
    "try:\n",
    "    os.makedirs(OutputDir+'/'+str(PCAType)+'/PCA_'+mode_name+'/Trunk/train/')\n",
    "except:\n",
    "    pass\n",
    "try:\n",
    "    os.makedirs(OutputDir+'/'+str(PCAType)+'/PCA_'+mode_name+'/Trunk/valid/')\n",
    "except:\n",
    "    pass\n",
    "try:\n",
    "    os.makedirs(OutputDir+'/'+str(PCAType)+'/PCA_'+mode_name+'/Trunk/test/')\n",
    "except:\n",
    "    pass"
   ]
  },
  {
   "cell_type": "code",
   "execution_count": null,
   "metadata": {},
   "outputs": [],
   "source": [
    "data_id    = 'pts'\n",
    "\n",
    "DataNoZero           = Data #[Data['t'] >= FixedMinVal]\n",
    "n_points             = len(DataNoZero)\n",
    "\n",
    "idx                  = np.arange(n_points)\n",
    "train_idx, valid_idx = train_test_split(idx, test_size=valid_perc/100, random_state=42)\n",
    "\n",
    "n_valid              = len(valid_idx)\n",
    "n_train              = len(train_idx)\n",
    "\n",
    "\n",
    "try:\n",
    "    os.makedirs(OutputDir+'/'+str(PCAType)+'/PCA_'+mode_name+'/Trunk/train/'+data_id+'/')\n",
    "except:\n",
    "    pass\n",
    "try:\n",
    "    os.makedirs(OutputDir+'/'+str(PCAType)+'/PCA_'+mode_name+'/Trunk/valid/'+data_id+'/')\n",
    "except:\n",
    "    pass\n",
    "\n",
    "DataInput  = DataNoZero[['t', 'log10(t)', 'log(t)'] + VarsPCA]\n",
    "DataInput.iloc[train_idx].to_csv(OutputDir+'/'+str(PCAType)+'/PCA_'+mode_name+'/Trunk/train/'+data_id+'/Input.csv', index=False)\n",
    "DataInput.iloc[valid_idx].to_csv(OutputDir+'/'+str(PCAType)+'/PCA_'+mode_name+'/Trunk/valid/'+data_id+'/Input.csv', index=False)\n",
    "\n",
    "DataOutput = DataNoZero[['t', 'log10(t)', 'log(t)'] + VarsPCA]\n",
    "DataOutput.iloc[train_idx].to_csv(OutputDir+'/'+str(PCAType)+'/PCA_'+mode_name+'/Trunk/train/'+data_id+'/Output.csv', index=False)\n",
    "DataOutput.iloc[valid_idx].to_csv(OutputDir+'/'+str(PCAType)+'/PCA_'+mode_name+'/Trunk/valid/'+data_id+'/Output.csv', index=False)"
   ]
  },
  {
   "cell_type": "code",
   "execution_count": null,
   "metadata": {},
   "outputs": [],
   "source": [
    "DataNoZero           = Data\n",
    "n_points             = len(DataNoZero)\n",
    "\n",
    "n_test               = n_points\n",
    "\n",
    "\n",
    "try:\n",
    "    os.makedirs(OutputDir+'/'+str(PCAType)+'/PCA_'+mode_name+'/Trunk/test/ext/')\n",
    "except:\n",
    "    pass\n",
    "\n",
    "DataInput  = DataNoZero[['t', 'log10(t)', 'log(t)'] + VarsPCA]\n",
    "DataInput.to_csv(OutputDir+'/'+str(PCAType)+'/PCA_'+mode_name+'/Trunk/test/ext/Input.csv', index=False)\n",
    "\n",
    "DataOutput = DataNoZero[['t', 'log10(t)', 'log(t)'] + VarsPCA]\n",
    "DataOutput.to_csv(OutputDir+'/'+str(PCAType)+'/PCA_'+mode_name+'/Trunk/test/ext/Output.csv', index=False)"
   ]
  },
  {
   "cell_type": "markdown",
   "metadata": {},
   "source": [
    "### Branches"
   ]
  },
  {
   "cell_type": "code",
   "execution_count": null,
   "metadata": {},
   "outputs": [],
   "source": [
    "from sklearn.model_selection import train_test_split\n",
    "\n",
    "try:\n",
    "    os.makedirs(OutputDir+'/'+str(PCAType)+'/PCA_'+mode_name)\n",
    "except:\n",
    "    pass"
   ]
  },
  {
   "cell_type": "code",
   "execution_count": null,
   "metadata": {},
   "outputs": [],
   "source": [
    "try:\n",
    "    os.makedirs(OutputDir+'/'+str(PCAType)+'/PCA_'+mode_name+'/Branch/')\n",
    "except:\n",
    "    pass\n",
    "try:\n",
    "    os.makedirs(OutputDir+'/'+str(PCAType)+'/PCA_'+mode_name+'/Branch/train/')\n",
    "except:\n",
    "    pass\n",
    "try:\n",
    "    os.makedirs(OutputDir+'/'+str(PCAType)+'/PCA_'+mode_name+'/Branch/valid/')\n",
    "except:\n",
    "    pass\n",
    "try:\n",
    "    os.makedirs(OutputDir+'/'+str(PCAType)+'/PCA_'+mode_name+'/Branch/test/')\n",
    "except:\n",
    "    pass"
   ]
  },
  {
   "cell_type": "code",
   "execution_count": null,
   "metadata": {},
   "outputs": [],
   "source": [
    "data_id    = 'pts'\n",
    "\n",
    "n_points             = len(DataIC)\n",
    "\n",
    "idx                  = np.arange(n_points)\n",
    "train_idx, valid_idx = train_test_split(idx, test_size=valid_perc/100, random_state=42)\n",
    "\n",
    "n_valid              = len(valid_idx)\n",
    "n_train              = len(train_idx)\n",
    "\n",
    "try:\n",
    "    os.makedirs(OutputDir+'/'+str(PCAType)+'/PCA_'+mode_name+'/Branch/train/'+data_id+'/')\n",
    "except:\n",
    "    pass\n",
    "try:\n",
    "    os.makedirs(OutputDir+'/'+str(PCAType)+'/PCA_'+mode_name+'/Branch/valid/'+data_id+'/')\n",
    "except:\n",
    "    pass\n",
    "\n",
    "DataInput  = DataIC\n",
    "DataInput.iloc[train_idx].to_csv(OutputDir+'/'+str(PCAType)+'/PCA_'+mode_name+'/Branch/train/'+data_id+'/Input.csv', index=False)\n",
    "DataInput.iloc[valid_idx].to_csv(OutputDir+'/'+str(PCAType)+'/PCA_'+mode_name+'/Branch/valid/'+data_id+'/Input.csv', index=False)\n",
    "\n",
    "DataOutput = pd.DataFrame(np.concatenate([A.T, C[...,np.newaxis], D[...,np.newaxis]], axis=1), columns=['PCA_'+str(i+1) for i in range(A.shape[0])]+['C','D'])\n",
    "DataOutput.iloc[train_idx].to_csv(OutputDir+'/'+str(PCAType)+'/PCA_'+mode_name+'/Branch/train/'+data_id+'/Output.csv', index=False)\n",
    "DataOutput.iloc[valid_idx].to_csv(OutputDir+'/'+str(PCAType)+'/PCA_'+mode_name+'/Branch/valid/'+data_id+'/Output.csv', index=False)"
   ]
  },
  {
   "cell_type": "code",
   "execution_count": null,
   "metadata": {},
   "outputs": [],
   "source": [
    "n_points             = len(DataIC)\n",
    "\n",
    "n_test               = n_points\n",
    "\n",
    "try:\n",
    "    os.makedirs(OutputDir+'/'+str(PCAType)+'/PCA_'+mode_name+'/Branch/test/ext/')\n",
    "except:\n",
    "    pass\n",
    "\n",
    "DataInput  = DataIC\n",
    "DataInput.to_csv(OutputDir+'/'+str(PCAType)+'/PCA_'+mode_name+'/Branch/test/ext/Input.csv', index=False)\n",
    "\n",
    "DataOutput = pd.DataFrame(np.concatenate([A.T, C[...,np.newaxis], D[...,np.newaxis]], axis=1), columns=['PCA_'+str(i+1) for i in range(A.shape[0])]+['C','D'])\n",
    "DataOutput.to_csv(OutputDir+'/'+str(PCAType)+'/PCA_'+mode_name+'/Branch/test/ext/Output.csv', index=False)"
   ]
  },
  {
   "cell_type": "code",
   "execution_count": null,
   "metadata": {},
   "outputs": [],
   "source": [
    "### EXPERIMENTING\n",
    "\n",
    "# try:\n",
    "#     os.makedirs(OutputDir+'/'+str(PCAType)+'/PCA_'+mode_name+'/Branch_ICs/')\n",
    "# except:\n",
    "#     pass\n",
    "# try:\n",
    "#     os.makedirs(OutputDir+'/'+str(PCAType)+'/PCA_'+mode_name+'/Branch_ICs/train/')\n",
    "# except:\n",
    "#     pass\n",
    "# try:\n",
    "#     os.makedirs(OutputDir+'/'+str(PCAType)+'/PCA_'+mode_name+'/Branch_ICs/valid/')\n",
    "# except:\n",
    "#     pass\n",
    "# try:\n",
    "#     os.makedirs(OutputDir+'/'+str(PCAType)+'/PCA_'+mode_name+'/Branch_ICs/test/')\n",
    "# except:\n",
    "#     pass"
   ]
  },
  {
   "cell_type": "code",
   "execution_count": null,
   "metadata": {},
   "outputs": [],
   "source": [
    "# data_id    = 'pts'\n",
    "\n",
    "# n_points             = len(DataIC)\n",
    "\n",
    "\n",
    "# # idx                  = np.arange(n_points)\n",
    "# # train_idx, valid_idx = train_test_split(idx, test_size=valid_perc/100, random_state=42)\n",
    "# idx                  = np.arange(n_points)\n",
    "# train_idx            = idx\n",
    "# valid_idx            = idx\n",
    "\n",
    "# n_valid              = len(valid_idx)\n",
    "# n_train              = len(train_idx)\n",
    "\n",
    "# try:\n",
    "#     os.makedirs(OutputDir+'/'+str(PCAType)+'/PCA_'+mode_name+'/Branch_ICs/train/'+data_id+'/')\n",
    "# except:\n",
    "#     pass\n",
    "# try:\n",
    "#     os.makedirs(OutputDir+'/'+str(PCAType)+'/PCA_'+mode_name+'/Branch_ICs/valid/'+data_id+'/')\n",
    "# except:\n",
    "#     pass\n",
    "\n",
    "# DataInput  = DataIC\n",
    "# DataInput.iloc[train_idx].to_csv(OutputDir+'/'+str(PCAType)+'/PCA_'+mode_name+'/Branch_ICs/train/'+data_id+'/Input.csv', index=False)\n",
    "# DataInput.iloc[valid_idx].to_csv(OutputDir+'/'+str(PCAType)+'/PCA_'+mode_name+'/Branch_ICs/valid/'+data_id+'/Input.csv', index=False)\n",
    "\n",
    "# YY = np.zeros((A.shape[1],A.shape[1]), dtype=int)\n",
    "# for i in range(YY.shape[0]):\n",
    "#     YY[i,i] = 1\n",
    "# DataYY = pd.DataFrame(YY, columns=['IC_'+str(i+1) for i in range(YY.shape[0])])\n",
    "# DataYY.iloc[train_idx].to_csv(OutputDir+'/'+str(PCAType)+'/PCA_'+mode_name+'/Branch_ICs/train/'+data_id+'/Output.csv', index=False)\n",
    "# DataYY.iloc[valid_idx].to_csv(OutputDir+'/'+str(PCAType)+'/PCA_'+mode_name+'/Branch_ICs/valid/'+data_id+'/Output.csv', index=False)"
   ]
  },
  {
   "cell_type": "code",
   "execution_count": null,
   "metadata": {},
   "outputs": [],
   "source": [
    "# n_points             = len(DataIC)\n",
    "\n",
    "# n_test               = n_points\n",
    "\n",
    "# try:\n",
    "#     os.makedirs(OutputDir+'/'+str(PCAType)+'/PCA_'+mode_name+'/Branch_ICs/test/ext/')\n",
    "# except:\n",
    "#     pass\n",
    "\n",
    "# DataInput  = DataIC\n",
    "# DataInput.to_csv(OutputDir+'/'+str(PCAType)+'/PCA_'+mode_name+'/Branch_ICs/test/ext/Input.csv', index=False)\n",
    "\n",
    "# YY = np.zeros((A.shape[1],A.shape[1]), dtype=int)\n",
    "# for i in range(YY.shape[0]):\n",
    "#     YY[i,i] = 1\n",
    "# DataYY = pd.DataFrame(YY, columns=['IC_'+str(i+1) for i in range(YY.shape[0])])\n",
    "# #DataYY.to_csv(OutputDir+'/'+str(PCAType)+'/PCA_'+mode_name+'/Branch_ICs/test/ext/Output.csv', index=False)"
   ]
  },
  {
   "cell_type": "code",
   "execution_count": null,
   "metadata": {},
   "outputs": [],
   "source": []
  },
  {
   "cell_type": "code",
   "execution_count": null,
   "metadata": {},
   "outputs": [],
   "source": []
  },
  {
   "cell_type": "code",
   "execution_count": null,
   "metadata": {},
   "outputs": [],
   "source": []
  }
 ],
 "metadata": {
  "kernelspec": {
   "display_name": "Python 3",
   "language": "python",
   "name": "python3"
  },
  "language_info": {
   "codemirror_mode": {
    "name": "ipython",
    "version": 3
   },
   "file_extension": ".py",
   "mimetype": "text/x-python",
   "name": "python",
   "nbconvert_exporter": "python",
   "pygments_lexer": "ipython3",
   "version": "3.8.11"
  }
 },
 "nbformat": 4,
 "nbformat_minor": 4
}
