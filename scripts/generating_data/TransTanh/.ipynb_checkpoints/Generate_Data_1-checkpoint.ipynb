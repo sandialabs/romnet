{
 "cells": [
  {
   "cell_type": "markdown",
   "id": "e84faee9",
   "metadata": {},
   "source": [
    "# Translating Hyperbolic Function: Generating Training and Test Data"
   ]
  },
  {
   "cell_type": "code",
   "execution_count": 1,
   "id": "85c57527",
   "metadata": {},
   "outputs": [
    {
     "name": "stdout",
     "output_type": "stream",
     "text": [
      "3.8.11 (default, Jun 29 2021, 03:17:05) \n",
      "[Clang 12.0.0 (clang-1200.0.32.29)]\n"
     ]
    },
    {
     "name": "stderr",
     "output_type": "stream",
     "text": [
      "Missing colon in file PosixPath('/Users/sventur/.matplotlib/stylelib/paper_2columns.mplstyle'), line 1 ('f#### MATPLOTLIBRC FORMAT')\n"
     ]
    }
   ],
   "source": [
    "### Importing Libraries\n",
    "\n",
    "import sys\n",
    "print(sys.version)\n",
    "import os\n",
    "import time\n",
    "\n",
    "\n",
    "### Defining WORKSPACE_PATH\n",
    "\n",
    "# WORKSPACE_PATH = os.environ['WORKSPACE_PATH']\n",
    "WORKSPACE_PATH = os.getcwd()+'/../../../../../'\n",
    "ROMNet_fld     = WORKSPACE_PATH + '/ROMNet/romnet/'\n",
    "\n",
    "\n",
    "\n",
    "### Importing External Libraries\n",
    "\n",
    "import numpy                             as np\n",
    "import pandas                            as pd\n",
    "\n",
    "\n",
    "### Importing Matplotlib and Its Style\n",
    "\n",
    "import matplotlib.pyplot                 as plt\n",
    "\n",
    "# plt.style.use(WORKSPACE_PATH+'/ROMNet/romnet/extra/postprocessing/presentation.mplstyle')\n",
    "# plt.style.use(WORKSPACE_PATH+'/ROMNet/romnet/extra/postprocessing/zoomed.mplstyle')\n",
    "plt.style.use(WORKSPACE_PATH+'/ROMNet/romnet/extra/postprocessing/paper_1column.mplstyle')\n",
    "# plt.style.use(WORKSPACE_PATH+'/ROMNet/romnet/extra/postprocessing/paper_2columns.mplstyle')\n",
    "\n",
    "\n",
    "from PCAfold         import PCA          as PCAA\n",
    "\n",
    "from scipy.integrate import solve_ivp\n",
    "import pyDOE    "
   ]
  },
  {
   "cell_type": "markdown",
   "id": "16230c63",
   "metadata": {},
   "source": [
    "## Defining Input Variables"
   ]
  },
  {
   "cell_type": "code",
   "execution_count": 2,
   "id": "6893069f",
   "metadata": {},
   "outputs": [],
   "source": [
    "OutputDir   = WORKSPACE_PATH+'/ROMNet/Data/TransTanh_100Cases/'\n",
    "FigDir      = WORKSPACE_PATH+'/../Desktop/Paper_Figures_DeepONet/'\n",
    "\n",
    "\n",
    "n_training  = 100\n",
    "n_test      = 10  \n",
    "Nt          = 500\n",
    "tout        = np.linspace(0.,15.,Nt)\n",
    "SOLVER      = 'BDF'\n",
    "\n",
    "MinVals     = [5.]\n",
    "MaxVals     = [10.]\n",
    "aParam      = 7.\n",
    "\n",
    "\n",
    "ColorVec    = ['#190707', '#dd3232', '#0065a9', '#348a00','#985396','#f68b69']\n",
    "\n",
    "try:\n",
    "    os.makedirs(OutputDir)\n",
    "except OSError as e:\n",
    "    pass\n",
    "\n",
    "OutputDir += '/Orig/'\n",
    "try:\n",
    "    os.makedirs(OutputDir)\n",
    "except OSError as e:\n",
    "    pass\n",
    "\n",
    "TempDir = OutputDir+'/train/'\n",
    "try:\n",
    "    os.makedirs(TempDir)\n",
    "except OSError as e:\n",
    "    pass\n",
    "\n",
    "TempDir = TempDir+'/ext/'\n",
    "try:\n",
    "    os.makedirs(TempDir)\n",
    "except OSError as e:\n",
    "    pass\n",
    "\n",
    "TempDir = OutputDir+'/test/'\n",
    "try:\n",
    "    os.makedirs(TempDir)\n",
    "except OSError as e:\n",
    "    pass\n",
    "\n",
    "TempDir = TempDir+'/ext/'\n",
    "try:\n",
    "    os.makedirs(TempDir)\n",
    "except OSError as e:\n",
    "    pass"
   ]
  },
  {
   "cell_type": "markdown",
   "id": "f1e65fa3",
   "metadata": {},
   "source": [
    "## ODE"
   ]
  },
  {
   "cell_type": "code",
   "execution_count": 3,
   "id": "e82407d8",
   "metadata": {},
   "outputs": [],
   "source": [
    "def fOrig(t, y):\n",
    "    return [1./(np.cosh(Params[0]/Params[1]-t)**2)]"
   ]
  },
  {
   "cell_type": "code",
   "execution_count": null,
   "id": "ff4e9ebc",
   "metadata": {},
   "outputs": [],
   "source": []
  },
  {
   "cell_type": "code",
   "execution_count": null,
   "id": "886bb2eb",
   "metadata": {},
   "outputs": [],
   "source": []
  },
  {
   "cell_type": "code",
   "execution_count": null,
   "id": "2099d5d2",
   "metadata": {},
   "outputs": [],
   "source": []
  },
  {
   "cell_type": "markdown",
   "id": "06e9b737",
   "metadata": {},
   "source": [
    "## Sampling and Plotting Initial Conditions"
   ]
  },
  {
   "cell_type": "code",
   "execution_count": 4,
   "id": "df870447",
   "metadata": {},
   "outputs": [],
   "source": [
    "### From Uniform Distibutions\n",
    "\n",
    "# y0Mat      = np.zeros((n_training,2))\n",
    "# y0Mat[:,0] = np.random.rand(n_training)*4. - 2.0\n",
    "# y0Mat[:,1] = np.random.rand(n_training)*4. - 2.0\n",
    "\n",
    "# y0MatTest      = np.zeros((n_test,2))\n",
    "# y0MatTest[:,0] = np.random.rand(n_test)*4. - 2.0\n",
    "# y0MatTest[:,1] = np.random.rand(n_test)*2. - 1.0\n",
    "\n",
    "\n",
    "### From Latin Hypercube \n",
    "\n",
    "y0Mat     = pyDOE.lhs(1, samples=n_training, criterion='center')\n",
    "for i in range(1):\n",
    "    y0Mat[:,i] = y0Mat[:,i] * (MaxVals[i] - MinVals[i]) + MinVals[i]\n",
    "\n",
    "y0MatTest     = pyDOE.lhs(1, samples=n_test, criterion='center')\n",
    "for i in range(1):\n",
    "    y0MatTest[:,i] = y0MatTest[:,i] * (MaxVals[i] - MinVals[i]) + MinVals[i]"
   ]
  },
  {
   "cell_type": "code",
   "execution_count": null,
   "id": "8173b495",
   "metadata": {},
   "outputs": [],
   "source": []
  },
  {
   "cell_type": "code",
   "execution_count": null,
   "id": "9927aeeb",
   "metadata": {},
   "outputs": [],
   "source": []
  },
  {
   "cell_type": "code",
   "execution_count": null,
   "id": "800e3138",
   "metadata": {},
   "outputs": [],
   "source": []
  },
  {
   "cell_type": "markdown",
   "id": "98475a22",
   "metadata": {},
   "source": [
    "## Generating Training Data"
   ]
  },
  {
   "cell_type": "code",
   "execution_count": 5,
   "id": "c92a1f41",
   "metadata": {},
   "outputs": [
    {
     "name": "stderr",
     "output_type": "stream",
     "text": [
      "/usr/local/lib/python3.8/site-packages/scipy/integrate/_ivp/common.py:47: UserWarning: `rtol` is too low, setting to 2.220446049250313e-14\n",
      "  warn(\"`rtol` is too low, setting to {}\".format(100 * EPS))\n",
      "/usr/local/lib/python3.8/site-packages/scipy/integrate/_ivp/common.py:47: UserWarning: `rtol` is too low, setting to 2.220446049250313e-14\n",
      "  warn(\"`rtol` is too low, setting to {}\".format(100 * EPS))\n",
      "/usr/local/lib/python3.8/site-packages/scipy/integrate/_ivp/common.py:47: UserWarning: `rtol` is too low, setting to 2.220446049250313e-14\n",
      "  warn(\"`rtol` is too low, setting to {}\".format(100 * EPS))\n",
      "/usr/local/lib/python3.8/site-packages/scipy/integrate/_ivp/common.py:47: UserWarning: `rtol` is too low, setting to 2.220446049250313e-14\n",
      "  warn(\"`rtol` is too low, setting to {}\".format(100 * EPS))\n",
      "/usr/local/lib/python3.8/site-packages/scipy/integrate/_ivp/common.py:47: UserWarning: `rtol` is too low, setting to 2.220446049250313e-14\n",
      "  warn(\"`rtol` is too low, setting to {}\".format(100 * EPS))\n",
      "/usr/local/lib/python3.8/site-packages/scipy/integrate/_ivp/common.py:47: UserWarning: `rtol` is too low, setting to 2.220446049250313e-14\n",
      "  warn(\"`rtol` is too low, setting to {}\".format(100 * EPS))\n",
      "/usr/local/lib/python3.8/site-packages/scipy/integrate/_ivp/common.py:47: UserWarning: `rtol` is too low, setting to 2.220446049250313e-14\n",
      "  warn(\"`rtol` is too low, setting to {}\".format(100 * EPS))\n",
      "/usr/local/lib/python3.8/site-packages/scipy/integrate/_ivp/common.py:47: UserWarning: `rtol` is too low, setting to 2.220446049250313e-14\n",
      "  warn(\"`rtol` is too low, setting to {}\".format(100 * EPS))\n",
      "/usr/local/lib/python3.8/site-packages/scipy/integrate/_ivp/common.py:47: UserWarning: `rtol` is too low, setting to 2.220446049250313e-14\n",
      "  warn(\"`rtol` is too low, setting to {}\".format(100 * EPS))\n",
      "/usr/local/lib/python3.8/site-packages/scipy/integrate/_ivp/common.py:47: UserWarning: `rtol` is too low, setting to 2.220446049250313e-14\n",
      "  warn(\"`rtol` is too low, setting to {}\".format(100 * EPS))\n",
      "/usr/local/lib/python3.8/site-packages/scipy/integrate/_ivp/common.py:47: UserWarning: `rtol` is too low, setting to 2.220446049250313e-14\n",
      "  warn(\"`rtol` is too low, setting to {}\".format(100 * EPS))\n"
     ]
    },
    {
     "data": {
      "image/png": "[encoded data removed]",
      "text/plain": [
       "<Figure size 720x720 with 1 Axes>"
      ]
     },
     "metadata": {
      "needs_background": "light"
     },
     "output_type": "display_data"
    }
   ],
   "source": [
    "Params = np.zeros(2)\n",
    "\n",
    "fig = plt.figure()\n",
    "for iSample in range(n_training):\n",
    "    y0         = y0Mat[iSample,:]\n",
    "    #print('y0 = ', y0)\n",
    "    Params[0]  = y0Mat[iSample,0]\n",
    "    Params[1]  = aParam\n",
    "    \n",
    "    output     = solve_ivp( fOrig, tout[[0,-1]], y0, method=SOLVER, t_eval=tout, rtol=1.e-15, atol=1.e-20 )\n",
    "    \n",
    "    tMatTemp   = tout[...,np.newaxis]\n",
    "    uMatTemp   = np.tile(y0, (Nt, 1))\n",
    "    \n",
    "    if (iSample//10 == 0):\n",
    "        plt.plot(output.t, output.y[0,:], color=ColorVec[0])\n",
    "        plt.plot(output.t, np.tanh(output.t-Params[0]/Params[1]) + np.tanh(Params[0]/Params[1]) + (Params[0]), color='r')\n",
    "\n",
    "    if (iSample == 0):\n",
    "        tMat    = tMatTemp\n",
    "        uMat    = uMatTemp\n",
    "        yMat    = output.y.T \n",
    "        zMat    = output.y.T \n",
    "    else:\n",
    "        tMat    = np.concatenate((tMat,    tMatTemp), axis=0)\n",
    "        uMat    = np.concatenate((uMat,    uMatTemp), axis=0)\n",
    "        yMat    = np.concatenate((yMat,    output.y.T), axis=0)\n",
    "        zMat    = np.concatenate((zMat,    output.y.T), axis=1)\n",
    "\n",
    "    Header   = 't,x'\n",
    "    FileName = OutputDir+'/train/ext/y.csv.'+str(iSample+1)\n",
    "    np.savetxt(FileName, np.concatenate((tMatTemp,output.y.T), axis=1), delimiter=',', header=Header, comments='')\n",
    "        \n",
    "        \n",
    "plt.xlabel('t')\n",
    "plt.ylabel('x')\n",
    "plt.tick_params(axis='y')\n",
    "#ax1.set_ylim([-6.,6.])\n",
    "\n",
    "fig.tight_layout()  # otherwise the right y-label is slightly clipped\n",
    "\n",
    "if (FigDir):\n",
    "    plt.savefig(FigDir+'/TransTanh_TrainDynamics.eps', format='eps', bbox_inches='tight')"
   ]
  },
  {
   "cell_type": "markdown",
   "id": "d411a614",
   "metadata": {},
   "source": [
    "## Splitting and Writing Training Data"
   ]
  },
  {
   "cell_type": "code",
   "execution_count": 6,
   "id": "36bfa490",
   "metadata": {},
   "outputs": [],
   "source": [
    "from sklearn.model_selection import train_test_split\n",
    "\n",
    "try:\n",
    "    os.makedirs(OutputDir+'/valid/')\n",
    "except:\n",
    "    pass"
   ]
  },
  {
   "cell_type": "code",
   "execution_count": 7,
   "id": "3307d9e1",
   "metadata": {},
   "outputs": [],
   "source": [
    "data_id    = 'pts'\n",
    "\n",
    "DataInput  = pd.DataFrame(np.concatenate((tMat,uMat), axis=1), columns=['t','x'])\n",
    "DataOutput = pd.DataFrame(np.concatenate((tMat,yMat), axis=1), columns=['t','x'])\n",
    "                          \n",
    "n_points   = len(DataInput)\n",
    "\n",
    "idx                  = np.arange(n_points)\n",
    "train_idx, valid_idx = train_test_split(idx, test_size=0.2, random_state=42)\n",
    "\n",
    "n_valid              = len(valid_idx)\n",
    "n_train              = len(train_idx)\n",
    "\n",
    "try:\n",
    "    os.makedirs(OutputDir+'/train/'+data_id+'/')\n",
    "except:\n",
    "    pass\n",
    "try:\n",
    "    os.makedirs(OutputDir+'/valid/'+data_id+'/')\n",
    "except:\n",
    "    pass\n",
    "\n",
    "DataInput.iloc[train_idx].to_csv(OutputDir+'/train/'+data_id+'/Input.csv', index=False)\n",
    "DataInput.iloc[valid_idx].to_csv(OutputDir+'/valid/'+data_id+'/Input.csv', index=False)\n",
    "\n",
    "DataOutput.iloc[train_idx].to_csv(OutputDir+'/train/'+data_id+'/Output.csv', index=False)\n",
    "DataOutput.iloc[valid_idx].to_csv(OutputDir+'/valid/'+data_id+'/Output.csv', index=False)"
   ]
  },
  {
   "cell_type": "code",
   "execution_count": 8,
   "id": "dfb37e20",
   "metadata": {},
   "outputs": [],
   "source": [
    "data_id    = 'ics'\n",
    "\n",
    "t0Mat      = np.zeros((y0Mat.shape[0],1))\n",
    "u0Mat      = y0Mat\n",
    "\n",
    "DataInput  = pd.DataFrame(np.concatenate((t0Mat,u0Mat), axis=1), columns=['t','x'])\n",
    "DataOutput = pd.DataFrame(np.concatenate((t0Mat,u0Mat), axis=1), columns=['t','x'])\n",
    "                          \n",
    "n_points   = len(DataInput)\n",
    "\n",
    "idx                  = np.arange(n_points)\n",
    "train_idx, valid_idx = train_test_split(idx, test_size=0.2, random_state=42)\n",
    "\n",
    "n_valid              = len(valid_idx)\n",
    "n_train              = len(train_idx)\n",
    "\n",
    "try:\n",
    "    os.makedirs(OutputDir+'/train/'+data_id+'/')\n",
    "except:\n",
    "    pass\n",
    "try:\n",
    "    os.makedirs(OutputDir+'/valid/'+data_id+'/')\n",
    "except:\n",
    "    pass\n",
    "\n",
    "DataInput.iloc[train_idx].to_csv(OutputDir+'/train/'+data_id+'/Input.csv', index=False)\n",
    "DataInput.iloc[valid_idx].to_csv(OutputDir+'/valid/'+data_id+'/Input.csv', index=False)\n",
    "\n",
    "DataOutput.iloc[train_idx].to_csv(OutputDir+'/train/'+data_id+'/Output.csv', index=False)\n",
    "DataOutput.iloc[valid_idx].to_csv(OutputDir+'/valid/'+data_id+'/Output.csv', index=False)"
   ]
  },
  {
   "cell_type": "code",
   "execution_count": 9,
   "id": "5f7fecd9",
   "metadata": {},
   "outputs": [],
   "source": [
    "data_id    = 'res'\n",
    "\n",
    "DataInput  = pd.DataFrame(np.concatenate((tMat,uMat), axis=1), columns=['t','x'])\n",
    "DataOutput = pd.DataFrame(np.concatenate((tMat,yMat*0.), axis=1), columns=['t','x'])\n",
    "                          \n",
    "n_points   = len(DataInput)\n",
    "\n",
    "idx                  = np.arange(n_points)\n",
    "train_idx, valid_idx = train_test_split(idx, test_size=0.2, random_state=42)\n",
    "\n",
    "n_valid              = len(valid_idx)\n",
    "n_train              = len(train_idx)\n",
    "\n",
    "try:\n",
    "    os.makedirs(OutputDir+'/train/'+data_id+'/')\n",
    "except:\n",
    "    pass\n",
    "try:\n",
    "    os.makedirs(OutputDir+'/valid/'+data_id+'/')\n",
    "except:\n",
    "    pass\n",
    "\n",
    "DataInput.iloc[train_idx].to_csv(OutputDir+'/train/'+data_id+'/Input.csv', index=False)\n",
    "DataInput.iloc[valid_idx].to_csv(OutputDir+'/valid/'+data_id+'/Input.csv', index=False)\n",
    "\n",
    "DataOutput.iloc[train_idx].to_csv(OutputDir+'/train/'+data_id+'/Output.csv', index=False)\n",
    "DataOutput.iloc[valid_idx].to_csv(OutputDir+'/valid/'+data_id+'/Output.csv', index=False)"
   ]
  },
  {
   "cell_type": "code",
   "execution_count": null,
   "id": "52450fe3",
   "metadata": {},
   "outputs": [],
   "source": []
  },
  {
   "cell_type": "code",
   "execution_count": null,
   "id": "73cdd779",
   "metadata": {},
   "outputs": [],
   "source": []
  },
  {
   "cell_type": "code",
   "execution_count": null,
   "id": "6fa9e5c8",
   "metadata": {},
   "outputs": [],
   "source": []
  },
  {
   "cell_type": "markdown",
   "id": "4265f2fd",
   "metadata": {},
   "source": [
    "## Generating Test Data"
   ]
  },
  {
   "cell_type": "code",
   "execution_count": 10,
   "id": "65213886",
   "metadata": {},
   "outputs": [
    {
     "name": "stderr",
     "output_type": "stream",
     "text": [
      "/usr/local/lib/python3.8/site-packages/scipy/integrate/_ivp/common.py:47: UserWarning: `rtol` is too low, setting to 2.220446049250313e-14\n",
      "  warn(\"`rtol` is too low, setting to {}\".format(100 * EPS))\n"
     ]
    },
    {
     "ename": "IndexError",
     "evalue": "index 1 is out of bounds for axis 0 with size 1",
     "output_type": "error",
     "traceback": [
      "\u001b[0;31m---------------------------------------------------------------------------\u001b[0m",
      "\u001b[0;31mIndexError\u001b[0m                                Traceback (most recent call last)",
      "\u001b[0;32m<ipython-input-10-a3bb9a7346a3>\u001b[0m in \u001b[0;36m<module>\u001b[0;34m\u001b[0m\n\u001b[1;32m      5\u001b[0m     \u001b[0mParams\u001b[0m     \u001b[0;34m=\u001b[0m \u001b[0my0MatTest\u001b[0m\u001b[0;34m[\u001b[0m\u001b[0miSample\u001b[0m\u001b[0;34m,\u001b[0m\u001b[0;34m:\u001b[0m\u001b[0;34m]\u001b[0m\u001b[0;34m\u001b[0m\u001b[0;34m\u001b[0m\u001b[0m\n\u001b[1;32m      6\u001b[0m \u001b[0;34m\u001b[0m\u001b[0m\n\u001b[0;32m----> 7\u001b[0;31m     \u001b[0moutput\u001b[0m     \u001b[0;34m=\u001b[0m \u001b[0msolve_ivp\u001b[0m\u001b[0;34m(\u001b[0m \u001b[0mfOrig\u001b[0m\u001b[0;34m,\u001b[0m \u001b[0mtout\u001b[0m\u001b[0;34m[\u001b[0m\u001b[0;34m[\u001b[0m\u001b[0;36m0\u001b[0m\u001b[0;34m,\u001b[0m\u001b[0;34m-\u001b[0m\u001b[0;36m1\u001b[0m\u001b[0;34m]\u001b[0m\u001b[0;34m]\u001b[0m\u001b[0;34m,\u001b[0m \u001b[0my0\u001b[0m\u001b[0;34m,\u001b[0m \u001b[0mmethod\u001b[0m\u001b[0;34m=\u001b[0m\u001b[0mSOLVER\u001b[0m\u001b[0;34m,\u001b[0m \u001b[0mt_eval\u001b[0m\u001b[0;34m=\u001b[0m\u001b[0mtout\u001b[0m\u001b[0;34m,\u001b[0m \u001b[0mrtol\u001b[0m\u001b[0;34m=\u001b[0m\u001b[0;36m1.e-15\u001b[0m\u001b[0;34m,\u001b[0m \u001b[0matol\u001b[0m\u001b[0;34m=\u001b[0m\u001b[0;36m1.e-20\u001b[0m \u001b[0;34m)\u001b[0m\u001b[0;34m\u001b[0m\u001b[0;34m\u001b[0m\u001b[0m\n\u001b[0m\u001b[1;32m      8\u001b[0m \u001b[0;34m\u001b[0m\u001b[0m\n\u001b[1;32m      9\u001b[0m     \u001b[0mtMatTemp\u001b[0m   \u001b[0;34m=\u001b[0m \u001b[0mtout\u001b[0m\u001b[0;34m[\u001b[0m\u001b[0;34m...\u001b[0m\u001b[0;34m,\u001b[0m\u001b[0mnp\u001b[0m\u001b[0;34m.\u001b[0m\u001b[0mnewaxis\u001b[0m\u001b[0;34m]\u001b[0m\u001b[0;34m\u001b[0m\u001b[0;34m\u001b[0m\u001b[0m\n",
      "\u001b[0;32m/usr/local/lib/python3.8/site-packages/scipy/integrate/_ivp/ivp.py\u001b[0m in \u001b[0;36msolve_ivp\u001b[0;34m(fun, t_span, y0, method, t_eval, dense_output, events, vectorized, args, **options)\u001b[0m\n\u001b[1;32m    541\u001b[0m         \u001b[0mmethod\u001b[0m \u001b[0;34m=\u001b[0m \u001b[0mMETHODS\u001b[0m\u001b[0;34m[\u001b[0m\u001b[0mmethod\u001b[0m\u001b[0;34m]\u001b[0m\u001b[0;34m\u001b[0m\u001b[0;34m\u001b[0m\u001b[0m\n\u001b[1;32m    542\u001b[0m \u001b[0;34m\u001b[0m\u001b[0m\n\u001b[0;32m--> 543\u001b[0;31m     \u001b[0msolver\u001b[0m \u001b[0;34m=\u001b[0m \u001b[0mmethod\u001b[0m\u001b[0;34m(\u001b[0m\u001b[0mfun\u001b[0m\u001b[0;34m,\u001b[0m \u001b[0mt0\u001b[0m\u001b[0;34m,\u001b[0m \u001b[0my0\u001b[0m\u001b[0;34m,\u001b[0m \u001b[0mtf\u001b[0m\u001b[0;34m,\u001b[0m \u001b[0mvectorized\u001b[0m\u001b[0;34m=\u001b[0m\u001b[0mvectorized\u001b[0m\u001b[0;34m,\u001b[0m \u001b[0;34m**\u001b[0m\u001b[0moptions\u001b[0m\u001b[0;34m)\u001b[0m\u001b[0;34m\u001b[0m\u001b[0;34m\u001b[0m\u001b[0m\n\u001b[0m\u001b[1;32m    544\u001b[0m \u001b[0;34m\u001b[0m\u001b[0m\n\u001b[1;32m    545\u001b[0m     \u001b[0;32mif\u001b[0m \u001b[0mt_eval\u001b[0m \u001b[0;32mis\u001b[0m \u001b[0;32mNone\u001b[0m\u001b[0;34m:\u001b[0m\u001b[0;34m\u001b[0m\u001b[0;34m\u001b[0m\u001b[0m\n",
      "\u001b[0;32m/usr/local/lib/python3.8/site-packages/scipy/integrate/_ivp/bdf.py\u001b[0m in \u001b[0;36m__init__\u001b[0;34m(self, fun, t0, y0, t_bound, max_step, rtol, atol, jac, jac_sparsity, vectorized, first_step, **extraneous)\u001b[0m\n\u001b[1;32m    191\u001b[0m         \u001b[0mself\u001b[0m\u001b[0;34m.\u001b[0m\u001b[0mmax_step\u001b[0m \u001b[0;34m=\u001b[0m \u001b[0mvalidate_max_step\u001b[0m\u001b[0;34m(\u001b[0m\u001b[0mmax_step\u001b[0m\u001b[0;34m)\u001b[0m\u001b[0;34m\u001b[0m\u001b[0;34m\u001b[0m\u001b[0m\n\u001b[1;32m    192\u001b[0m         \u001b[0mself\u001b[0m\u001b[0;34m.\u001b[0m\u001b[0mrtol\u001b[0m\u001b[0;34m,\u001b[0m \u001b[0mself\u001b[0m\u001b[0;34m.\u001b[0m\u001b[0matol\u001b[0m \u001b[0;34m=\u001b[0m \u001b[0mvalidate_tol\u001b[0m\u001b[0;34m(\u001b[0m\u001b[0mrtol\u001b[0m\u001b[0;34m,\u001b[0m \u001b[0matol\u001b[0m\u001b[0;34m,\u001b[0m \u001b[0mself\u001b[0m\u001b[0;34m.\u001b[0m\u001b[0mn\u001b[0m\u001b[0;34m)\u001b[0m\u001b[0;34m\u001b[0m\u001b[0;34m\u001b[0m\u001b[0m\n\u001b[0;32m--> 193\u001b[0;31m         \u001b[0mf\u001b[0m \u001b[0;34m=\u001b[0m \u001b[0mself\u001b[0m\u001b[0;34m.\u001b[0m\u001b[0mfun\u001b[0m\u001b[0;34m(\u001b[0m\u001b[0mself\u001b[0m\u001b[0;34m.\u001b[0m\u001b[0mt\u001b[0m\u001b[0;34m,\u001b[0m \u001b[0mself\u001b[0m\u001b[0;34m.\u001b[0m\u001b[0my\u001b[0m\u001b[0;34m)\u001b[0m\u001b[0;34m\u001b[0m\u001b[0;34m\u001b[0m\u001b[0m\n\u001b[0m\u001b[1;32m    194\u001b[0m         \u001b[0;32mif\u001b[0m \u001b[0mfirst_step\u001b[0m \u001b[0;32mis\u001b[0m \u001b[0;32mNone\u001b[0m\u001b[0;34m:\u001b[0m\u001b[0;34m\u001b[0m\u001b[0;34m\u001b[0m\u001b[0m\n\u001b[1;32m    195\u001b[0m             self.h_abs = select_initial_step(self.fun, self.t, self.y, f,\n",
      "\u001b[0;32m/usr/local/lib/python3.8/site-packages/scipy/integrate/_ivp/base.py\u001b[0m in \u001b[0;36mfun\u001b[0;34m(t, y)\u001b[0m\n\u001b[1;32m    137\u001b[0m         \u001b[0;32mdef\u001b[0m \u001b[0mfun\u001b[0m\u001b[0;34m(\u001b[0m\u001b[0mt\u001b[0m\u001b[0;34m,\u001b[0m \u001b[0my\u001b[0m\u001b[0;34m)\u001b[0m\u001b[0;34m:\u001b[0m\u001b[0;34m\u001b[0m\u001b[0;34m\u001b[0m\u001b[0m\n\u001b[1;32m    138\u001b[0m             \u001b[0mself\u001b[0m\u001b[0;34m.\u001b[0m\u001b[0mnfev\u001b[0m \u001b[0;34m+=\u001b[0m \u001b[0;36m1\u001b[0m\u001b[0;34m\u001b[0m\u001b[0;34m\u001b[0m\u001b[0m\n\u001b[0;32m--> 139\u001b[0;31m             \u001b[0;32mreturn\u001b[0m \u001b[0mself\u001b[0m\u001b[0;34m.\u001b[0m\u001b[0mfun_single\u001b[0m\u001b[0;34m(\u001b[0m\u001b[0mt\u001b[0m\u001b[0;34m,\u001b[0m \u001b[0my\u001b[0m\u001b[0;34m)\u001b[0m\u001b[0;34m\u001b[0m\u001b[0;34m\u001b[0m\u001b[0m\n\u001b[0m\u001b[1;32m    140\u001b[0m \u001b[0;34m\u001b[0m\u001b[0m\n\u001b[1;32m    141\u001b[0m         \u001b[0mself\u001b[0m\u001b[0;34m.\u001b[0m\u001b[0mfun\u001b[0m \u001b[0;34m=\u001b[0m \u001b[0mfun\u001b[0m\u001b[0;34m\u001b[0m\u001b[0;34m\u001b[0m\u001b[0m\n",
      "\u001b[0;32m/usr/local/lib/python3.8/site-packages/scipy/integrate/_ivp/base.py\u001b[0m in \u001b[0;36mfun_wrapped\u001b[0;34m(t, y)\u001b[0m\n\u001b[1;32m     19\u001b[0m \u001b[0;34m\u001b[0m\u001b[0m\n\u001b[1;32m     20\u001b[0m     \u001b[0;32mdef\u001b[0m \u001b[0mfun_wrapped\u001b[0m\u001b[0;34m(\u001b[0m\u001b[0mt\u001b[0m\u001b[0;34m,\u001b[0m \u001b[0my\u001b[0m\u001b[0;34m)\u001b[0m\u001b[0;34m:\u001b[0m\u001b[0;34m\u001b[0m\u001b[0;34m\u001b[0m\u001b[0m\n\u001b[0;32m---> 21\u001b[0;31m         \u001b[0;32mreturn\u001b[0m \u001b[0mnp\u001b[0m\u001b[0;34m.\u001b[0m\u001b[0masarray\u001b[0m\u001b[0;34m(\u001b[0m\u001b[0mfun\u001b[0m\u001b[0;34m(\u001b[0m\u001b[0mt\u001b[0m\u001b[0;34m,\u001b[0m \u001b[0my\u001b[0m\u001b[0;34m)\u001b[0m\u001b[0;34m,\u001b[0m \u001b[0mdtype\u001b[0m\u001b[0;34m=\u001b[0m\u001b[0mdtype\u001b[0m\u001b[0;34m)\u001b[0m\u001b[0;34m\u001b[0m\u001b[0;34m\u001b[0m\u001b[0m\n\u001b[0m\u001b[1;32m     22\u001b[0m \u001b[0;34m\u001b[0m\u001b[0m\n\u001b[1;32m     23\u001b[0m     \u001b[0;32mreturn\u001b[0m \u001b[0mfun_wrapped\u001b[0m\u001b[0;34m,\u001b[0m \u001b[0my0\u001b[0m\u001b[0;34m\u001b[0m\u001b[0;34m\u001b[0m\u001b[0m\n",
      "\u001b[0;32m<ipython-input-3-b6d16c7af31f>\u001b[0m in \u001b[0;36mfOrig\u001b[0;34m(t, y)\u001b[0m\n\u001b[1;32m      1\u001b[0m \u001b[0;32mdef\u001b[0m \u001b[0mfOrig\u001b[0m\u001b[0;34m(\u001b[0m\u001b[0mt\u001b[0m\u001b[0;34m,\u001b[0m \u001b[0my\u001b[0m\u001b[0;34m)\u001b[0m\u001b[0;34m:\u001b[0m\u001b[0;34m\u001b[0m\u001b[0;34m\u001b[0m\u001b[0m\n\u001b[0;32m----> 2\u001b[0;31m     \u001b[0;32mreturn\u001b[0m \u001b[0;34m[\u001b[0m\u001b[0;36m1.\u001b[0m\u001b[0;34m/\u001b[0m\u001b[0;34m(\u001b[0m\u001b[0mnp\u001b[0m\u001b[0;34m.\u001b[0m\u001b[0mcosh\u001b[0m\u001b[0;34m(\u001b[0m\u001b[0mParams\u001b[0m\u001b[0;34m[\u001b[0m\u001b[0;36m0\u001b[0m\u001b[0;34m]\u001b[0m\u001b[0;34m/\u001b[0m\u001b[0mParams\u001b[0m\u001b[0;34m[\u001b[0m\u001b[0;36m1\u001b[0m\u001b[0;34m]\u001b[0m\u001b[0;34m-\u001b[0m\u001b[0mt\u001b[0m\u001b[0;34m)\u001b[0m\u001b[0;34m**\u001b[0m\u001b[0;36m2\u001b[0m\u001b[0;34m)\u001b[0m\u001b[0;34m]\u001b[0m\u001b[0;34m\u001b[0m\u001b[0;34m\u001b[0m\u001b[0m\n\u001b[0m",
      "\u001b[0;31mIndexError\u001b[0m: index 1 is out of bounds for axis 0 with size 1"
     ]
    },
    {
     "data": {
      "text/plain": [
       "<Figure size 6000x6000 with 0 Axes>"
      ]
     },
     "metadata": {},
     "output_type": "display_data"
    }
   ],
   "source": [
    "fig = plt.figure()\n",
    "for iSample in range(n_test):\n",
    "    y0         = y0MatTest[iSample,:]\n",
    "    #print('y0 = ', y0)\n",
    "    Params     = y0MatTest[iSample,:]\n",
    "    \n",
    "    output     = solve_ivp( fOrig, tout[[0,-1]], y0, method=SOLVER, t_eval=tout, rtol=1.e-15, atol=1.e-20 )\n",
    "    \n",
    "    tMatTemp   = tout[...,np.newaxis]\n",
    "    uMatTemp   = np.tile(y0, (Nt, 1))\n",
    "    \n",
    "    plt.plot(output.t, output.y[0,:], color=ColorVec[0])\n",
    "\n",
    "    if (iSample == 0):\n",
    "        tMatTest    = tMatTemp\n",
    "        uMatTest    = uMatTemp\n",
    "        yMatTest    = output.y.T \n",
    "    else:\n",
    "        tMatTest    = np.concatenate((tMatTest,    tMatTemp), axis=0)\n",
    "        uMatTest    = np.concatenate((uMatTest,    uMatTemp), axis=0)\n",
    "        yMatTest    = np.concatenate((yMatTest,    output.y.T), axis=0)\n",
    "        \n",
    "    Header   = 't,x'\n",
    "    FileName = OutputDir+'/test/ext/y.csv.'+str(iSample+1)\n",
    "    np.savetxt(FileName, np.concatenate((tMatTemp,output.y.T), axis=1), delimiter=',', header=Header, comments='')\n",
    "        \n",
    "        \n",
    "plt.xlabel('t')\n",
    "plt.ylabel('x')\n",
    "plt.tick_params(axis='y')\n",
    "#ax1.set_ylim([-6.,6.])\n",
    "\n",
    "fig.tight_layout()  # otherwise the right y-label is slightly clipped\n",
    "\n",
    "if (FigDir):\n",
    "    plt.savefig(FigDir+'/TransTanh_TestDynamics.eps', format='eps', bbox_inches='tight')"
   ]
  },
  {
   "cell_type": "code",
   "execution_count": null,
   "id": "2cb363c4",
   "metadata": {},
   "outputs": [],
   "source": [
    "## Writing Test Data"
   ]
  },
  {
   "cell_type": "code",
   "execution_count": 11,
   "id": "38bd50d8",
   "metadata": {},
   "outputs": [
    {
     "ename": "NameError",
     "evalue": "name 'tMatTest' is not defined",
     "output_type": "error",
     "traceback": [
      "\u001b[0;31m---------------------------------------------------------------------------\u001b[0m",
      "\u001b[0;31mNameError\u001b[0m                                 Traceback (most recent call last)",
      "\u001b[0;32m<ipython-input-11-2693b82a6f7b>\u001b[0m in \u001b[0;36m<module>\u001b[0;34m\u001b[0m\n\u001b[1;32m      3\u001b[0m \u001b[0mHeader\u001b[0m   \u001b[0;34m=\u001b[0m \u001b[0;34m't,x'\u001b[0m\u001b[0;34m\u001b[0m\u001b[0;34m\u001b[0m\u001b[0m\n\u001b[1;32m      4\u001b[0m \u001b[0mFileName\u001b[0m \u001b[0;34m=\u001b[0m \u001b[0mTestDir\u001b[0m\u001b[0;34m+\u001b[0m\u001b[0;34m'/Input.csv'\u001b[0m\u001b[0;34m\u001b[0m\u001b[0;34m\u001b[0m\u001b[0m\n\u001b[0;32m----> 5\u001b[0;31m \u001b[0mnp\u001b[0m\u001b[0;34m.\u001b[0m\u001b[0msavetxt\u001b[0m\u001b[0;34m(\u001b[0m\u001b[0mFileName\u001b[0m\u001b[0;34m,\u001b[0m \u001b[0mnp\u001b[0m\u001b[0;34m.\u001b[0m\u001b[0mconcatenate\u001b[0m\u001b[0;34m(\u001b[0m\u001b[0;34m(\u001b[0m\u001b[0mtMatTest\u001b[0m\u001b[0;34m,\u001b[0m\u001b[0muMatTest\u001b[0m\u001b[0;34m)\u001b[0m\u001b[0;34m,\u001b[0m \u001b[0maxis\u001b[0m\u001b[0;34m=\u001b[0m\u001b[0;36m1\u001b[0m\u001b[0;34m)\u001b[0m\u001b[0;34m,\u001b[0m \u001b[0mdelimiter\u001b[0m\u001b[0;34m=\u001b[0m\u001b[0;34m','\u001b[0m\u001b[0;34m,\u001b[0m \u001b[0mheader\u001b[0m\u001b[0;34m=\u001b[0m\u001b[0mHeader\u001b[0m\u001b[0;34m,\u001b[0m \u001b[0mcomments\u001b[0m\u001b[0;34m=\u001b[0m\u001b[0;34m''\u001b[0m\u001b[0;34m)\u001b[0m\u001b[0;34m\u001b[0m\u001b[0;34m\u001b[0m\u001b[0m\n\u001b[0m\u001b[1;32m      6\u001b[0m \u001b[0;34m\u001b[0m\u001b[0m\n\u001b[1;32m      7\u001b[0m \u001b[0mHeader\u001b[0m   \u001b[0;34m=\u001b[0m \u001b[0;34m't,x'\u001b[0m\u001b[0;34m\u001b[0m\u001b[0;34m\u001b[0m\u001b[0m\n",
      "\u001b[0;31mNameError\u001b[0m: name 'tMatTest' is not defined"
     ]
    }
   ],
   "source": [
    "TestDir  = OutputDir+'/test/ext/'\n",
    "\n",
    "Header   = 't,x'\n",
    "FileName = TestDir+'/Input.csv'\n",
    "np.savetxt(FileName, np.concatenate((tMatTest,uMatTest), axis=1), delimiter=',', header=Header, comments='')\n",
    "        \n",
    "Header   = 't,x'\n",
    "FileName = TestDir+'/Output.csv'\n",
    "np.savetxt(FileName, np.concatenate((tMatTest,yMatTest), axis=1), delimiter=',', header=Header, comments='')"
   ]
  },
  {
   "cell_type": "code",
   "execution_count": null,
   "id": "e66bca63",
   "metadata": {},
   "outputs": [],
   "source": []
  }
 ],
 "metadata": {
  "kernelspec": {
   "display_name": "Python 3",
   "language": "python",
   "name": "python3"
  },
  "language_info": {
   "codemirror_mode": {
    "name": "ipython",
    "version": 3
   },
   "file_extension": ".py",
   "mimetype": "text/x-python",
   "name": "python",
   "nbconvert_exporter": "python",
   "pygments_lexer": "ipython3",
   "version": "3.8.11"
  }
 },
 "nbformat": 4,
 "nbformat_minor": 5
}
