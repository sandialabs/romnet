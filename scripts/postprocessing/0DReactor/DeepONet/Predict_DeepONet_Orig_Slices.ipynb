{
 "cells": [
  {
   "cell_type": "markdown",
   "metadata": {},
   "source": [
    "# Combustion Chemistry in Isobaric Reactor: Postprocessing DeepONet"
   ]
  },
  {
   "cell_type": "code",
   "execution_count": 1,
   "metadata": {},
   "outputs": [
    {
     "name": "stdout",
     "output_type": "stream",
     "text": [
      "3.9.6 (default, Aug 11 2021, 06:39:25) \n",
      "[GCC 8.5.0 20210514 (Red Hat 8.5.0-3)]\n"
     ]
    },
    {
     "name": "stderr",
     "output_type": "stream",
     "text": [
      "2022-06-30 08:48:51.564412: W tensorflow/stream_executor/platform/default/dso_loader.cc:64] Could not load dynamic library 'libcudart.so.11.0'; dlerror: libcudart.so.11.0: cannot open shared object file: No such file or directory; LD_LIBRARY_PATH: /usr//lib/:/home/sventur/LIBRARIES/MPC/mpc-1.2.1-install//lib/:/home/sventur/LIBRARIES/MPFR/mpfr-4.1.0-install//lib/:/home/sventur/LIBRARIES/GMP/gmp-6.2.1-install//lib/::/home/sventur/LIBRARIES/BOOST/boost_1_78_0-install//lib/:/home/sventur/APPS/SCREEN/screen-4.8.0-install//lib/:/home/sventur/LIBRARIES/NCURSES/ncurses-6.1-install//lib/:/home/sventur/LIBRARIES/MPC/mpc-1.2.1-install//lib/:/home/sventur/LIBRARIES/MPFR/mpfr-4.1.0-install//lib/:/home/sventur/LIBRARIES/GMP/gmp-6.2.1-install//lib/::/home/sventur/LIBRARIES/BOOST/boost_1_78_0-install//lib/:/home/sventur/APPS/SCREEN/screen-4.8.0-install//lib/:/home/sventur/LIBRARIES/NCURSES/ncurses-6.1-install//lib/:\n",
      "2022-06-30 08:48:51.564447: I tensorflow/stream_executor/cuda/cudart_stub.cc:29] Ignore above cudart dlerror if you do not have a GPU set up on your machine.\n"
     ]
    }
   ],
   "source": [
    "### Importing Libraries\n",
    "\n",
    "import sys\n",
    "print(sys.version)\n",
    "import os\n",
    "import time\n",
    "\n",
    "\n",
    "### Defining WORKSPACE_PATH\n",
    "\n",
    "# WORKSPACE_PATH = os.environ['WORKSPACE_PATH']\n",
    "WORKSPACE_PATH = os.path.join(os.getcwd(), '../../../../../../')\n",
    "ROMNet_fld     = os.path.join(WORKSPACE_PATH, 'ROMNet/romnet/')\n",
    "\n",
    "\n",
    "### Importing External Libraries\n",
    "\n",
    "import numpy                             as np\n",
    "import pandas                            as pd\n",
    "from   numpy                         import diff\n",
    "import                           cantera as ct\n",
    "import tensorflow                        as tf\n",
    "\n",
    "### Importing Matplotlib and Its Style\n",
    "\n",
    "import matplotlib.pyplot                 as plt\n",
    "\n",
    "#plt.style.use(os.path.join(WORKSPACE_PATH, 'ROMNet/romnet/extra/postprocessing/presentation.mplstyle'))\n",
    "#plt.style.use(os.path.join(WORKSPACE_PATH, 'ROMNet/romnet/extra/postprocessing/zoomed.mplstyle'))\n",
    "#plt.style.use(os.path.join(WORKSPACE_PATH, 'ROMNet/romnet/extra/postprocessing/paper_1column.mplstyle'))\n",
    "#plt.style.use(os.path.join(WORKSPACE_PATH, 'ROMNet/romnet/extra/postprocessing/paper_2columns.mplstyle'))\n",
    "\n",
    "\n",
    "from scipy.integrate import solve_ivp\n",
    "import pyDOE\n",
    "from PCAfold         import PCA          as PCAA\n",
    "\n",
    "\n",
    "import romnet                            as rmnt\n",
    "\n",
    "\n",
    "# from IPython.core.display import display, HTML\n",
    "# display(HTML(\"<style>.container { width:80% !important; }</style>\"))"
   ]
  },
  {
   "cell_type": "code",
   "execution_count": 2,
   "metadata": {},
   "outputs": [],
   "source": [
    "DataDir          = os.path.join(WORKSPACE_PATH, 'ROMNet/Data/0DReact_Isobaric_5000000Cases_H2_SmallSteps/')\n",
    "\n",
    "path_to_run_fld  = os.path.join(WORKSPACE_PATH, 'ROMNet/0DReact_Isobaric_5000000Cases_H2_SmallSteps/DeepONet/Run_12/')\n",
    "\n",
    "FigDir           = None #os.path.join(WORKSPACE_PATH, '../Desktop/Paper_Figures_DeepONet_TEMP/')\n",
    "\n",
    "\n",
    "# DataType         = 'train'\n",
    "# CasesVec         = range(0,5000,500)#100,10)\n",
    "DataType         = 'test'\n",
    "CasesVec         = range(10) #[1,0,2]\n",
    "\n",
    "\n",
    "\n",
    "NSamples         = 1\n",
    "\n",
    "FixedMinVal      = 1.e-14 \n",
    "\n",
    "PCA_NAME         = 'All'\n",
    "\n",
    "scale            = 'lin'\n",
    "MinVal           = 1.e-40\n",
    "\n",
    " \n",
    "ColorVec         = ['#190707', '#dd3232', '#0065a9', '#348a00','#985396','#f68b69']\n",
    "LineVec          = ['-',':','--','.-']*10"
   ]
  },
  {
   "cell_type": "markdown",
   "metadata": {},
   "source": [
    "## Loading ROMNet's Input Data File"
   ]
  },
  {
   "cell_type": "code",
   "execution_count": 3,
   "metadata": {},
   "outputs": [
    {
     "name": "stdout",
     "output_type": "stream",
     "text": [
      "\n",
      "[ROMNet]: Reading Input File from:  /home/sventur/WORKSPACE/ROMNet/romnet/scripts/postprocessing/0DReactor/DeepONet/../../../../../../ROMNet/0DReact_Isobaric_5000000Cases_H2_SmallSteps/DeepONet/Run_12/\n",
      "\n",
      "[ROMNet]: Keep Loading Modules and Functions...\n",
      "\n",
      "[ROMNet]: Initializing Input ...\n"
     ]
    }
   ],
   "source": [
    "print(\"\\n[ROMNet]: Reading Input File from: \", path_to_run_fld)\n",
    "sys.path.insert(0, path_to_run_fld)\n",
    "\n",
    "print(\"\\n[ROMNet]: Keep Loading Modules and Functions...\")\n",
    "from ROMNet_Input import inputdata\n",
    "\n",
    "print(\"\\n[ROMNet]: Initializing Input ...\")\n",
    "InputData               = inputdata(WORKSPACE_PATH)\n",
    "\n",
    "\n",
    "InputData.InputFilePath = path_to_run_fld+'/ROMNet_Input.py'\n",
    "InputData.train_int_flg = 0\n",
    "InputData.path_to_run_fld  = path_to_run_fld"
   ]
  },
  {
   "cell_type": "markdown",
   "metadata": {},
   "source": [
    "## Loading Tensorflow's Model for the Network "
   ]
  },
  {
   "cell_type": "code",
   "execution_count": 4,
   "metadata": {},
   "outputs": [
    {
     "name": "stdout",
     "output_type": "stream",
     "text": [
      "\n",
      "[ROMNet - model_tf.py    ]:   Initializing the ML Model\n",
      "\n",
      "[ROMNet - model_tf.py    ]:   Building the ML Model\n",
      "\n",
      "[ROMNet - deeponet.py               ]:   Constructing Deep Operator Network: \n",
      "[ROMNet - system_of_components.py   ]:     Mapping Branch-to-Trunk (i.e., self.branch_to_trunk Object):  [0 1]\n",
      "[ROMNet - system_of_components.py   ]:     Constructing System of Components: DeepONet\n"
     ]
    },
    {
     "name": "stderr",
     "output_type": "stream",
     "text": [
      "2022-06-30 08:48:54.394057: W tensorflow/stream_executor/platform/default/dso_loader.cc:64] Could not load dynamic library 'libcuda.so.1'; dlerror: libcuda.so.1: cannot open shared object file: No such file or directory; LD_LIBRARY_PATH: /usr//lib/:/home/sventur/LIBRARIES/MPC/mpc-1.2.1-install//lib/:/home/sventur/LIBRARIES/MPFR/mpfr-4.1.0-install//lib/:/home/sventur/LIBRARIES/GMP/gmp-6.2.1-install//lib/::/home/sventur/LIBRARIES/BOOST/boost_1_78_0-install//lib/:/home/sventur/APPS/SCREEN/screen-4.8.0-install//lib/:/home/sventur/LIBRARIES/NCURSES/ncurses-6.1-install//lib/:/home/sventur/LIBRARIES/MPC/mpc-1.2.1-install//lib/:/home/sventur/LIBRARIES/MPFR/mpfr-4.1.0-install//lib/:/home/sventur/LIBRARIES/GMP/gmp-6.2.1-install//lib/::/home/sventur/LIBRARIES/BOOST/boost_1_78_0-install//lib/:/home/sventur/APPS/SCREEN/screen-4.8.0-install//lib/:/home/sventur/LIBRARIES/NCURSES/ncurses-6.1-install//lib/:\n",
      "2022-06-30 08:48:54.394090: W tensorflow/stream_executor/cuda/cuda_driver.cc:269] failed call to cuInit: UNKNOWN ERROR (303)\n",
      "2022-06-30 08:48:54.394115: I tensorflow/stream_executor/cuda/cuda_diagnostics.cc:156] kernel driver does not appear to be running on this host (bunsen.ca.sandia.gov): /proc/driver/nvidia/version does not exist\n",
      "2022-06-30 08:48:54.394326: I tensorflow/core/platform/cpu_feature_guard.cc:151] This TensorFlow binary is optimized with oneAPI Deep Neural Network Library (oneDNN) to use the following CPU instructions in performance-critical operations:  AVX2 FMA\n",
      "To enable them in other operations, rebuild TensorFlow with the appropriate compiler flags.\n"
     ]
    },
    {
     "name": "stdout",
     "output_type": "stream",
     "text": [
      "[ROMNet - component.py              ]:       Constructing Component: Branch_1\n",
      "[ROMNet - sub_component.py          ]:         Constructed Sub-Component: Main with Layers:       ListWrapper([<keras.layers.core.dense.Dense object at 0x7f1390794e20>, <keras.layers.core.dense.Dense object at 0x7f1390794160>, <keras.layers.core.dense.Dense object at 0x7f1390794a30>, <keras.layers.core.dense.Dense object at 0x7f13993eb940>, <keras.layers.core.dense.Dense object at 0x7f13993eb9d0>])\n",
      "[ROMNet - component.py              ]:       Constructing Component: Branch_2\n",
      "[ROMNet - sub_component.py          ]:         Constructed Sub-Component: Main with Layers:       ListWrapper([<keras.layers.core.dense.Dense object at 0x7f139078a2b0>, <keras.layers.core.dense.Dense object at 0x7f139078a880>, <keras.layers.core.dense.Dense object at 0x7f139079d640>, <keras.layers.core.dense.Dense object at 0x7f1390704940>, <keras.layers.core.dense.Dense object at 0x7f13907b1700>])\n",
      "[ROMNet - component.py              ]:       Constructing Component: Stretch\n",
      "[ROMNet - sub_component.py          ]:         Constructed Sub-Component: Main with Layers:       ListWrapper([<keras.layers.core.dense.Dense object at 0x7f13907b1910>, <keras.layers.core.dense.Dense object at 0x7f13907011f0>, <keras.layers.core.dense.Dense object at 0x7f1390701eb0>, <keras.layers.core.dense.Dense object at 0x7f13907018e0>, <keras.layers.core.dense.Dense object at 0x7f1390701340>])\n",
      "[ROMNet - component.py              ]:       Constructing Component: Shift\n",
      "[ROMNet - sub_component.py          ]:         Constructed Sub-Component: Main with Layers:       ListWrapper([<keras.layers.core.dense.Dense object at 0x7f139076d6d0>, <keras.layers.core.dense.Dense object at 0x7f139076dbb0>, <keras.layers.core.dense.Dense object at 0x7f139077d1c0>, <keras.layers.core.dense.Dense object at 0x7f139077d970>, <keras.layers.core.dense.Dense object at 0x7f139077deb0>])\n",
      "[ROMNet - component.py              ]:       Constructing Component: Trunk_1\n",
      "[ROMNet - sub_component.py          ]:         Constructed Sub-Component: Main with Layers:       ListWrapper([<keras.layers.core.dense.Dense object at 0x7f139079c250>, <keras.layers.core.dense.Dense object at 0x7f139079c160>, <keras.layers.core.dense.Dense object at 0x7f13907598b0>, <keras.layers.core.dense.Dense object at 0x7f1390759700>, <keras.layers.core.dense.Dense object at 0x7f1390759fd0>])\n",
      "[ROMNet - component.py              ]:       Constructing Component: Trunk_2\n",
      "[ROMNet - sub_component.py          ]:         Constructed Sub-Component: Main with Layers:       ListWrapper([<keras.layers.core.dense.Dense object at 0x7f13993d2190>, <keras.layers.core.dense.Dense object at 0x7f13993d25e0>, <keras.layers.core.dense.Dense object at 0x7f13993d2400>, <keras.layers.core.dense.Dense object at 0x7f139071d070>, <keras.layers.core.dense.Dense object at 0x7f139071d820>])\n",
      "\n",
      "[ROMNet - model_tf.py    ]:   Loading ML Model Parameters from File:  /home/sventur/WORKSPACE/ROMNet/romnet/scripts/postprocessing/0DReactor/DeepONet/../../../../../../ROMNet/0DReact_Isobaric_5000000Cases_H2_SmallSteps/DeepONet/Run_12//Training/Params//023607.h5\n",
      "[ROMNet - hdf5_format.py            ]:     Loaded Weights for Layer  DeepONet-Branch_Normalization\n",
      "[ROMNet - hdf5_format.py            ]:     Loaded Weights for Layer  DeepONet-Branch_Normalization\n",
      "[ROMNet - hdf5_format.py            ]:     Loaded Weights for Layer  DeepONet-Branch_Normalization\n",
      "[ROMNet - hdf5_format.py            ]:     Loaded Weights for Layer  DeepONet-Branch_Normalization\n",
      "[ROMNet - hdf5_format.py            ]:     Loaded Weights for Layer  DeepONet-Branch_Normalization\n",
      "[ROMNet - hdf5_format.py            ]:     Loaded Weights for Layer  DeepONet-Branch_1-Main-HL_1\n",
      "[ROMNet - hdf5_format.py            ]:     Loaded Weights for Layer  DeepONet-Branch_1-Main-HL_1\n",
      "[ROMNet - hdf5_format.py            ]:     Loaded Weights for Layer  DeepONet-Branch_1-Main-HL_2\n",
      "[ROMNet - hdf5_format.py            ]:     Loaded Weights for Layer  DeepONet-Branch_1-Main-HL_2\n",
      "[ROMNet - hdf5_format.py            ]:     Loaded Weights for Layer  DeepONet-Branch_1-Main-HL_3\n",
      "[ROMNet - hdf5_format.py            ]:     Loaded Weights for Layer  DeepONet-Branch_1-Main-HL_3\n",
      "[ROMNet - hdf5_format.py            ]:     Loaded Weights for Layer  DeepONet-Branch_1-Main-HL_4\n",
      "[ROMNet - hdf5_format.py            ]:     Loaded Weights for Layer  DeepONet-Branch_1-Main-HL_4\n",
      "[ROMNet - hdf5_format.py            ]:     Loaded Weights for Layer  DeepONet-Branch_1-Main-HL_5\n",
      "[ROMNet - hdf5_format.py            ]:     Loaded Weights for Layer  DeepONet-Branch_1-Main-HL_5\n",
      "[ROMNet - hdf5_format.py            ]:     Loaded Weights for Layer  DeepONet-Branch_2-Main-HL_1\n",
      "[ROMNet - hdf5_format.py            ]:     Loaded Weights for Layer  DeepONet-Branch_2-Main-HL_1\n",
      "[ROMNet - hdf5_format.py            ]:     Loaded Weights for Layer  DeepONet-Branch_2-Main-HL_2\n",
      "[ROMNet - hdf5_format.py            ]:     Loaded Weights for Layer  DeepONet-Branch_2-Main-HL_2\n",
      "[ROMNet - hdf5_format.py            ]:     Loaded Weights for Layer  DeepONet-Branch_2-Main-HL_3\n",
      "[ROMNet - hdf5_format.py            ]:     Loaded Weights for Layer  DeepONet-Branch_2-Main-HL_3\n",
      "[ROMNet - hdf5_format.py            ]:     Loaded Weights for Layer  DeepONet-Branch_2-Main-HL_4\n",
      "[ROMNet - hdf5_format.py            ]:     Loaded Weights for Layer  DeepONet-Branch_2-Main-HL_4\n",
      "[ROMNet - hdf5_format.py            ]:     Loaded Weights for Layer  DeepONet-Branch_2-Main-HL_5\n",
      "[ROMNet - hdf5_format.py            ]:     Loaded Weights for Layer  DeepONet-Branch_2-Main-HL_5\n",
      "[ROMNet - hdf5_format.py            ]:     Loaded Weights for Layer  DeepONet-Shift-Main-HL_1\n",
      "[ROMNet - hdf5_format.py            ]:     Loaded Weights for Layer  DeepONet-Shift-Main-HL_1\n",
      "[ROMNet - hdf5_format.py            ]:     Loaded Weights for Layer  DeepONet-Shift-Main-HL_2\n",
      "[ROMNet - hdf5_format.py            ]:     Loaded Weights for Layer  DeepONet-Shift-Main-HL_2\n",
      "[ROMNet - hdf5_format.py            ]:     Loaded Weights for Layer  DeepONet-Shift-Main-HL_3\n",
      "[ROMNet - hdf5_format.py            ]:     Loaded Weights for Layer  DeepONet-Shift-Main-HL_3\n",
      "[ROMNet - hdf5_format.py            ]:     Loaded Weights for Layer  DeepONet-Shift-Main-HL_4\n",
      "[ROMNet - hdf5_format.py            ]:     Loaded Weights for Layer  DeepONet-Shift-Main-HL_4\n",
      "[ROMNet - hdf5_format.py            ]:     Loaded Weights for Layer  DeepONet-Shift-Main-HL_5\n",
      "[ROMNet - hdf5_format.py            ]:     Loaded Weights for Layer  DeepONet-Shift-Main-HL_5\n",
      "[ROMNet - hdf5_format.py            ]:     Loaded Weights for Layer  DeepONet-Stretch-Main-HL_1\n",
      "[ROMNet - hdf5_format.py            ]:     Loaded Weights for Layer  DeepONet-Stretch-Main-HL_1\n",
      "[ROMNet - hdf5_format.py            ]:     Loaded Weights for Layer  DeepONet-Stretch-Main-HL_2\n",
      "[ROMNet - hdf5_format.py            ]:     Loaded Weights for Layer  DeepONet-Stretch-Main-HL_2\n",
      "[ROMNet - hdf5_format.py            ]:     Loaded Weights for Layer  DeepONet-Stretch-Main-HL_3\n",
      "[ROMNet - hdf5_format.py            ]:     Loaded Weights for Layer  DeepONet-Stretch-Main-HL_3\n",
      "[ROMNet - hdf5_format.py            ]:     Loaded Weights for Layer  DeepONet-Stretch-Main-HL_4\n",
      "[ROMNet - hdf5_format.py            ]:     Loaded Weights for Layer  DeepONet-Stretch-Main-HL_4\n",
      "[ROMNet - hdf5_format.py            ]:     Loaded Weights for Layer  DeepONet-Stretch-Main-HL_5\n",
      "[ROMNet - hdf5_format.py            ]:     Loaded Weights for Layer  DeepONet-Stretch-Main-HL_5\n",
      "[ROMNet - hdf5_format.py            ]:     Loaded Weights for Layer  DeepONet-Trunk_1-Main-HL_1\n",
      "[ROMNet - hdf5_format.py            ]:     Loaded Weights for Layer  DeepONet-Trunk_1-Main-HL_1\n",
      "[ROMNet - hdf5_format.py            ]:     Loaded Weights for Layer  DeepONet-Trunk_1-Main-HL_2\n",
      "[ROMNet - hdf5_format.py            ]:     Loaded Weights for Layer  DeepONet-Trunk_1-Main-HL_2\n",
      "[ROMNet - hdf5_format.py            ]:     Loaded Weights for Layer  DeepONet-Trunk_1-Main-HL_3\n",
      "[ROMNet - hdf5_format.py            ]:     Loaded Weights for Layer  DeepONet-Trunk_1-Main-HL_3\n",
      "[ROMNet - hdf5_format.py            ]:     Loaded Weights for Layer  DeepONet-Trunk_1-Main-HL_4\n",
      "[ROMNet - hdf5_format.py            ]:     Loaded Weights for Layer  DeepONet-Trunk_1-Main-HL_4\n",
      "[ROMNet - hdf5_format.py            ]:     Loaded Weights for Layer  DeepONet-Trunk_1-Main-HL_5\n",
      "[ROMNet - hdf5_format.py            ]:     Loaded Weights for Layer  DeepONet-Trunk_1-Main-HL_5\n",
      "[ROMNet - hdf5_format.py            ]:     Loaded Weights for Layer  DeepONet-Trunk_2-Main-HL_1\n",
      "[ROMNet - hdf5_format.py            ]:     Loaded Weights for Layer  DeepONet-Trunk_2-Main-HL_1\n",
      "[ROMNet - hdf5_format.py            ]:     Loaded Weights for Layer  DeepONet-Trunk_2-Main-HL_2\n",
      "[ROMNet - hdf5_format.py            ]:     Loaded Weights for Layer  DeepONet-Trunk_2-Main-HL_2\n",
      "[ROMNet - hdf5_format.py            ]:     Loaded Weights for Layer  DeepONet-Trunk_2-Main-HL_3\n",
      "[ROMNet - hdf5_format.py            ]:     Loaded Weights for Layer  DeepONet-Trunk_2-Main-HL_3\n",
      "[ROMNet - hdf5_format.py            ]:     Loaded Weights for Layer  DeepONet-Trunk_2-Main-HL_4\n",
      "[ROMNet - hdf5_format.py            ]:     Loaded Weights for Layer  DeepONet-Trunk_2-Main-HL_4\n",
      "[ROMNet - hdf5_format.py            ]:     Loaded Weights for Layer  DeepONet-Trunk_2-Main-HL_5\n",
      "[ROMNet - hdf5_format.py            ]:     Loaded Weights for Layer  DeepONet-Trunk_2-Main-HL_5\n",
      "'load_params' took 0.038346 s\n",
      "\n"
     ]
    },
    {
     "name": "stdout",
     "output_type": "stream",
     "text": [
      "\n",
      "[ROMNet - model_tf.py    ]:   Saving ML Model Parameters to File:  /home/sventur/WORKSPACE/ROMNet/romnet/scripts/postprocessing/0DReactor/DeepONet/../../../../../../ROMNet/0DReact_Isobaric_5000000Cases_H2_SmallSteps/DeepONet/Run_12//Model/Params/Initial.h5\n",
      "'save_params' took 0.041593 s\n",
      "\n",
      "'build' took 1.738842 s\n",
      "\n"
     ]
    }
   ],
   "source": [
    "surrogate_type = InputData.surrogate_type\n",
    "if (surrogate_type == 'FNN-SourceTerms'):\n",
    "    surrogate_type = 'FNN'\n",
    "\n",
    "Net   = getattr(rmnt.nn, surrogate_type)\n",
    "\n",
    "model = rmnt.model.Model_TF(InputData)\n",
    "\n",
    "if (InputData.phys_system is not None):\n",
    "    System = getattr(rmnt.pinn.system, InputData.phys_system)\n",
    "    system = System(InputData)\n",
    "    \n",
    "model.build(InputData, None, Net, system)#, loadfile_no='000027')\n",
    "\n",
    "NN    = model.net"
   ]
  },
  {
   "cell_type": "code",
   "execution_count": null,
   "metadata": {},
   "outputs": [],
   "source": []
  },
  {
   "cell_type": "code",
   "execution_count": null,
   "metadata": {},
   "outputs": [],
   "source": []
  },
  {
   "cell_type": "code",
   "execution_count": null,
   "metadata": {},
   "outputs": [],
   "source": []
  },
  {
   "cell_type": "markdown",
   "metadata": {},
   "source": [
    "## Evaluating DeepONet on Test Data"
   ]
  },
  {
   "cell_type": "markdown",
   "metadata": {},
   "source": [
    "### Loading Simulations Info"
   ]
  },
  {
   "cell_type": "code",
   "execution_count": 5,
   "metadata": {},
   "outputs": [],
   "source": [
    "# FileName     = DataDir + '/Orig/train/ext/y.csv.1'\n",
    "# Data         = pd.read_csv(FileName, header=0)\n",
    "# VarNames     = list(Data.columns)\n",
    "# VarNames.remove('t')\n",
    "\n",
    "FileName     = DataDir + '/Orig/train/ext/CleanVars.csv'\n",
    "Data         = pd.read_csv(FileName, header=0)\n",
    "VarNamesAnti = list(Data.columns)\n",
    "\n",
    "\n",
    "FileName     = DataDir + '/Orig/'+DataType+'/ext/SimIdxs.csv'\n",
    "Data         = pd.read_csv(FileName, header=0)\n",
    "SimIdxs      = Data.to_numpy(int)\n",
    "\n",
    "FileName     = DataDir + '/Orig/'+DataType+'/ext/ICs.csv'\n",
    "Data         = pd.read_csv(FileName)\n",
    "ICVecs       = Data.to_numpy()\n",
    "n_ics        = len(ICVecs)"
   ]
  },
  {
   "cell_type": "markdown",
   "metadata": {},
   "source": [
    "### Loading Variables Info"
   ]
  },
  {
   "cell_type": "code",
   "execution_count": 6,
   "metadata": {},
   "outputs": [],
   "source": [
    "Vars  = VarNamesAnti\n",
    "\n",
    "Vars0 = []\n",
    "for Var in Vars:\n",
    "    Vars0.append(str(Var)+'0')\n",
    "    \n",
    "InputVars = Vars0+['t']"
   ]
  },
  {
   "cell_type": "markdown",
   "metadata": {},
   "source": [
    "### Loading and Plotting Test/Training Data"
   ]
  },
  {
   "cell_type": "code",
   "execution_count": 7,
   "metadata": {
    "scrolled": true
   },
   "outputs": [],
   "source": [
    "# VarOI      = 'O2'\n",
    "# VarOI_Name = 'O2'\n",
    "\n",
    "\n",
    "# iVar     = Vars.index(VarOI)\n",
    "\n",
    "\n",
    "# ax   = []\n",
    "# fig  = []\n",
    "# fig1 = plt.figure()\n",
    "# fig.append(fig1)\n",
    "# ax.append(plt.axes())\n",
    "\n",
    "# MSE   = 0.\n",
    "\n",
    "# jTest = 0\n",
    "# for iTest in [3]:#CasesVec:\n",
    "#     Nts              = SimIdxs[iTest,1]-SimIdxs[iTest,0]\n",
    "#     P0Vec            = np.ones(Nts, dtype=np.float64)*ICVecs[iTest,0]\n",
    "#     EqRatio0Vec      = np.ones(Nts, dtype=np.float64)*ICVecs[iTest,1]\n",
    "#     T0Vec            = np.ones(Nts, dtype=np.float64)*ICVecs[iTest,2]\n",
    "    \n",
    "    \n",
    "#     #####################################################################################################\n",
    "#     FileName     = DataDir + '/Orig/'+DataType+'/ext/y.csv.'+str(iTest+1)\n",
    "#     Data         = pd.read_csv(FileName, header=0)[['t']+Vars]\n",
    "#     tVec0        = Data.to_numpy()[0,0]\n",
    "#     tVec         = Data.to_numpy()[:,0] - tVec0\n",
    "#     tVec[tVec == 0.] = FixedMinVal\n",
    "#     y_Data       = Data[Vars].to_numpy()\n",
    "#     print('T = ', Data['T'].to_numpy()[0], 'K')\n",
    "    \n",
    "#     DFa = Data.iloc[range(1,len(Data))]['t'].reset_index(drop=True) - Data.iloc[range(0,len(Data)-1)]['t'].reset_index(drop=True)\n",
    "#     DFb = Data.iloc[range(0,len(Data)-1)][Vars].reset_index(drop=True)\n",
    "#     DFc = Data.iloc[range(1,len(Data))][Vars].reset_index(drop=True)\n",
    "#     DataAll         = pd.concat( [DFa, DFb, DFc], axis=1, ignore_index=True )\n",
    "#     DataAll.columns = ['t'] + Vars0 + Vars\n",
    "        \n",
    "#     if (jTest == 0):\n",
    "#         Label1 = 'ODE'\n",
    "#         Label2 = 'PCA'\n",
    "#         Label3 = 'DeepONet'\n",
    "#         #Label3 = 'flexDeepONet'\n",
    "#     else:\n",
    "#         Label1 = ''\n",
    "#         Label2 = ''\n",
    "#         Label3 = ''\n",
    "\n",
    "#     ax[0].plot(tVec+tVec0, y_Data[:,iVar],  'o-', c=ColorVec[0], label=Label1)\n",
    "\n",
    "    \n",
    "# #     DataAll_        = DataAll.copy()\n",
    "    \n",
    "# #     DataAll_[Vars0] = np.log10( DataAll_[Vars0].to_numpy() + 1.e-14 ) * (1.)# + np.random.normal(0., 5.e-2, (len(DataAll_),1)))\n",
    "# #     y_Pred          = 10.**( model.predict(DataAll_[InputVars]) ) \n",
    "    \n",
    "# #     #DataAll_[Vars0] = DataAll_[Vars0].to_numpy()*(1.)#+np.random.normal(0., 5.e-2, (len(DataAll_),1)))\n",
    "# #     #y_Pred          = model.predict(DataAll_[InputVars])\n",
    "    \n",
    "# #     yPredDF         = pd.DataFrame(y_Pred, columns=Vars)\n",
    "# #     yPredDF['t']    = tVec[1::]\n",
    "    \n",
    "    \n",
    "#     iStart       = 0\n",
    "#     y_Pred       = np.log10( DataAll[Vars0].iloc[iStart:iStart+1].to_numpy() + 1.e-30 )\n",
    "#     #y_Pred       = DataAll[Vars0].iloc[iStart:iStart+1].to_numpy()\n",
    "#     yPredDF      = pd.DataFrame(y_Pred, columns=Vars)\n",
    "#     t            = Data['t'].iloc[iStart]\n",
    "#     yPredDF['t'] = t\n",
    "#     j            = 0\n",
    "#     for i in range(iStart,100): #len(DataAll)):\n",
    "#         Deltat         = 1.e-5#DataAll['t'].iloc[i]\n",
    "        \n",
    "#         #DataStart      = DataAll[Vars0].iloc[i:i+1]\n",
    "#         DataStart      = pd.DataFrame(y_Pred, columns=Vars0)\n",
    "#         DataStart['t'] = Deltat\n",
    "\n",
    "#         y_Pred         = model.predict(DataStart[InputVars])\n",
    "#         t             += Deltat \n",
    "        \n",
    "#         yPredDF_       = pd.DataFrame(10.**(y_Pred), columns=Vars)\n",
    "#         #yPredDF_       = pd.DataFrame(y_Pred, columns=Vars)\n",
    "#         yPredDF_['t']  = t\n",
    "#         yPredDF        = pd.concat([yPredDF, yPredDF_], axis=0)\n",
    "        \n",
    "#         j += 1\n",
    "    \n",
    "#     yPredDF.reset_index(drop=True, inplace=True)\n",
    "    \n",
    "    \n",
    "    \n",
    "#     ax[0].plot(yPredDF['t'].to_numpy()[0:-1], yPredDF[VarOI].to_numpy()[1:], '+:', c=ColorVec[1], label=Label3)\n",
    "     \n",
    "#     jTest += 1\n",
    "    \n",
    "\n",
    "# ax[0].set_xscale('log')\n",
    "# ax[0].set_xlabel('Time [s]')\n",
    "# if (VarOI == 'T'):\n",
    "#     ax[0].set_ylabel('Temperature [K]')\n",
    "# else:\n",
    "#     ax[0].set_ylabel(r''+VarOI_Name+', Mass Fraction')\n",
    "# ax[0].set_xlim([1.e-8,1.e-2])\n",
    "# ax[0].legend()\n",
    "# ax[0].set_yscale('log')  \n",
    "    \n",
    "# # MSE_ = MSE.sum(axis=0) / len(CasesVec) / (MSE.shape[0])\n",
    "# # print('Mean Squared Error = ', MSE_)\n",
    "    \n",
    "\n",
    "# if (FigDir):\n",
    "#     fig[0].savefig(FigDir+'/0DReact_'+DataType+'_DeepONet_'+VarOI+'.eps', format='eps', bbox_inches='tight')"
   ]
  },
  {
   "cell_type": "code",
   "execution_count": null,
   "metadata": {},
   "outputs": [],
   "source": []
  },
  {
   "cell_type": "code",
   "execution_count": null,
   "metadata": {},
   "outputs": [],
   "source": []
  },
  {
   "cell_type": "code",
   "execution_count": null,
   "metadata": {},
   "outputs": [],
   "source": []
  },
  {
   "cell_type": "code",
   "execution_count": 8,
   "metadata": {},
   "outputs": [],
   "source": [
    "#DataDir_      = DataDir\n",
    "DataDir_      = '/home/sventur/WORKSPACE/ROMNet/romnet/scripts/postprocessing/0DReactor/DeepONet/../../../../../../ROMNet/Data/0DReact_Isobaric_5000000Cases_H2_SmallSteps/'\n",
    "\n",
    "FileName      = DataDir_ + '/Orig/train/pts/Input.csv'\n",
    "Data0         = pd.read_csv(FileName, header=None, skiprows=1)\n",
    "Data0.columns = ['t0']+InputVars[0:-1]\n",
    "\n",
    "FileName      = DataDir_ + '/Orig/train/pts/Output.csv'\n",
    "Data          = pd.read_csv(FileName, header=None, skiprows=1)\n",
    "Data.columns  = ['t']+Vars\n",
    "\n",
    "Data          = pd.concat([Data0, Data], axis=1)\n",
    "#Data['t']     = Data['t'] - Data['t0'] \n",
    "\n",
    "Data          = Data.dropna(axis=0)"
   ]
  },
  {
   "cell_type": "code",
   "execution_count": 9,
   "metadata": {
    "scrolled": true
   },
   "outputs": [],
   "source": [
    "y_Pred        = pd.DataFrame(model.predict(Data[InputVars]), columns=InputData.output_vars)"
   ]
  },
  {
   "cell_type": "code",
   "execution_count": 10,
   "metadata": {},
   "outputs": [
    {
     "data": {
      "text/plain": [
       "Text(0, 0.5, '$n_{NH}$, Predicted')"
      ]
     },
     "execution_count": 10,
     "metadata": {},
     "output_type": "execute_result"
    },
    {
     "name": "stderr",
     "output_type": "stream",
     "text": [
      "findfont: Font family ['serif'] not found. Falling back to DejaVu Sans.\n",
      "findfont: Generic family 'serif' not found because none of the following families were found: Arial\n",
      "findfont: Font family ['cursive'] not found. Falling back to DejaVu Sans.\n",
      "findfont: Generic family 'cursive' not found because none of the following families were found: Arial\n",
      "findfont: Font family ['Charter'] not found. Falling back to DejaVu Sans.\n",
      "findfont: Font family ['monospace'] not found. Falling back to DejaVu Sans.\n",
      "findfont: Generic family 'monospace' not found because none of the following families were found: Arial\n",
      "findfont: Font family ['Charter'] not found. Falling back to DejaVu Sans.\n",
      "findfont: Font family ['Charter'] not found. Falling back to DejaVu Sans.\n",
      "findfont: Font family ['sans'] not found. Falling back to DejaVu Sans.\n",
      "findfont: Generic family 'sans' not found because none of the following families were found: Arial\n"
     ]
    },
    {
     "data": {
      "image/png": "[encoded data removed]",
      "text/plain": [
       "<Figure size 720x720 with 1 Axes>"
      ]
     },
     "metadata": {
      "needs_background": "light"
     },
     "output_type": "display_data"
    }
   ],
   "source": [
    "plt.figure(figsize=(10,10))\n",
    "plt.scatter(10**(Data['NH']), 10**(y_Pred['NH']), s=3)\n",
    "plt.xscale('log')\n",
    "plt.yscale('log')\n",
    "plt.xlabel(r'$n_{NH}$, Data')\n",
    "plt.ylabel(r'$n_{NH}$, Predicted')\n",
    "#plt.xlabel(r'$T$, Data')\n",
    "#plt.ylabel(r'$T$, Predicted')\n",
    "#plt.plot([1000,3000], [1000,3000], 'r')\n",
    "#plt.plot([1.e-3,1], [1.e-3,1], 'r')\n",
    "#plt.plot([1.e-15,1.e-2], [1.e-15,1.e-2], 'r')\n",
    "#plt.plot([1.e-30,1.e-5], [1.e-30,1.e-5], 'r')"
   ]
  },
  {
   "cell_type": "code",
   "execution_count": 11,
   "metadata": {},
   "outputs": [
    {
     "data": {
      "text/html": [
       "<div>\n",
       "<style scoped>\n",
       "    .dataframe tbody tr th:only-of-type {\n",
       "        vertical-align: middle;\n",
       "    }\n",
       "\n",
       "    .dataframe tbody tr th {\n",
       "        vertical-align: top;\n",
       "    }\n",
       "\n",
       "    .dataframe thead th {\n",
       "        text-align: right;\n",
       "    }\n",
       "</style>\n",
       "<table border=\"1\" class=\"dataframe\">\n",
       "  <thead>\n",
       "    <tr style=\"text-align: right;\">\n",
       "      <th></th>\n",
       "      <th>N</th>\n",
       "      <th>NH</th>\n",
       "    </tr>\n",
       "  </thead>\n",
       "  <tbody>\n",
       "    <tr>\n",
       "      <th>0</th>\n",
       "      <td>-15.970937</td>\n",
       "      <td>-16.046949</td>\n",
       "    </tr>\n",
       "    <tr>\n",
       "      <th>1</th>\n",
       "      <td>-12.235139</td>\n",
       "      <td>-12.487151</td>\n",
       "    </tr>\n",
       "    <tr>\n",
       "      <th>2</th>\n",
       "      <td>-14.159773</td>\n",
       "      <td>-14.866181</td>\n",
       "    </tr>\n",
       "    <tr>\n",
       "      <th>3</th>\n",
       "      <td>-17.736271</td>\n",
       "      <td>-17.116296</td>\n",
       "    </tr>\n",
       "    <tr>\n",
       "      <th>4</th>\n",
       "      <td>-13.378087</td>\n",
       "      <td>-14.504065</td>\n",
       "    </tr>\n",
       "    <tr>\n",
       "      <th>...</th>\n",
       "      <td>...</td>\n",
       "      <td>...</td>\n",
       "    </tr>\n",
       "    <tr>\n",
       "      <th>119085</th>\n",
       "      <td>-12.095069</td>\n",
       "      <td>-13.073012</td>\n",
       "    </tr>\n",
       "    <tr>\n",
       "      <th>119086</th>\n",
       "      <td>-12.108311</td>\n",
       "      <td>-12.786888</td>\n",
       "    </tr>\n",
       "    <tr>\n",
       "      <th>119087</th>\n",
       "      <td>-15.523898</td>\n",
       "      <td>-12.962057</td>\n",
       "    </tr>\n",
       "    <tr>\n",
       "      <th>119088</th>\n",
       "      <td>-16.911834</td>\n",
       "      <td>-15.057219</td>\n",
       "    </tr>\n",
       "    <tr>\n",
       "      <th>119089</th>\n",
       "      <td>-14.405299</td>\n",
       "      <td>-14.841982</td>\n",
       "    </tr>\n",
       "  </tbody>\n",
       "</table>\n",
       "<p>119090 rows × 2 columns</p>\n",
       "</div>"
      ],
      "text/plain": [
       "                N         NH\n",
       "0      -15.970937 -16.046949\n",
       "1      -12.235139 -12.487151\n",
       "2      -14.159773 -14.866181\n",
       "3      -17.736271 -17.116296\n",
       "4      -13.378087 -14.504065\n",
       "...           ...        ...\n",
       "119085 -12.095069 -13.073012\n",
       "119086 -12.108311 -12.786888\n",
       "119087 -15.523898 -12.962057\n",
       "119088 -16.911834 -15.057219\n",
       "119089 -14.405299 -14.841982\n",
       "\n",
       "[119090 rows x 2 columns]"
      ]
     },
     "execution_count": 11,
     "metadata": {},
     "output_type": "execute_result"
    }
   ],
   "source": [
    "y_Pred"
   ]
  },
  {
   "cell_type": "code",
   "execution_count": null,
   "metadata": {},
   "outputs": [],
   "source": []
  },
  {
   "cell_type": "code",
   "execution_count": null,
   "metadata": {},
   "outputs": [],
   "source": []
  },
  {
   "cell_type": "code",
   "execution_count": 12,
   "metadata": {},
   "outputs": [
    {
     "ename": "NameError",
     "evalue": "name 'asa' is not defined",
     "output_type": "error",
     "traceback": [
      "\u001b[0;31m---------------------------------------------------------------------------\u001b[0m",
      "\u001b[0;31mNameError\u001b[0m                                 Traceback (most recent call last)",
      "Input \u001b[0;32mIn [12]\u001b[0m, in \u001b[0;36m<cell line: 1>\u001b[0;34m()\u001b[0m\n\u001b[0;32m----> 1\u001b[0m \u001b[43masa\u001b[49m\n",
      "\u001b[0;31mNameError\u001b[0m: name 'asa' is not defined"
     ]
    }
   ],
   "source": [
    "asa"
   ]
  },
  {
   "cell_type": "code",
   "execution_count": null,
   "metadata": {},
   "outputs": [],
   "source": []
  },
  {
   "cell_type": "markdown",
   "metadata": {},
   "source": [
    "## Plotting Loss Histories"
   ]
  },
  {
   "cell_type": "code",
   "execution_count": null,
   "metadata": {
    "scrolled": true
   },
   "outputs": [],
   "source": [
    "Data = pd.read_csv(path_to_run_fld+'/Training/History.csv')\n",
    "\n",
    "fig  = plt.figure(figsize=(12,8))\n",
    "plt.plot(Data['tot_loss'],     label='Training')\n",
    "plt.plot(Data['val_tot_loss'], label='Validation')\n",
    "plt.xlabel('Epoch')\n",
    "plt.ylabel('Tot. Loss [MSE]')\n",
    "plt.legend()\n",
    "plt.yscale('log')\n",
    "\n",
    "# fig  = plt.figure(figsize=(12,8))\n",
    "# plt.plot(Data['res_loss'],     label='Training')\n",
    "# plt.plot(Data['val_res_loss'], label='Validation')\n",
    "# plt.xlabel('Epoch')\n",
    "# plt.ylabel('Residual Loss [MSE]')\n",
    "# plt.legend()\n",
    "# plt.yscale('log')\n",
    "\n",
    "\n",
    "fig  = plt.figure(figsize=(12,8))\n",
    "plt.plot(Data['pts_loss'],     label='Training')\n",
    "plt.plot(Data['val_pts_loss'], label='Validation')\n",
    "plt.xlabel('Epoch')\n",
    "plt.ylabel('Data Loss [MSE]')\n",
    "plt.legend()\n",
    "plt.yscale('log')\n",
    "\n",
    "# fig  = plt.figure(figsize=(12,8))\n",
    "# plt.plot(Data['scs_loss'],     label='Training')\n",
    "# plt.plot(Data['val_scs_loss'], label='Validation')\n",
    "# plt.xlabel('Epoch')\n",
    "# plt.ylabel('S.C.s Loss [MSE]')\n",
    "# plt.legend()\n",
    "# plt.yscale('log')\n",
    "\n",
    "# fig  = plt.figure(figsize=(12,8))\n",
    "# plt.plot(Data['ics_loss'],     label='Training')\n",
    "# plt.plot(Data['val_ics_loss'], label='Validation')\n",
    "# plt.xlabel('Epoch')\n",
    "\n",
    "\n",
    "# plt.ylabel('I.C.s Loss [MSE]')\n",
    "# plt.legend()\n",
    "# plt.yscale('log')"
   ]
  },
  {
   "cell_type": "code",
   "execution_count": null,
   "metadata": {},
   "outputs": [],
   "source": []
  },
  {
   "cell_type": "code",
   "execution_count": null,
   "metadata": {},
   "outputs": [],
   "source": []
  },
  {
   "cell_type": "code",
   "execution_count": null,
   "metadata": {},
   "outputs": [],
   "source": []
  },
  {
   "cell_type": "markdown",
   "metadata": {},
   "source": [
    "## Evaluating Trunk's Outputs"
   ]
  },
  {
   "cell_type": "code",
   "execution_count": null,
   "metadata": {},
   "outputs": [],
   "source": [
    "iTrunk           = 3\n",
    "iTest            = 0\n",
    "\n",
    "\n",
    "FileName         = DataDir + '/Orig/'+DataType+'/ext/y.csv.'+str(iTest+1)\n",
    "Data             = pd.read_csv(FileName, header=0)[['t']+Vars]\n",
    "\n",
    "fig = plt.figure()\n",
    "plt.plot(Data['t'], Data[Vars[iTrunk]])\n",
    "plt.xscale('log')\n",
    "plt.xlabel('Time [s]')\n",
    "plt.ylabel(r'$\\eta_{'+str(iTrunk+1)+'}$')\n",
    "\n",
    "\n",
    "\n",
    "iVarVec = range(0,32,1)\n",
    "\n",
    "tVecTot = np.logspace(-14,4,1000)\n",
    "\n",
    "output_ = model.net.system_of_components['DeepONet'].components['Trunk_'+str(iTrunk+1)].call(tVecTot[...,np.newaxis], model.net.layers_dict, None, training=False)\n",
    "\n",
    "fig = plt.figure()\n",
    "\n",
    "for iVar in iVarVec:\n",
    "\n",
    "    plt.plot(tVecTot, output_[:,iVar])\n",
    "\n",
    "#plt.xlim([1.e-6, 1.e-2])\n",
    "plt.xscale('log')\n",
    "plt.xlabel('Time [s]')\n",
    "plt.ylabel(r'$\\phi_{'+str(iTrunk+1)+'_{i}}$')"
   ]
  },
  {
   "cell_type": "code",
   "execution_count": null,
   "metadata": {},
   "outputs": [],
   "source": []
  },
  {
   "cell_type": "code",
   "execution_count": null,
   "metadata": {},
   "outputs": [],
   "source": []
  },
  {
   "cell_type": "code",
   "execution_count": null,
   "metadata": {},
   "outputs": [],
   "source": []
  },
  {
   "cell_type": "markdown",
   "metadata": {},
   "source": [
    "## Evaluating Branches' Outputs"
   ]
  },
  {
   "cell_type": "code",
   "execution_count": null,
   "metadata": {},
   "outputs": [],
   "source": [
    "# FileName     = DataDir + '/Orig/train/ext/SimIdxs.csv'\n",
    "# Data         = pd.read_csv(FileName, header=0)\n",
    "# SimIdxs      = Data.to_numpy(int)\n",
    "\n",
    "\n",
    "# FileName     = DataDir + '/Orig/train/ext/ICs.csv'\n",
    "# Data         = pd.read_csv(FileName)\n",
    "# ICVecs       = Data.to_numpy()\n",
    "# n_ics        = len(ICVecs)\n",
    "n_ics         = 500\n",
    "\n",
    "Cols   = []\n",
    "NewFlg = True\n",
    "for iC in range(n_ics):\n",
    "\n",
    "    try:\n",
    "        \n",
    "        FileName         = DataDir + '/Orig/'+DataType+'/ext/y.csv.'+str(iC+1)\n",
    "        Data             = pd.read_csv(FileName, header=0)[['t']+Vars]\n",
    "\n",
    "        DataICTemp       = Data[Vars].iloc[0]\n",
    "\n",
    "        if (NewFlg):\n",
    "            DataIC           = DataICTemp\n",
    "            NewFlg           = False\n",
    "        else:\n",
    "            DataIC           = pd.concat([DataIC, DataICTemp], axis=1)\n",
    "            Cols.append(str(iC+1))\n",
    "            \n",
    "    except:\n",
    "        pass\n",
    "\n",
    "tVec              = Data['t']\n",
    "DataIC            = DataIC.T.reset_index(drop=True, inplace=False)\n",
    "\n",
    "DataIC.head()"
   ]
  },
  {
   "cell_type": "code",
   "execution_count": null,
   "metadata": {},
   "outputs": [],
   "source": [
    "iBranch = 0\n",
    "iVar    = 0\n",
    "\n",
    "\n",
    "\n",
    "output_branch = model.net.system_of_components['DeepONet'].components['Branch_'+str(iBranch+1)].call(DataIC.to_numpy(), model.net.layers_dict, None, training=False)\n",
    "\n",
    "\n",
    "\n",
    "#%matplotlib qt\n",
    "\n",
    "fig = plt.figure()\n",
    "ax  = fig.add_subplot(projection='3d')\n",
    "ax.scatter(DataIC['T'], DataIC['H2'], output_branch[:,iVar], c='r')\n",
    "ax.set_xlabel(r'$T$')\n",
    "ax.set_ylabel(r'$H_2$')\n",
    "#ax.set_zlabel(r'$\\alpha_{'+str(iBranch+1)+'_{'+str(iVar+1)+'}}$')\n",
    "ax.set_zlabel(r'$\\alpha_{'+str(iBranch+1)+'_D}$')"
   ]
  },
  {
   "cell_type": "code",
   "execution_count": null,
   "metadata": {},
   "outputs": [],
   "source": []
  },
  {
   "cell_type": "code",
   "execution_count": null,
   "metadata": {},
   "outputs": [],
   "source": []
  },
  {
   "cell_type": "code",
   "execution_count": null,
   "metadata": {},
   "outputs": [],
   "source": []
  },
  {
   "cell_type": "markdown",
   "metadata": {},
   "source": [
    "## Evaluating Rigid Block + Trunk's Outputs"
   ]
  },
  {
   "cell_type": "code",
   "execution_count": null,
   "metadata": {},
   "outputs": [],
   "source": [
    "n_ics         = 10\n",
    "\n",
    "Cols   = []\n",
    "NewFlg = True\n",
    "\n",
    "# FileName         = DataDir + '/Orig/'+DataType+'/ext/y.csv.1'\n",
    "# DataAll          = pd.read_csv(FileName, header=0)[Vars]\n",
    "# DataAllt         = pd.read_csv(FileName, header=0)[Vars+['t']]\n",
    "DataAll          = DataIC.copy()\n",
    "DataAllt         = pd.read_csv(FileName, header=0)[Vars+['t']]\n",
    "\n",
    "DataBranch       = model.net.layers_dict['DeepONet']['Branch']['DeepONet-Branch_Normalization'](DataAll.to_numpy())"
   ]
  },
  {
   "cell_type": "code",
   "execution_count": null,
   "metadata": {},
   "outputs": [],
   "source": [
    "output_stretch = model.net.system_of_components['DeepONet'].components['Stretch'].call(DataBranch, model.net.layers_dict, None, training=False)\n",
    "\n",
    "try:\n",
    "    output_shift   = model.net.system_of_components['DeepONet'].components['Shift'].call(DataBranch, model.net.layers_dict, None, training=False)\n",
    "    ShiftFlg = True     \n",
    "except:\n",
    "    ShiftFlg = False"
   ]
  },
  {
   "cell_type": "code",
   "execution_count": null,
   "metadata": {},
   "outputs": [],
   "source": [
    "VarNames=['T',\n",
    " 'H_{2}',\n",
    " 'H',\n",
    " 'O',\n",
    " 'O_{2}',\n",
    " 'OH',\n",
    " 'H_{2}O',\n",
    " 'HO_{2}',\n",
    " 'H_{2}O_{2}',\n",
    " 'N',\n",
    " 'NH',\n",
    " 'NH_{2}',\n",
    " 'NH_{3}',\n",
    " 'NNH',\n",
    " 'NO',\n",
    " 'NO_{2}',\n",
    " 'N_{2}O',\n",
    " 'HNO',\n",
    " 'N_{2}']\n",
    "\n",
    "\n",
    "\n",
    "\n",
    "fig = plt.figure()\n",
    "\n",
    "for iBranch in [0]:#,1,2,3,5,9,12]:\n",
    "    plt.scatter(DataAllt['t'], output_stretch[:,iBranch], label=r'$j='+VarNames[iBranch]+'$', s=30)\n",
    "    \n",
    "plt.xlabel(r'$T_0$')\n",
    "plt.ylabel(r'$\\bar{t}_j$')\n",
    "plt.xscale('log')\n",
    "plt.yscale('log')\n",
    "#plt.xlim([1000,2000])\n",
    "#plt.ylim([0,80])\n",
    "\n",
    "plt.legend(fontsize=30)\n",
    "#ax.set_zscale('log')\n",
    "\n",
    "if (FigDir):\n",
    "    plt.savefig(FigDir+'/0DReact_'+DataType+'_DeepONet_RigidOutput_2D.eps', format='eps', bbox_inches='tight')\n",
    "    \n",
    "\n",
    "\n",
    "if (ShiftFlg):\n",
    "\n",
    "    fig = plt.figure()\n",
    "\n",
    "    for iBranch in [0]:#,1,2,3,5,9,12]:\n",
    "        plt.scatter(DataAllt['t'], output_shift[:,iBranch], label=r'$j='+VarNames[iBranch]+'$', s=30)\n",
    "\n",
    "    plt.xlabel(r'$T_0$')\n",
    "    plt.ylabel(r'$\\bar{t}_j$')\n",
    "    #plt.yscale('log')\n",
    "    #plt.xlim([1000,2000])\n",
    "    #plt.ylim([0,80])\n",
    "\n",
    "    plt.legend(fontsize=30)\n",
    "    #ax.set_zscale('log')\n",
    "\n",
    "    if (FigDir):\n",
    "        plt.savefig(FigDir+'/0DReact_'+DataType+'_DeepONet_RigidOutput_2D.eps', format='eps', bbox_inches='tight')\n"
   ]
  },
  {
   "cell_type": "code",
   "execution_count": null,
   "metadata": {},
   "outputs": [],
   "source": []
  },
  {
   "cell_type": "code",
   "execution_count": null,
   "metadata": {},
   "outputs": [],
   "source": [
    "iVarVec   = [0,1,2,3,5,9,12]\n",
    "\n",
    "for iVar in iVarVec:\n",
    "\n",
    "    NewFlg   = True\n",
    "    fig, ax1 = plt.subplots()\n",
    "    ax2      = ax1.twiny()  # instantiate a second axes that shares the same x-axis\n",
    "    for iTest in range(10):\n",
    "        \n",
    "        FileName         = DataDir + '/Orig/'+DataType+'/ext/y.csv.'+str(iTest+1)\n",
    "        Data             = pd.read_csv(FileName, header=0)[['t']+Vars]\n",
    "        \n",
    "        tVec             = np.maximum(Data['t'].to_numpy(), -1)#FixedMinVal)\n",
    "        yPCA_Data        = Data[Vars].to_numpy()\n",
    "        Data0            = Data[Data['t'] == 0.][Vars]\n",
    "#         yPCA_Data        = ((y_Data[:,ToOrig_Mask] - C[:,0])/D[:,0]).dot(A.T)\n",
    "#         yPre_Data        = yPCA_Data.dot(A)\n",
    "#         yAnti_Data       = yPre_Data * D[:,0] + C[:,0]\n",
    "#         Data0            = pd.DataFrame([yPCA_Data[1,:]], columns=Vars0)\n",
    "\n",
    "        if NewFlg:\n",
    "            Label1 = 'ODE'\n",
    "            Label2 = 'Rigid Block Prepr.'\n",
    "            NewFlg = False\n",
    "        else:\n",
    "            Label1 = None\n",
    "            Label2 = None\n",
    "\n",
    "    \n",
    "        ax1.plot(tVec, yPCA_Data[:,iVar], color=ColorVec[0], label=Label1)\n",
    "        if (ShiftFlg):\n",
    "            output_t       = output_stretch[iTest,iVar] * (tVec + output_shift[iTest,iVar])\n",
    "        else:\n",
    "            output_t       = output_stretch[iTest,iVar] * (tVec)\n",
    "        ax2.plot(output_t, yPCA_Data[:,iVar], color=ColorVec[1], label=Label2)\n",
    "\n",
    "    #plt.vlines(0., ymin=5., ymax=12., linestyles='dashed', color=ColorVec[1])\n",
    "    \n",
    "    color = ColorVec[0]\n",
    "    ax1.set_xlabel(r'Time [s]', size=34)\n",
    "    if (Vars[iVar] == 'T'):\n",
    "        ax1.set_ylabel(r'Temperature [K]', color=color, size=34)\n",
    "    else:\n",
    "        ax1.set_ylabel(r'$'+VarNames[iVar]+'$, Mass Fraction', color=color, size=34)\n",
    "    ax1.tick_params(axis='y', labelcolor=color)\n",
    "    ax1.set_xscale('log')\n",
    "\n",
    "    color = ColorVec[1]\n",
    "    ax2.set_xlabel(r'      $t/\\bar{t}_{'+VarNames[iVar]+'}$ [s]', color=color, size=34, labelpad=10)  # we already handled the x-label with ax1\n",
    "    #ax2.set_ylabel(r'$x$', color=color, size=34)\n",
    "    ax2.tick_params(axis='x', labelcolor=color)\n",
    "    ax2.set_xscale('log')\n",
    "\n",
    "    fig.tight_layout()  # otherwise the right y-label is slightly clipped\n",
    "\n",
    "    #plt.legend(loc=4)\n",
    "    \n",
    "    \n",
    "    if (FigDir):\n",
    "        plt.savefig(FigDir+'/0DReact_test_DeepONet_'+Vars[iVar]+'_Shift.eps', format='eps', bbox_inches='tight')"
   ]
  },
  {
   "cell_type": "code",
   "execution_count": null,
   "metadata": {},
   "outputs": [],
   "source": []
  },
  {
   "cell_type": "code",
   "execution_count": null,
   "metadata": {},
   "outputs": [],
   "source": []
  }
 ],
 "metadata": {
  "kernelspec": {
   "display_name": "Python 3 (ipykernel)",
   "language": "python",
   "name": "python3"
  },
  "language_info": {
   "codemirror_mode": {
    "name": "ipython",
    "version": 3
   },
   "file_extension": ".py",
   "mimetype": "text/x-python",
   "name": "python",
   "nbconvert_exporter": "python",
   "pygments_lexer": "ipython3",
   "version": "3.9.6"
  }
 },
 "nbformat": 4,
 "nbformat_minor": 4
}
