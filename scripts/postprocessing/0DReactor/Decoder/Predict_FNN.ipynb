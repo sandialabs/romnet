{
 "cells": [
  {
   "cell_type": "markdown",
   "metadata": {},
   "source": [
    "# 0D Reactor: Postprocessing the FNN for the Decoder"
   ]
  },
  {
   "cell_type": "code",
   "execution_count": 1,
   "metadata": {},
   "outputs": [
    {
     "name": "stdout",
     "output_type": "stream",
     "text": [
      "3.9.12 (main, Mar 26 2022, 15:51:13) \n",
      "[Clang 12.0.0 (clang-1200.0.32.29)]\n"
     ]
    },
    {
     "name": "stderr",
     "output_type": "stream",
     "text": [
      "Missing colon in file PosixPath('/Users/sventur/.matplotlib/stylelib/paper_2columns.mplstyle'), line 1 ('f#### MATPLOTLIBRC FORMAT')\n"
     ]
    }
   ],
   "source": [
    "### Importing Libraries\n",
    "\n",
    "import sys\n",
    "print(sys.version)\n",
    "import os\n",
    "import time\n",
    "\n",
    "\n",
    "### Defining WORKSPACE_PATH\n",
    "\n",
    "# WORKSPACE_PATH = os.environ['WORKSPACE_PATH']\n",
    "WORKSPACE_PATH = os.path.join(os.getcwd(), '../../../../../../')\n",
    "ROMNet_fld     = os.path.join(WORKSPACE_PATH, 'ROMNet/romnet/')\n",
    "\n",
    "### Importing External Libraries\n",
    "\n",
    "import numpy                             as np\n",
    "import pandas                            as pd\n",
    "\n",
    "\n",
    "### Importing Matplotlib and Its Style\n",
    "\n",
    "import matplotlib.pyplot                 as plt\n",
    "\n",
    "#plt.style.use(os.path.join(WORKSPACE_PATH, 'ROMNet/romnet/extra/postprocessing/presentation.mplstyle'))\n",
    "#plt.style.use(os.path.join(WORKSPACE_PATH, 'ROMNet/romnet/extra/postprocessing/zoomed.mplstyle'))\n",
    "#plt.style.use(os.path.join(WORKSPACE_PATH, 'ROMNet/romnet/extra/postprocessing/paper_1column.mplstyle'))\n",
    "#plt.style.use(os.path.join(WORKSPACE_PATH, 'ROMNet/romnet/extra/postprocessing/paper_2columns.mplstyle'))\n",
    "\n",
    "\n",
    "# from scipy.integrate import solve_ivp\n",
    "# import pyDOE\n",
    "# from PCAfold         import PCA          as PCAA\n",
    "\n",
    "\n",
    "import romnet                            as rmnt"
   ]
  },
  {
   "cell_type": "markdown",
   "metadata": {},
   "source": [
    "## Defining Input Data"
   ]
  },
  {
   "cell_type": "code",
   "execution_count": 2,
   "metadata": {},
   "outputs": [],
   "source": [
    "NVarsRed        = 10\n",
    "n_ics           = 1000\n",
    "\n",
    "path_to_run_fld = os.path.join(WORKSPACE_PATH, 'ROMNet/0DReact_Isobaric_1000Cases_CH4_Decoder/FNN/Run_1/')\n",
    "FigDir          = None #os.path.join(WORKSPACE_PATH, '../Desktop/Paper_Figures_DeepONet_TEMP/')\n",
    "\n",
    "LineVec         = ['-',':','--','.-']*10\n",
    "ColorVec        = ['#190707', '#dd3232', '#0065a9', '#348a00','#985396','#f68b69']"
   ]
  },
  {
   "cell_type": "code",
   "execution_count": null,
   "metadata": {},
   "outputs": [],
   "source": []
  },
  {
   "cell_type": "code",
   "execution_count": null,
   "metadata": {},
   "outputs": [],
   "source": []
  },
  {
   "cell_type": "code",
   "execution_count": null,
   "metadata": {},
   "outputs": [],
   "source": []
  },
  {
   "cell_type": "markdown",
   "metadata": {},
   "source": [
    "## Loading ROMNet's Input Data File"
   ]
  },
  {
   "cell_type": "code",
   "execution_count": 3,
   "metadata": {},
   "outputs": [
    {
     "name": "stdout",
     "output_type": "stream",
     "text": [
      "\n",
      "[ROMNet]: Reading Input File from:  /Users/sventur/WORKSPACE/ROMNet/romnet/scripts/postprocessing/0DReactor/Decoder/../../../../../../ROMNet/0DReact_Isobaric_500Cases_CH4_Decoder_/FNN/Run_1/\n",
      "\n",
      "[ROMNet]: Keep Loading Modules and Functions...\n",
      "\n",
      "[ROMNet]: Initializing Input ...\n"
     ]
    }
   ],
   "source": [
    "print(\"\\n[ROMNet]: Reading Input File from: \", path_to_run_fld)\n",
    "sys.path.insert(0, path_to_run_fld)\n",
    "\n",
    "print(\"\\n[ROMNet]: Keep Loading Modules and Functions...\")\n",
    "from ROMNet_Input import inputdata\n",
    "\n",
    "print(\"\\n[ROMNet]: Initializing Input ...\")\n",
    "InputData               = inputdata(WORKSPACE_PATH)\n",
    "\n",
    "\n",
    "InputData.InputFilePath = path_to_run_fld+'/ROMNet_Input.py'\n",
    "InputData.train_int_flg = 0\n",
    "InputData.path_to_run_fld  = path_to_run_fld"
   ]
  },
  {
   "cell_type": "markdown",
   "metadata": {},
   "source": [
    "## Loading Tensorflow's Model for the Network "
   ]
  },
  {
   "cell_type": "code",
   "execution_count": 4,
   "metadata": {},
   "outputs": [
    {
     "name": "stdout",
     "output_type": "stream",
     "text": [
      "\n",
      "[ROMNet - model_tf.py    ]:   Initializing the ML Model\n",
      "\n",
      "[ROMNet - model_tf.py    ]:   Building the ML Model\n",
      "\n",
      "[ROMNet - fnn.py                    ]:   Constructing Feed-Forward Network: \n",
      "[ROMNet - system_of_components.py   ]:     Constructing System of Components: FNN\n",
      "[ROMNet - component.py              ]:       Constructing Component: FNN\n",
      "[ROMNet - sub_component.py          ]:         Constructed Sub-Component: Main with Layers:       ListWrapper([<romnet.nn.building_blocks.normalization.CustomNormalization object at 0x16475b7c0>, <keras.layers.core.dense.Dense object at 0x164ba2370>, <keras.layers.core.dense.Dense object at 0x164c1a460>, <keras.layers.core.dense.Dense object at 0x164c1af10>, <keras.layers.core.dense.Dense object at 0x164ba2850>, <keras.layers.core.dense.Dense object at 0x164bdd910>])\n",
      "\n",
      "[ROMNet - model_tf.py    ]:   Loading ML Model Parameters from File:  /Users/sventur/WORKSPACE/ROMNet/romnet/scripts/postprocessing/0DReactor/Decoder/../../../../../../ROMNet/0DReact_Isobaric_500Cases_CH4_Decoder_/FNN/Run_1//Training/Params//000109.h5\n",
      "[ROMNet - hdf5_format.py            ]:     Loaded Weights for Layer  FNN-FNN_Normalization\n",
      "[ROMNet - hdf5_format.py            ]:     Loaded Weights for Layer  FNN-FNN_Normalization\n",
      "[ROMNet - hdf5_format.py            ]:     Loaded Weights for Layer  FNN-FNN_Normalization\n",
      "[ROMNet - hdf5_format.py            ]:     Loaded Weights for Layer  FNN-FNN_Normalization\n",
      "[ROMNet - hdf5_format.py            ]:     Loaded Weights for Layer  FNN-FNN_Normalization\n",
      "[ROMNet - hdf5_format.py            ]:     Loaded Weights for Layer  FNN-FNN-Main-HL_1\n",
      "[ROMNet - hdf5_format.py            ]:     Loaded Weights for Layer  FNN-FNN-Main-HL_1\n",
      "[ROMNet - hdf5_format.py            ]:     Loaded Weights for Layer  FNN-FNN-Main-HL_2\n",
      "[ROMNet - hdf5_format.py            ]:     Loaded Weights for Layer  FNN-FNN-Main-HL_2\n",
      "[ROMNet - hdf5_format.py            ]:     Loaded Weights for Layer  FNN-FNN-Main-HL_3\n",
      "[ROMNet - hdf5_format.py            ]:     Loaded Weights for Layer  FNN-FNN-Main-HL_3\n",
      "[ROMNet - hdf5_format.py            ]:     Loaded Weights for Layer  FNN-FNN-Main-HL_4\n",
      "[ROMNet - hdf5_format.py            ]:     Loaded Weights for Layer  FNN-FNN-Main-HL_4\n",
      "[ROMNet - hdf5_format.py            ]:     Loaded Weights for Layer  FNN-FNN-Main-HL_5\n",
      "[ROMNet - hdf5_format.py            ]:     Loaded Weights for Layer  FNN-FNN-Main-HL_5\n",
      "'load_params' took 0.025848 s\n",
      "\n",
      "\n",
      "[ROMNet - model_tf.py    ]:   Saving ML Model Parameters to File:  /Users/sventur/WORKSPACE/ROMNet/romnet/scripts/postprocessing/0DReactor/Decoder/../../../../../../ROMNet/0DReact_Isobaric_500Cases_CH4_Decoder_/FNN/Run_1//Model/Params/Initial.h5\n",
      "'save_params' took 0.036363 s\n",
      "\n",
      "'build' took 1.955644 s\n",
      "\n"
     ]
    }
   ],
   "source": [
    "surrogate_type = InputData.surrogate_type\n",
    "if (surrogate_type == 'FNN-SourceTerms'):\n",
    "    surrogate_type = 'FNN'\n",
    "\n",
    "Net   = getattr(rmnt.nn, surrogate_type)\n",
    "\n",
    "model = rmnt.model.Model_TF(InputData)\n",
    "\n",
    "if (InputData.phys_system is not None):\n",
    "    System = getattr(rmnt.pinn.system, InputData.phys_system)\n",
    "    system = System(InputData)\n",
    "    \n",
    "model.build(InputData, None, Net, system)#, loadfile_no='000027')\n",
    "\n",
    "NN    = model.net"
   ]
  },
  {
   "cell_type": "code",
   "execution_count": null,
   "metadata": {},
   "outputs": [],
   "source": []
  },
  {
   "cell_type": "code",
   "execution_count": null,
   "metadata": {},
   "outputs": [],
   "source": []
  },
  {
   "cell_type": "code",
   "execution_count": null,
   "metadata": {},
   "outputs": [],
   "source": []
  },
  {
   "cell_type": "code",
   "execution_count": 5,
   "metadata": {},
   "outputs": [],
   "source": [
    "FileName = InputData.path_to_data_fld+'/../../../'+str(NVarsRed)+'PC/ROM/A.csv'\n",
    "A        = pd.read_csv(FileName, delimiter=',', header=None).to_numpy()\n",
    "AT       = A.T\n",
    "\n",
    "FileName = InputData.path_to_data_fld+'/../../../'+str(NVarsRed)+'PC/ROM/C.csv'\n",
    "C        = pd.read_csv(FileName, delimiter=',', header=None).to_numpy()\n",
    "\n",
    "FileName = InputData.path_to_data_fld+'/../../../'+str(NVarsRed)+'PC/ROM/D.csv'\n",
    "D        = pd.read_csv(FileName, delimiter=',', header=None).to_numpy()\n",
    "\n",
    "FileName    = InputData.path_to_data_fld+'/../../../'+str(NVarsRed)+'PC/ROM/ToOrig_Mask.csv'\n",
    "ToOrig_Mask = pd.read_csv(FileName, delimiter=',', header=None).to_numpy(int)[:,0]"
   ]
  },
  {
   "cell_type": "code",
   "execution_count": null,
   "metadata": {},
   "outputs": [],
   "source": []
  },
  {
   "cell_type": "code",
   "execution_count": null,
   "metadata": {},
   "outputs": [],
   "source": []
  },
  {
   "cell_type": "code",
   "execution_count": null,
   "metadata": {},
   "outputs": [],
   "source": []
  },
  {
   "cell_type": "markdown",
   "metadata": {},
   "source": [
    "## Evaluating Branch on Test Data"
   ]
  },
  {
   "cell_type": "code",
   "execution_count": 6,
   "metadata": {},
   "outputs": [],
   "source": [
    "Vars       = []\n",
    "for iVars in range(1,NVarsRed+1):\n",
    "    Vars.append('PC_'+str(iVars))\n",
    "input_vars = Vars\n",
    "\n",
    "output_vars    = InputData.output_vars"
   ]
  },
  {
   "cell_type": "code",
   "execution_count": 7,
   "metadata": {},
   "outputs": [],
   "source": [
    "FileName     = InputData.path_to_data_fld+'/valid/pts/Input.csv'\n",
    "input_data   = pd.read_csv(FileName)[input_vars]\n",
    "\n",
    "FileName     = InputData.path_to_data_fld+'/valid/pts/Output.csv'\n",
    "output_data  = pd.read_csv(FileName)[output_vars]"
   ]
  },
  {
   "cell_type": "code",
   "execution_count": 8,
   "metadata": {},
   "outputs": [],
   "source": [
    "yMat         = model.predict(input_data)    \n",
    "\n",
    "#yMat_PCA     = input_data.to_numpy().dot(A) * D[:,0] + C[:,0]"
   ]
  },
  {
   "cell_type": "code",
   "execution_count": 9,
   "metadata": {},
   "outputs": [
    {
     "data": {
      "text/plain": [
       "[<matplotlib.lines.Line2D at 0x164dc31f0>]"
      ]
     },
     "execution_count": 9,
     "metadata": {},
     "output_type": "execute_result"
    },
    {
     "data": {
      "image/png": "[encoded data removed]",
      "text/plain": [
       "<Figure size 720x720 with 1 Axes>"
      ]
     },
     "metadata": {
      "needs_background": "light"
     },
     "output_type": "display_data"
    }
   ],
   "source": [
    "SoI          = 'CH4'\n",
    "iS           = list(output_vars).index(SoI)\n",
    "\n",
    "plt.figure(figsize=(10,10))\n",
    "plt.plot(output_data[SoI], yMat[:,iS], 'ko')\n",
    "#plt.plot(output_data[SoI], yMat_PCA[:,iS+1], 'ro')\n",
    "#plt.plot(10**(output_data[SoI]-20), 10**(yMat[:,iS]-20), 'ko')\n",
    "\n",
    "\n",
    "\n",
    "#plt.plot([yMat[:,iS].min()-0.1, yMat[:,iS].max()*1.5],[yMat[:,iS].min()-0.1, yMat[:,iS].max()*1.5], 'k-')"
   ]
  },
  {
   "cell_type": "code",
   "execution_count": null,
   "metadata": {},
   "outputs": [],
   "source": []
  },
  {
   "cell_type": "code",
   "execution_count": null,
   "metadata": {},
   "outputs": [],
   "source": []
  },
  {
   "cell_type": "code",
   "execution_count": null,
   "metadata": {},
   "outputs": [],
   "source": []
  },
  {
   "cell_type": "markdown",
   "metadata": {},
   "source": [
    "## Plotting Loss Histories"
   ]
  },
  {
   "cell_type": "code",
   "execution_count": 10,
   "metadata": {},
   "outputs": [
    {
     "data": {
      "image/png": "[encoded data removed]",
      "text/plain": [
       "<Figure size 864x576 with 1 Axes>"
      ]
     },
     "metadata": {
      "needs_background": "light"
     },
     "output_type": "display_data"
    },
    {
     "data": {
      "image/png": "[encoded data removed]",
      "text/plain": [
       "<Figure size 864x576 with 1 Axes>"
      ]
     },
     "metadata": {
      "needs_background": "light"
     },
     "output_type": "display_data"
    }
   ],
   "source": [
    "Data    = pd.read_csv(path_to_run_fld+'/Training/History.csv')\n",
    "\n",
    "# OldRun  = 'Run_39'\n",
    "# DataOld = pd.read_csv(path_to_run_fld+'/../'+OldRun+'/Training/History.csv')\n",
    "\n",
    "fig  = plt.figure(figsize=(12,8))\n",
    "plt.plot(Data['tot_loss'],      label='Training')\n",
    "plt.plot(Data['val_tot_loss'],  label='Validation')\n",
    "# plt.plot(DataOld['tot_loss'],     label='Training, '+OldRun)\n",
    "# plt.plot(DataOld['val_tot_loss'], label='Validation, '+OldRun)\n",
    "plt.xlabel('Epoch')\n",
    "plt.ylabel('Tot. Loss [MSE]')\n",
    "plt.legend()\n",
    "plt.yscale('log')\n",
    "\n",
    "fig  = plt.figure(figsize=(12,8))\n",
    "plt.plot(Data['pts_loss'],      label='Training')\n",
    "plt.plot(Data['val_pts_loss'],  label='Validation')\n",
    "# plt.plot(DataOld['pts_loss'],     label='Training, '+OldRun)\n",
    "# plt.plot(DataOld['val_pts_loss'], label='Validation, '+OldRun)\n",
    "plt.xlabel('Epoch')\n",
    "plt.ylabel('Data Loss [MSE]')\n",
    "plt.legend()\n",
    "plt.yscale('log')\n",
    "#plt.ylim([1.e-2, 1.e0])\n",
    "\n",
    "# fig  = plt.figure(figsize=(12,8))\n",
    "# plt.plot(Data['scs_loss'],     label='Training')\n",
    "# plt.plot(Data['val_scs_loss'], label='Validation')\n",
    "# plt.xlabel('Epoch')\n",
    "# plt.ylabel('S.C.s Loss [MSE]')\n",
    "# plt.legend()\n",
    "# plt.yscale('log')\n",
    "\n",
    "# fig  = plt.figure(figsize=(12,8))\n",
    "# plt.plot(Data['ics_loss'],     label='Training')\n",
    "# plt.plot(Data['val_ics_loss'], label='Validation')\n",
    "# plt.xlabel('Epoch')\n",
    "# plt.ylabel('I.C.s Loss [MSE]')\n",
    "# plt.legend()\n",
    "# plt.yscale('log')"
   ]
  },
  {
   "cell_type": "code",
   "execution_count": null,
   "metadata": {},
   "outputs": [],
   "source": []
  },
  {
   "cell_type": "code",
   "execution_count": 11,
   "metadata": {},
   "outputs": [
    {
     "data": {
      "text/plain": [
       "array(['H2', 'H', 'O', 'O2', 'H2O', 'HO2', 'H2O2', 'C', 'CH', 'CH2',\n",
       "       'CH2(S)', 'CH3', 'CH4', 'CO', 'CO2', 'HCO', 'CH2O', 'CH2OH',\n",
       "       'CH3O', 'CH3OH', 'C2H', 'C2H2', 'C2H3', 'C2H4', 'C2H5', 'C2H6',\n",
       "       'HCCO', 'CH2CO', 'HCCOH', 'N', 'NH', 'NH2', 'NH3', 'NNH', 'N2O',\n",
       "       'HNO', 'CN', 'HCN', 'H2CN', 'HCNN', 'HCNO', 'HOCN', 'HNCO', 'NCO',\n",
       "       'C3H7', 'C3H8', 'CH2CHO', 'CH3CHO'], dtype=object)"
      ]
     },
     "execution_count": 11,
     "metadata": {},
     "output_type": "execute_result"
    }
   ],
   "source": [
    "output_vars"
   ]
  },
  {
   "cell_type": "code",
   "execution_count": null,
   "metadata": {},
   "outputs": [],
   "source": []
  },
  {
   "cell_type": "code",
   "execution_count": 14,
   "metadata": {},
   "outputs": [],
   "source": [
    "i_ics       = 2\n",
    "\n",
    "FileName    = InputData.path_to_data_fld+'/../../../10PC/test/ext/PC.csv.'+str(i_ics)\n",
    "xPred       = pd.read_csv(FileName, delimiter=',')\n",
    "\n",
    "FileName    = InputData.path_to_data_fld+'/../../../Orig/test/ext/y.csv.'+str(i_ics)\n",
    "yPred       = pd.read_csv(FileName, delimiter=',')"
   ]
  },
  {
   "cell_type": "code",
   "execution_count": 15,
   "metadata": {},
   "outputs": [],
   "source": [
    "yMat         = model.predict(xPred[input_vars])    "
   ]
  },
  {
   "cell_type": "code",
   "execution_count": 17,
   "metadata": {},
   "outputs": [
    {
     "data": {
      "image/png": "[encoded data removed]",
      "text/plain": [
       "<Figure size 432x288 with 1 Axes>"
      ]
     },
     "metadata": {
      "needs_background": "light"
     },
     "output_type": "display_data"
    }
   ],
   "source": [
    "SoI          = 'CH4'\n",
    "iS           = list(output_vars).index(SoI)\n",
    "\n",
    "plt.plot(yPred['t'], yPred[SoI],      color=ColorVec[0])\n",
    "plt.plot(xPred['t'], yMat[:,iS], ':', color=ColorVec[1])\n",
    "#plt.plot(xPred['t'], 10**(yMat[:,iS]-20), ':', color=ColorVec[1])\n",
    "plt.xscale('log')"
   ]
  },
  {
   "cell_type": "code",
   "execution_count": null,
   "metadata": {},
   "outputs": [],
   "source": [
    "output_vars"
   ]
  },
  {
   "cell_type": "code",
   "execution_count": null,
   "metadata": {},
   "outputs": [],
   "source": []
  }
 ],
 "metadata": {
  "kernelspec": {
   "display_name": "Python 3 (ipykernel)",
   "language": "python",
   "name": "python3"
  },
  "language_info": {
   "codemirror_mode": {
    "name": "ipython",
    "version": 3
   },
   "file_extension": ".py",
   "mimetype": "text/x-python",
   "name": "python",
   "nbconvert_exporter": "python",
   "pygments_lexer": "ipython3",
   "version": "3.9.12"
  }
 },
 "nbformat": 4,
 "nbformat_minor": 4
}
