{
 "cells": [
  {
   "cell_type": "markdown",
   "metadata": {},
   "source": [
    "# Mass-Spring-Damper System: Postprocessing the DeepONet"
   ]
  },
  {
   "cell_type": "code",
   "execution_count": 1,
   "metadata": {},
   "outputs": [
    {
     "name": "stdout",
     "output_type": "stream",
     "text": [
      "3.8.11 (default, Jun 29 2021, 03:17:05) \n",
      "[Clang 12.0.0 (clang-1200.0.32.29)]\n"
     ]
    },
    {
     "name": "stderr",
     "output_type": "stream",
     "text": [
      "Missing colon in file PosixPath('/Users/sventur/.matplotlib/stylelib/paper_2columns.mplstyle'), line 1 ('f#### MATPLOTLIBRC FORMAT')\n"
     ]
    }
   ],
   "source": [
    "### Importing Libraries\n",
    "\n",
    "import sys\n",
    "print(sys.version)\n",
    "import os\n",
    "import time\n",
    "\n",
    "\n",
    "### Defining WORKSPACE_PATH\n",
    "\n",
    "# WORKSPACE_PATH = os.environ['WORKSPACE_PATH']\n",
    "WORKSPACE_PATH = os.path.join(os.getcwd(), '../../../../../../')\n",
    "ROMNet_fld     = os.path.join(WORKSPACE_PATH, 'ROMNet/romnet/')\n",
    "\n",
    "### Importing External Libraries\n",
    "\n",
    "import numpy                             as np\n",
    "import pandas                            as pd\n",
    "\n",
    "\n",
    "### Importing Matplotlib and Its Style\n",
    "\n",
    "import matplotlib.pyplot                 as plt\n",
    "\n",
    "#plt.style.use(os.path.join(WORKSPACE_PATH, 'ROMNet/romnet/extra/postprocessing/presentation.mplstyle'))\n",
    "#plt.style.use(os.path.join(WORKSPACE_PATH, 'ROMNet/romnet/extra/postprocessing/zoomed.mplstyle'))\n",
    "plt.style.use(os.path.join(WORKSPACE_PATH, 'ROMNet/romnet/extra/postprocessing/paper_1column.mplstyle'))\n",
    "#plt.style.use(os.path.join(WORKSPACE_PATH, 'ROMNet/romnet/extra/postprocessing/paper_2columns.mplstyle'))\n",
    "\n",
    "\n",
    "from scipy.integrate import solve_ivp\n",
    "import pyDOE\n",
    "from PCAfold         import PCA          as PCAA\n",
    "\n",
    "\n",
    "import romnet                            as rmnt"
   ]
  },
  {
   "cell_type": "markdown",
   "metadata": {},
   "source": [
    "## ODE"
   ]
  },
  {
   "cell_type": "code",
   "execution_count": 2,
   "metadata": {},
   "outputs": [],
   "source": [
    "def fOrig(t, y):\n",
    "    return [y[1], -Params[2]/Params[0]*y[0]-Params[1]/Params[0]*y[1]]\n",
    "\n",
    "def fOrig_Source(t, y):\n",
    "    return [y[1], -Params[2]/Params[0]*y[0]-Params[1]/Params[0]*y[1]]\n",
    "\n",
    "Params = np.array([1.0, 0.5, 3.0], dtype=np.float64)"
   ]
  },
  {
   "cell_type": "markdown",
   "metadata": {},
   "source": [
    "## Defining Input Data"
   ]
  },
  {
   "cell_type": "code",
   "execution_count": 3,
   "metadata": {},
   "outputs": [],
   "source": [
    "path_to_run_fld = os.path.join(WORKSPACE_PATH, 'ROMNet/MSD_100Cases_All/DeepONet/Run_1/')\n",
    "FigDir          = os.path.join(WORKSPACE_PATH, '../Desktop/Paper_Figures_DeepONet_TEMP/')\n",
    "\n",
    "\n",
    "TrainingCases   = [0]#[0,2,4,6,8]\n",
    "TestCases       = [0,2,4]#[0,2]\n",
    "\n",
    "NSamples        = 100\n",
    "\n",
    "Nt              = 100\n",
    "tout            = np.linspace(0.,15.,Nt)\n",
    "SOLVER          = 'Radau'\n",
    "\n",
    "\n",
    "LineVec         = ['-',':','--','.-']*10\n",
    "ColorVec        = ['#190707', '#dd3232', '#0065a9', '#348a00','#985396','#f68b69']"
   ]
  },
  {
   "cell_type": "code",
   "execution_count": null,
   "metadata": {},
   "outputs": [],
   "source": []
  },
  {
   "cell_type": "code",
   "execution_count": null,
   "metadata": {},
   "outputs": [],
   "source": []
  },
  {
   "cell_type": "code",
   "execution_count": null,
   "metadata": {},
   "outputs": [],
   "source": []
  },
  {
   "cell_type": "markdown",
   "metadata": {},
   "source": [
    "## Loading ROMNet's Input Data File"
   ]
  },
  {
   "cell_type": "code",
   "execution_count": 4,
   "metadata": {},
   "outputs": [
    {
     "name": "stdout",
     "output_type": "stream",
     "text": [
      "\n",
      "[ROMNet]: Reading Input File from:  /Users/sventur/WORKSPACE/ROMNet/romnet/scripts/postprocessing/MassSpringDamper/DeepONet/../../../../../../ROMNet/MSD_100Cases_All/DeepONet/Run_38/\n",
      "\n",
      "[ROMNet]: Keep Loading Modules and Functions...\n"
     ]
    },
    {
     "ename": "ModuleNotFoundError",
     "evalue": "No module named 'ROMNet_Input'",
     "output_type": "error",
     "traceback": [
      "\u001b[0;31m---------------------------------------------------------------------------\u001b[0m",
      "\u001b[0;31mModuleNotFoundError\u001b[0m                       Traceback (most recent call last)",
      "\u001b[0;32m<ipython-input-4-7a3823f2290c>\u001b[0m in \u001b[0;36m<module>\u001b[0;34m\u001b[0m\n\u001b[1;32m      3\u001b[0m \u001b[0;34m\u001b[0m\u001b[0m\n\u001b[1;32m      4\u001b[0m \u001b[0mprint\u001b[0m\u001b[0;34m(\u001b[0m\u001b[0;34m\"\\n[ROMNet]: Keep Loading Modules and Functions...\"\u001b[0m\u001b[0;34m)\u001b[0m\u001b[0;34m\u001b[0m\u001b[0;34m\u001b[0m\u001b[0m\n\u001b[0;32m----> 5\u001b[0;31m \u001b[0;32mfrom\u001b[0m \u001b[0mROMNet_Input\u001b[0m \u001b[0;32mimport\u001b[0m \u001b[0minputdata\u001b[0m\u001b[0;34m\u001b[0m\u001b[0;34m\u001b[0m\u001b[0m\n\u001b[0m\u001b[1;32m      6\u001b[0m \u001b[0;34m\u001b[0m\u001b[0m\n\u001b[1;32m      7\u001b[0m \u001b[0mprint\u001b[0m\u001b[0;34m(\u001b[0m\u001b[0;34m\"\\n[ROMNet]: Initializing Input ...\"\u001b[0m\u001b[0;34m)\u001b[0m\u001b[0;34m\u001b[0m\u001b[0;34m\u001b[0m\u001b[0m\n",
      "\u001b[0;31mModuleNotFoundError\u001b[0m: No module named 'ROMNet_Input'"
     ]
    }
   ],
   "source": [
    "print(\"\\n[ROMNet]: Reading Input File from: \", path_to_run_fld)\n",
    "sys.path.insert(0, path_to_run_fld)\n",
    "\n",
    "print(\"\\n[ROMNet]: Keep Loading Modules and Functions...\")\n",
    "from ROMNet_Input import inputdata\n",
    "\n",
    "print(\"\\n[ROMNet]: Initializing Input ...\")\n",
    "InputData               = inputdata(WORKSPACE_PATH)\n",
    "\n",
    "\n",
    "InputData.InputFilePath = path_to_run_fld+'/ROMNet_Input.py'\n",
    "InputData.train_int_flg = 0\n",
    "InputData.path_to_run_fld  = path_to_run_fld"
   ]
  },
  {
   "cell_type": "markdown",
   "metadata": {},
   "source": [
    "## Loading Tensorflow's Model for the Network "
   ]
  },
  {
   "cell_type": "code",
   "execution_count": null,
   "metadata": {},
   "outputs": [],
   "source": [
    "surrogate_type = InputData.surrogate_type\n",
    "if (surrogate_type == 'FNN-SourceTerms'):\n",
    "    surrogate_type = 'FNN'\n",
    "\n",
    "Net   = getattr(rmnt.nn, surrogate_type)\n",
    "\n",
    "model = rmnt.model.Model_TF(InputData)\n",
    "\n",
    "if (InputData.phys_system is not None):\n",
    "    System = getattr(rmnt.pinn.system, InputData.phys_system)\n",
    "    system = System(InputData)\n",
    "    \n",
    "model.build(InputData, None, Net, system)#, loadfile_no='000027')\n",
    "\n",
    "NN    = model.net"
   ]
  },
  {
   "cell_type": "code",
   "execution_count": null,
   "metadata": {},
   "outputs": [],
   "source": []
  },
  {
   "cell_type": "code",
   "execution_count": null,
   "metadata": {},
   "outputs": [],
   "source": []
  },
  {
   "cell_type": "code",
   "execution_count": null,
   "metadata": {},
   "outputs": [],
   "source": []
  },
  {
   "cell_type": "markdown",
   "metadata": {},
   "source": [
    "## Evaluating DeepONet on Test Data"
   ]
  },
  {
   "cell_type": "code",
   "execution_count": null,
   "metadata": {},
   "outputs": [],
   "source": [
    "input_vars  = model.net.input_vars\n",
    "trunk_vars  = InputData.input_vars['DeepONet']['Trunk']\n",
    "branch_vars = InputData.input_vars['DeepONet']['Branch']\n",
    "\n",
    "FileName  = WORKSPACE_PATH + '/ROMNet/Data/MSD_100Cases/Orig/test/ext/Input.csv'# + InputData.InputFile\n",
    "Data      = pd.read_csv(FileName, header=0)\n",
    "Input     = Data[branch_vars].to_numpy()\n",
    "VarNames  = list(Data.columns)\n",
    "Nu        = Input.shape[1]\n",
    "u         = []\n",
    "for iu in range(Nu):\n",
    "    u.append(np.unique(Input[:,iu]))\n",
    "u         = np.stack(u, axis=0).T\n",
    "u"
   ]
  },
  {
   "cell_type": "code",
   "execution_count": null,
   "metadata": {},
   "outputs": [],
   "source": [
    "### Evaluating on Test Data\n",
    "\n",
    "FileName  = WORKSPACE_PATH + '/ROMNet/Data/MSD_100Cases/Orig/test/ext/Input.csv'# + InputData.InputFile\n",
    "Data      = pd.read_csv(FileName, header=0)\n",
    "Input     = Data[branch_vars].to_numpy()\n",
    "VarNames  = list(Data.columns)\n",
    "Nu        = Input.shape[1]\n",
    "u         = []\n",
    "for iu in range(Nu):\n",
    "    u.append(np.unique(Input[:,iu]))\n",
    "u         = np.stack(u, axis=0).T\n",
    "\n",
    "\n",
    "## Variable to Be Visualized\n",
    "VarOI     = 'x'\n",
    "for iVar in range(1,len(VarNames)):\n",
    "    if (VarNames[iVar] == VarOI):\n",
    "        print('iVar = ', iVar)\n",
    "        break\n",
    "\n",
    "iSim     = 0\n",
    "fig, ax1 = plt.subplots()\n",
    "ax2      = ax1.twinx()  # instantiate a second axes that shares the same x-axis\n",
    "for iTest in [0,1,2,3,4]:\n",
    "    \n",
    "    print('u0 = ', u[iTest,:])\n",
    "\n",
    "    ### Generating Data  \n",
    "    output     = solve_ivp( fOrig, tout[[0,-1]], u[iTest,:], method=SOLVER, t_eval=tout, rtol=1.e-15, atol=1.e-10 )\n",
    "    tOrig      = tout\n",
    "    yMatOrig   = output.y.T\n",
    "    \n",
    "    ### Creating NN Input\n",
    "    tPred     = tOrig[...,np.newaxis]\n",
    "    Nt        = len(tPred)\n",
    "    uPred     = u[iTest,:]*np.ones((Nt,2))\n",
    "    InputPred = np.concatenate((uPred,tPred), axis=1)\n",
    "    \n",
    "    if (InputData.surrogate_type == 'DeepONet') or (NSamples == 1):\n",
    "\n",
    "        yMat      = model.predict(InputPred) \n",
    "\n",
    "        tLoop         = np.linspace(0.,15.,3)\n",
    "        yMatLoop      = np.zeros((len(tLoop),2))\n",
    "        InputPredLoop = np.concatenate([uPred[0,:][np.newaxis,...], (tLoop[0])[np.newaxis,np.newaxis]], axis=1)\n",
    "        yMatLoop[0,:] = model.predict(InputPredLoop)\n",
    "        for it, tLoop_ in enumerate(tLoop[1:]):\n",
    "            InputPredLoop    = np.concatenate([yMatLoop[it,:][np.newaxis,...], (tLoop[it+1]-tLoop[it])[np.newaxis,np.newaxis]], axis=1)\n",
    "            yMatLoop[it+1,:] = model.predict(InputPredLoop)\n",
    "\n",
    "        ## Plotting\n",
    "\n",
    "        if (iSim == 0):\n",
    "            Label1 = 'ODE'\n",
    "            #Label2 = 'DeepONet'\n",
    "            #Label2 = 'PI-DeepONet'\n",
    "            Label2 = 'SVD-DeepONet'\n",
    "            Label3 = 'DeepONet, Iterative'\n",
    "        else:\n",
    "            Label1 = None\n",
    "            Label2 = None\n",
    "            Label3 = None\n",
    "\n",
    "\n",
    "        color = ColorVec[1]\n",
    "        ax1.plot(tOrig, yMatOrig[:,iVar-1], '-', color=color,     label=Label1)\n",
    "        ax1.plot(tPred, yMat[:,iVar-1],     ':', color='#DF7401', label=Label2)\n",
    "\n",
    "        color = ColorVec[0]\n",
    "        ax2.plot(tOrig, yMatOrig[:,iVar], '-', color=color)\n",
    "        ax2.plot(tPred, yMat[:,iVar],     ':', color='#848484')\n",
    "\n",
    "    else:\n",
    "\n",
    "        ### Sampling NN\n",
    "        yMat_sum = np.zeros((yMatOrig.shape[0], yMatOrig.shape[1]))\n",
    "        yMat_sqr = np.zeros((yMatOrig.shape[0], yMatOrig.shape[1]))\n",
    "\n",
    "        for iSample in range(NSamples):\n",
    "            yMat_ = NN.predict(InputPred)    \n",
    "            yMat_sum += yMat_\n",
    "            yMat_sqr += yMat_**2\n",
    "\n",
    "        yMat_mean = yMat_sum/NSamples\n",
    "        yMat_std  = np.sqrt( yMat_sqr/NSamples - yMat_mean**2 )\n",
    "        yMat_p1   = yMat_mean + 1.*yMat_std\n",
    "        yMat_m1   = yMat_mean - 1.*yMat_std\n",
    "        yMat_p2   = yMat_mean + 2.*yMat_std\n",
    "        yMat_m2   = yMat_mean - 2.*yMat_std\n",
    "        yMat_p3   = yMat_mean + 3.*yMat_std\n",
    "        yMat_m3   = yMat_mean - 3.*yMat_std\n",
    "\n",
    "\n",
    "        ## Plotting\n",
    "        fig = plt.figure()\n",
    "        plt.plot(tOrig, yMatOrig[:,iVar-1],  'k-', label='Data')\n",
    "        plt.plot(tPred, yMat_mean[:,iVar-1], 'k-', label=r'DeepONet, $\\mu$')\n",
    "        plt.plot(tPred, yMat_p3[:,iVar-1],   'b:', label=r'DeepONet, $\\mu+3\\sigma$')\n",
    "        plt.plot(tPred, yMat_m3[:,iVar-1],   'b:', label=r'DeepONet, $\\mu-3\\sigma$')\n",
    "        plt.xlabel('t')\n",
    "        plt.ylabel(VarOI)\n",
    "        plt.legend()\n",
    "        plt.show()\n",
    "        \n",
    "    iSim += 1\n",
    "\n",
    "\n",
    "ax1.set_xlabel('Time [s]', size=34)\n",
    "ax1.set_ylabel('Displacement [m]', color=ColorVec[1], size=34)\n",
    "ax1.tick_params(axis='y', labelcolor=ColorVec[1])\n",
    "ax1.set_ylim([-6.,6.])\n",
    "\n",
    "color = 'k'\n",
    "ax2.set_ylabel('Velocity [m/s]', color=ColorVec[0], size=34)  # we already handled the x-label with ax1\n",
    "ax2.tick_params(axis='y', labelcolor=ColorVec[0])\n",
    "ax2.set_ylim([-6.,6.])\n",
    "\n",
    "ax1.legend()\n",
    "\n",
    "fig.tight_layout()  # otherwise the right y-label is slightly clipped\n",
    "\n",
    "if (FigDir):\n",
    "    #plt.savefig(FigDir+'/MSD_TrainedDynamics_DeepONet.eps', format='eps', bbox_inches='tight')\n",
    "    #plt.savefig(FigDir+'/MSD_TrainedDynamics_PINN.eps', format='eps', bbox_inches='tight')\n",
    "    plt.savefig(FigDir+'/MSD_TrainedDynamics_SVD.eps', format='eps', bbox_inches='tight')\n",
    "    #plt.savefig(FigDir+'/MSD_TrainedDynamics_PCA_All.eps', format='eps', bbox_inches='tight')\n",
    "    pass"
   ]
  },
  {
   "cell_type": "code",
   "execution_count": null,
   "metadata": {},
   "outputs": [],
   "source": []
  },
  {
   "cell_type": "code",
   "execution_count": null,
   "metadata": {},
   "outputs": [],
   "source": []
  },
  {
   "cell_type": "code",
   "execution_count": null,
   "metadata": {},
   "outputs": [],
   "source": []
  },
  {
   "cell_type": "code",
   "execution_count": null,
   "metadata": {},
   "outputs": [],
   "source": [
    "### EXPERIMENTING\n",
    "\n",
    "# FileName  = WORKSPACE_PATH + '/ROMNet/Data/MSD_100Cases/Orig/test/ext/Input.csv'# + InputData.InputFile\n",
    "# Data      = pd.read_csv(FileName, header=0)\n",
    "# Input     = Data[branch_vars].to_numpy()\n",
    "# VarNames  = list(Data.columns)\n",
    "# Nu        = Input.shape[1]\n",
    "# u         = []\n",
    "# for iu in range(Nu):\n",
    "#     u.append(np.unique(Input[:,iu]))\n",
    "# u         = np.stack(u, axis=0).T\n",
    "\n",
    "\n",
    "\n",
    "# CostVec_Int = []\n",
    "\n",
    "# iSim = 0\n",
    "# for iTest in [0,1,2,3,4]:\n",
    "    \n",
    "#     print('u0 = ', u[iTest,:])\n",
    "    \n",
    "#     t0 = time.time()\n",
    "#     ### Generating Data  \n",
    "#     output     = solve_ivp( fOrig, tout[[0,-1]], u[iTest,:], method=SOLVER, t_eval=tout, rtol=1.e-15, atol=1.e-10 )\n",
    "#     t1 = time.time()\n",
    "#     CostVec_Int.append(t1-t0)\n",
    "    \n",
    "\n",
    "#     iSim += 1"
   ]
  },
  {
   "cell_type": "code",
   "execution_count": null,
   "metadata": {},
   "outputs": [],
   "source": [
    "# CostVec_Loop = []\n",
    "\n",
    "# iTestVec     = [0,1,2,3,4]\n",
    "\n",
    "# tLoop        = np.linspace(0.,15.,3)\n",
    "\n",
    "# iSim = 0\n",
    "# for iTest in iTestVec:\n",
    "    \n",
    "#     print('u0 = ', u[iTest,:])\n",
    "    \n",
    "#     t0 = time.time()\n",
    "#     yMatLoop      = np.zeros((len(tLoop),2))\n",
    "#     InputPredLoop = np.concatenate([u[iTest,:][np.newaxis,...], (tLoop[0])[np.newaxis,np.newaxis]], axis=1)\n",
    "#     yMatLoop[0,:] = model.net.predict(InputPredLoop)\n",
    "#     for it, tLoop_ in enumerate(tLoop[1:]):\n",
    "#         InputPredLoop    = np.concatenate([yMatLoop[it,:][np.newaxis,...], (tLoop[it+1]-tout[it])[np.newaxis,np.newaxis]], axis=1)\n",
    "#         yMatLoop[it+1,:] = model.net.predict(InputPredLoop)\n",
    "\n",
    "#     t1 = time.time()\n",
    "#     CostVec_Loop.append(t1-t0)\n",
    "    \n",
    "#     plt.plot(tLoop, yMatLoop[:,iVar-1], 'b')\n",
    "#     plt.xlabel('t')\n",
    "#     plt.ylabel(VarOI)\n",
    "#     plt.legend()\n",
    "#     #plt.show()\n",
    "    \n",
    "#     iSim += 1"
   ]
  },
  {
   "cell_type": "code",
   "execution_count": null,
   "metadata": {},
   "outputs": [],
   "source": [
    "# Cost_Loop     = 0.\n",
    "\n",
    "# iTestVec      = [0,1,2,3,4]*10\n",
    "# n_test         = len(iTestVec)\n",
    "    \n",
    "\n",
    "\n",
    "# InputPredLoop = np.concatenate([u[iTestVec,:], np.array([tLoop[0]]*n_test)[...,np.newaxis]], axis=1)\n",
    "# yMatLoop      = model.net.predict(InputPredLoop)\n",
    "# yMatLoopAll   = []\n",
    "# for it, tLoop_ in enumerate(tLoop[1:]):\n",
    "#     InputPredLoop = np.concatenate([yMatLoop, np.array([tLoop[it+1]-tLoop[it]]*n_test)[...,np.newaxis]], axis=1)\n",
    "#     t0            = time.time()\n",
    "#     yMatLoop      = model.net.predict(InputPredLoop)\n",
    "#     t1            = time.time()\n",
    "#     Cost_Loop    += t1-t0\n",
    "#     yMatLoopAll.append(yMatLoop)"
   ]
  },
  {
   "cell_type": "code",
   "execution_count": null,
   "metadata": {},
   "outputs": [],
   "source": []
  },
  {
   "cell_type": "code",
   "execution_count": null,
   "metadata": {},
   "outputs": [],
   "source": []
  },
  {
   "cell_type": "code",
   "execution_count": null,
   "metadata": {},
   "outputs": [],
   "source": []
  },
  {
   "cell_type": "markdown",
   "metadata": {},
   "source": [
    "## Plotting Loss Histories"
   ]
  },
  {
   "cell_type": "code",
   "execution_count": null,
   "metadata": {},
   "outputs": [],
   "source": [
    "Data = pd.read_csv(path_to_run_fld+'/Training/History.csv')\n",
    "\n",
    "fig  = plt.figure(figsize=(12,8))\n",
    "plt.plot(Data['tot_loss'],     label='Training')\n",
    "plt.plot(Data['val_tot_loss'], label='Validation')\n",
    "plt.xlabel('Epoch')\n",
    "plt.ylabel('Tot. Loss [MSE]')\n",
    "plt.legend()\n",
    "plt.yscale('log')\n",
    "\n",
    "\n",
    "fig  = plt.figure(figsize=(12,8))\n",
    "plt.plot(Data['pts_loss'],     label='Training')\n",
    "plt.plot(Data['val_pts_loss'], label='Validation')\n",
    "plt.xlabel('Epoch')\n",
    "plt.ylabel('Data Loss [MSE]')\n",
    "plt.legend()\n",
    "plt.yscale('log')\n",
    "#plt.ylim([1.e-2, 1.e0])\n",
    "\n",
    "# fig  = plt.figure(figsize=(12,8))\n",
    "# plt.plot(Data['scs_loss'],     label='Training')\n",
    "# plt.plot(Data['val_scs_loss'], label='Validation')\n",
    "# plt.xlabel('Epoch')\n",
    "# plt.ylabel('S.C.s Loss [MSE]')\n",
    "# plt.legend()\n",
    "# plt.yscale('log')\n",
    "\n",
    "# fig  = plt.figure(figsize=(12,8))\n",
    "# plt.plot(Data['ics_loss'],     label='Training')\n",
    "# plt.plot(Data['val_ics_loss'], label='Validation')\n",
    "# plt.xlabel('Epoch')\n",
    "# plt.ylabel('I.C.s Loss [MSE]')\n",
    "# plt.legend()\n",
    "# plt.yscale('log')"
   ]
  },
  {
   "cell_type": "code",
   "execution_count": null,
   "metadata": {},
   "outputs": [],
   "source": []
  },
  {
   "cell_type": "code",
   "execution_count": null,
   "metadata": {},
   "outputs": [],
   "source": []
  },
  {
   "cell_type": "code",
   "execution_count": null,
   "metadata": {},
   "outputs": [],
   "source": []
  },
  {
   "cell_type": "markdown",
   "metadata": {},
   "source": [
    "## Evaluating Branches' and Trunk's Outputs"
   ]
  },
  {
   "cell_type": "code",
   "execution_count": null,
   "metadata": {},
   "outputs": [],
   "source": [
    "FileName   = InputData.path_to_data_fld + '/test/ext/Input.csv'# + InputData.InputFile\n",
    "DataIn     = pd.read_csv(FileName, header=0)\n",
    "Input_     = DataIn.to_numpy()\n",
    "VarNames   = list(DataIn.columns)\n",
    "\n",
    "FileName   = InputData.path_to_data_fld + '/test/ext/Output.csv'# + InputData.InputFile\n",
    "Data       = pd.read_csv(FileName, header=0)\n",
    "Output_    = Data.to_numpy()"
   ]
  },
  {
   "cell_type": "code",
   "execution_count": null,
   "metadata": {},
   "outputs": [],
   "source": [
    "FileName  = WORKSPACE_PATH + '/ROMNet/Data/MSD_100Cases/Orig/test/ext/Input.csv'# + InputData.InputFile\n",
    "Data      = pd.read_csv(FileName, header=0)\n",
    "Input     = Data[branch_vars].to_numpy()\n",
    "VarNames  = list(Data.columns)\n",
    "Nu        = Input.shape[1]\n",
    "u         = []\n",
    "for iu in range(Nu):\n",
    "    u.append(np.unique(Input[:,iu]))\n",
    "u         = np.stack(u, axis=0).T\n",
    "n_test     = u.shape[0]\n",
    "\n",
    "\n",
    "## Variable to Be Visualized\n",
    "VarOI     = 'v'\n",
    "for iVar in range(1,len(VarNames)):\n",
    "    if (VarNames[iVar] == VarOI):\n",
    "        print('iVar = ', iVar)\n",
    "        break\n",
    "\n",
    "iSim = 0\n",
    "for iTest in range(n_test):#[0,1,2,3,4]:\n",
    "    \n",
    "#     ### Generating Data  \n",
    "#     output     = solve_ivp( fOrig, tout[[0,-1]], u[iTest,:], method=SOLVER, t_eval=tout, rtol=1.e-15, atol=1.e-10 )\n",
    "#     tOrig      = tout\n",
    "#     yMatOrig   = output.y.T\n",
    "    \n",
    "    ### Creating NN Input\n",
    "    tPred     = tOrig[...,np.newaxis]\n",
    "    Nt        = len(tPred)\n",
    "    uPred     = u[iTest,:]*np.ones((Nt,2))\n",
    "    InputPred = np.concatenate((uPred,tPred), axis=1)"
   ]
  },
  {
   "cell_type": "code",
   "execution_count": null,
   "metadata": {},
   "outputs": [],
   "source": [
    "iVar     = 1\n",
    "\n",
    "output_1 = model.net.system_of_components['DeepONet'].components['Branch_1'].call(u, model.net.layers_dict, None, None, training=False)\n",
    "output_2 = model.net.system_of_components['DeepONet'].components['Branch_2'].call(u, model.net.layers_dict, None, None, training=False)\n",
    "\n",
    "fig = plt.figure(figsize=(12,12))\n",
    "ax  = fig.add_subplot(projection='3d')\n",
    "plt.plot(u[:,0], u[:,1], output_1[:,0], 'b-')\n",
    "plt.plot(u[:,0], u[:,1], output_1[:,1], 'b:')\n",
    "plt.plot(u[:,0], u[:,1], output_2[:,0], 'g-')\n",
    "plt.plot(u[:,0], u[:,1], output_2[:,1], 'g:')\n",
    "#plt.xlim([1.e-6, 1.e-2])\n",
    "plt.xlabel(r'x')\n",
    "plt.ylabel(r'v')\n",
    "plt.ylabel(r'$\\alpha_i$')"
   ]
  },
  {
   "cell_type": "code",
   "execution_count": null,
   "metadata": {},
   "outputs": [],
   "source": [
    "fig, ax1 = plt.subplots()\n",
    "ax2      = ax1.twinx() \n",
    "\n",
    "output_  = model.net.system_of_components['DeepONet'].components['Trunk_1'].call(tPred, model.net.layers_dict, None, None, training=False)\n",
    "ax1.plot(tPred, output_[:,0], '-', color=ColorVec[1], label=Label1)\n",
    "ax1.plot(tPred, output_[:,1], '-', color=ColorVec[1], label=Label2)\n",
    "\n",
    "output_  = model.net.system_of_components['DeepONet'].components['Trunk_2'].call(tPred, model.net.layers_dict, None, None, training=False)\n",
    "color    = ColorVec[0]\n",
    "ax2.plot(tPred, output_[:,0], '-', color=ColorVec[0])\n",
    "ax2.plot(tPred, output_[:,1], '-', color=ColorVec[0])\n",
    "\n",
    "ax1.set_xlabel('Time [s]', size=34)\n",
    "ax1.set_ylabel(r'$\\psi_{x_i}$', color=ColorVec[1], size=34)\n",
    "ax1.tick_params(axis='y', labelcolor=ColorVec[1])\n",
    "ax1.set_ylim([-3.5,3.5])\n",
    "\n",
    "color = 'k'\n",
    "ax2.set_ylabel(r'$\\psi_{v_i}$', color=ColorVec[0], size=34)  # we already handled the x-label with ax1\n",
    "ax2.tick_params(axis='y', labelcolor=ColorVec[0])\n",
    "ax2.set_ylim([-4.5,4.5])\n",
    "\n",
    "\n",
    "fig.tight_layout()  # otherwise the right y-label is slightly clipped\n",
    "\n",
    "if (FigDir):\n",
    "    plt.savefig(FigDir+'//MSD_Trunk_Modes.eps', format='eps', bbox_inches='tight')"
   ]
  },
  {
   "cell_type": "code",
   "execution_count": null,
   "metadata": {},
   "outputs": [],
   "source": []
  },
  {
   "cell_type": "code",
   "execution_count": null,
   "metadata": {},
   "outputs": [],
   "source": []
  },
  {
   "cell_type": "code",
   "execution_count": null,
   "metadata": {},
   "outputs": [],
   "source": []
  }
 ],
 "metadata": {
  "kernelspec": {
   "display_name": "Python 3",
   "language": "python",
   "name": "python3"
  },
  "language_info": {
   "codemirror_mode": {
    "name": "ipython",
    "version": 3
   },
   "file_extension": ".py",
   "mimetype": "text/x-python",
   "name": "python",
   "nbconvert_exporter": "python",
   "pygments_lexer": "ipython3",
   "version": "3.8.11"
  }
 },
 "nbformat": 4,
 "nbformat_minor": 4
}
